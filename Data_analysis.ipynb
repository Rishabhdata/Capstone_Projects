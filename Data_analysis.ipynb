{
 "cells": [
  {
   "cell_type": "code",
   "execution_count": 1,
   "id": "d5b8d2c1",
   "metadata": {},
   "outputs": [],
   "source": [
    "import pandas as pd\n",
    "import numpy as np\n",
    "import os\n",
    "import matplotlib.pyplot as plt\n",
    "import seaborn as sns\n",
    "import math\n",
    "import warnings\n",
    "warnings.filterwarnings('ignore')"
   ]
  },
  {
   "cell_type": "code",
   "execution_count": 133,
   "id": "7605ec8e",
   "metadata": {},
   "outputs": [
    {
     "data": {
      "text/plain": [
       "['11111-checkpoint.ipynb', '11111.ipynb', 'adidas.csv', 'players_20.csv']"
      ]
     },
     "execution_count": 133,
     "metadata": {},
     "output_type": "execute_result"
    }
   ],
   "source": [
    "os.chdir(r'C:\\Users\\admin\\Desktop\\Kaggle_competition\\Project_1')\n",
    "os.listdir()"
   ]
  },
  {
   "cell_type": "markdown",
   "id": "c2b474f3",
   "metadata": {},
   "source": [
    "### First we are going to read our data"
   ]
  },
  {
   "cell_type": "code",
   "execution_count": 134,
   "id": "17eebcb6",
   "metadata": {},
   "outputs": [],
   "source": [
    "df=pd.read_csv('adidas.csv')"
   ]
  },
  {
   "cell_type": "code",
   "execution_count": 135,
   "id": "d98272cb",
   "metadata": {},
   "outputs": [
    {
     "data": {
      "text/html": [
       "<div>\n",
       "<style scoped>\n",
       "    .dataframe tbody tr th:only-of-type {\n",
       "        vertical-align: middle;\n",
       "    }\n",
       "\n",
       "    .dataframe tbody tr th {\n",
       "        vertical-align: top;\n",
       "    }\n",
       "\n",
       "    .dataframe thead th {\n",
       "        text-align: right;\n",
       "    }\n",
       "</style>\n",
       "<table border=\"1\" class=\"dataframe\">\n",
       "  <thead>\n",
       "    <tr style=\"text-align: right;\">\n",
       "      <th></th>\n",
       "      <th>url</th>\n",
       "      <th>name</th>\n",
       "      <th>sku</th>\n",
       "      <th>selling_price</th>\n",
       "      <th>original_price</th>\n",
       "      <th>currency</th>\n",
       "      <th>availability</th>\n",
       "      <th>color</th>\n",
       "      <th>category</th>\n",
       "      <th>source</th>\n",
       "      <th>source_website</th>\n",
       "      <th>breadcrumbs</th>\n",
       "      <th>description</th>\n",
       "      <th>brand</th>\n",
       "      <th>images</th>\n",
       "      <th>country</th>\n",
       "      <th>language</th>\n",
       "      <th>average_rating</th>\n",
       "      <th>reviews_count</th>\n",
       "      <th>crawled_at</th>\n",
       "    </tr>\n",
       "  </thead>\n",
       "  <tbody>\n",
       "    <tr>\n",
       "      <th>0</th>\n",
       "      <td>https://www.adidas.com/us/beach-shorts/FJ5089....</td>\n",
       "      <td>Beach Shorts</td>\n",
       "      <td>FJ5089</td>\n",
       "      <td>40</td>\n",
       "      <td>NaN</td>\n",
       "      <td>USD</td>\n",
       "      <td>InStock</td>\n",
       "      <td>Black</td>\n",
       "      <td>Clothing</td>\n",
       "      <td>adidas United States</td>\n",
       "      <td>https://www.adidas.com</td>\n",
       "      <td>Women/Clothing</td>\n",
       "      <td>Splashing in the surf. Making memories with yo...</td>\n",
       "      <td>adidas</td>\n",
       "      <td>https://assets.adidas.com/images/w_600,f_auto,...</td>\n",
       "      <td>USA</td>\n",
       "      <td>en</td>\n",
       "      <td>4.5</td>\n",
       "      <td>35</td>\n",
       "      <td>2021-10-23 17:50:17.331255</td>\n",
       "    </tr>\n",
       "    <tr>\n",
       "      <th>1</th>\n",
       "      <td>https://www.adidas.com/us/five-ten-kestrel-lac...</td>\n",
       "      <td>Five Ten Kestrel Lace Mountain Bike Shoes</td>\n",
       "      <td>BC0770</td>\n",
       "      <td>150</td>\n",
       "      <td>NaN</td>\n",
       "      <td>USD</td>\n",
       "      <td>InStock</td>\n",
       "      <td>Grey</td>\n",
       "      <td>Shoes</td>\n",
       "      <td>adidas United States</td>\n",
       "      <td>https://www.adidas.com</td>\n",
       "      <td>Women/Shoes</td>\n",
       "      <td>Lace up and get after it. The Five Ten Kestrel...</td>\n",
       "      <td>adidas</td>\n",
       "      <td>https://assets.adidas.com/images/w_600,f_auto,...</td>\n",
       "      <td>USA</td>\n",
       "      <td>en</td>\n",
       "      <td>4.8</td>\n",
       "      <td>4</td>\n",
       "      <td>2021-10-23 17:50:17.423830</td>\n",
       "    </tr>\n",
       "    <tr>\n",
       "      <th>2</th>\n",
       "      <td>https://www.adidas.com/us/mexico-away-jersey/G...</td>\n",
       "      <td>Mexico Away Jersey</td>\n",
       "      <td>GC7946</td>\n",
       "      <td>70</td>\n",
       "      <td>NaN</td>\n",
       "      <td>USD</td>\n",
       "      <td>InStock</td>\n",
       "      <td>White</td>\n",
       "      <td>Clothing</td>\n",
       "      <td>adidas United States</td>\n",
       "      <td>https://www.adidas.com</td>\n",
       "      <td>Kids/Clothing</td>\n",
       "      <td>Clean and crisp, this adidas Mexico Away Jerse...</td>\n",
       "      <td>adidas</td>\n",
       "      <td>https://assets.adidas.com/images/w_600,f_auto,...</td>\n",
       "      <td>USA</td>\n",
       "      <td>en</td>\n",
       "      <td>4.9</td>\n",
       "      <td>42</td>\n",
       "      <td>2021-10-23 17:50:17.530834</td>\n",
       "    </tr>\n",
       "    <tr>\n",
       "      <th>3</th>\n",
       "      <td>https://www.adidas.com/us/five-ten-hiangle-pro...</td>\n",
       "      <td>Five Ten Hiangle Pro Competition Climbing Shoes</td>\n",
       "      <td>FV4744</td>\n",
       "      <td>160</td>\n",
       "      <td>NaN</td>\n",
       "      <td>USD</td>\n",
       "      <td>InStock</td>\n",
       "      <td>Black</td>\n",
       "      <td>Shoes</td>\n",
       "      <td>adidas United States</td>\n",
       "      <td>https://www.adidas.com</td>\n",
       "      <td>Five Ten/Shoes</td>\n",
       "      <td>The Hiangle Pro takes on the classic shape of ...</td>\n",
       "      <td>adidas</td>\n",
       "      <td>https://assets.adidas.com/images/w_600,f_auto,...</td>\n",
       "      <td>USA</td>\n",
       "      <td>en</td>\n",
       "      <td>3.7</td>\n",
       "      <td>7</td>\n",
       "      <td>2021-10-23 17:50:17.615054</td>\n",
       "    </tr>\n",
       "    <tr>\n",
       "      <th>4</th>\n",
       "      <td>https://www.adidas.com/us/mesh-broken-stripe-p...</td>\n",
       "      <td>Mesh Broken-Stripe Polo Shirt</td>\n",
       "      <td>GM0239</td>\n",
       "      <td>65</td>\n",
       "      <td>NaN</td>\n",
       "      <td>USD</td>\n",
       "      <td>InStock</td>\n",
       "      <td>Blue</td>\n",
       "      <td>Clothing</td>\n",
       "      <td>adidas United States</td>\n",
       "      <td>https://www.adidas.com</td>\n",
       "      <td>Men/Clothing</td>\n",
       "      <td>Step up to the tee relaxed. This adidas golf p...</td>\n",
       "      <td>adidas</td>\n",
       "      <td>https://assets.adidas.com/images/w_600,f_auto,...</td>\n",
       "      <td>USA</td>\n",
       "      <td>en</td>\n",
       "      <td>4.7</td>\n",
       "      <td>11</td>\n",
       "      <td>2021-10-23 17:50:17.702680</td>\n",
       "    </tr>\n",
       "  </tbody>\n",
       "</table>\n",
       "</div>"
      ],
      "text/plain": [
       "                                                 url  \\\n",
       "0  https://www.adidas.com/us/beach-shorts/FJ5089....   \n",
       "1  https://www.adidas.com/us/five-ten-kestrel-lac...   \n",
       "2  https://www.adidas.com/us/mexico-away-jersey/G...   \n",
       "3  https://www.adidas.com/us/five-ten-hiangle-pro...   \n",
       "4  https://www.adidas.com/us/mesh-broken-stripe-p...   \n",
       "\n",
       "                                              name     sku  selling_price  \\\n",
       "0                                     Beach Shorts  FJ5089             40   \n",
       "1        Five Ten Kestrel Lace Mountain Bike Shoes  BC0770            150   \n",
       "2                               Mexico Away Jersey  GC7946             70   \n",
       "3  Five Ten Hiangle Pro Competition Climbing Shoes  FV4744            160   \n",
       "4                    Mesh Broken-Stripe Polo Shirt  GM0239             65   \n",
       "\n",
       "  original_price currency availability  color  category                source  \\\n",
       "0            NaN      USD      InStock  Black  Clothing  adidas United States   \n",
       "1            NaN      USD      InStock   Grey     Shoes  adidas United States   \n",
       "2            NaN      USD      InStock  White  Clothing  adidas United States   \n",
       "3            NaN      USD      InStock  Black     Shoes  adidas United States   \n",
       "4            NaN      USD      InStock   Blue  Clothing  adidas United States   \n",
       "\n",
       "           source_website     breadcrumbs  \\\n",
       "0  https://www.adidas.com  Women/Clothing   \n",
       "1  https://www.adidas.com     Women/Shoes   \n",
       "2  https://www.adidas.com   Kids/Clothing   \n",
       "3  https://www.adidas.com  Five Ten/Shoes   \n",
       "4  https://www.adidas.com    Men/Clothing   \n",
       "\n",
       "                                         description   brand  \\\n",
       "0  Splashing in the surf. Making memories with yo...  adidas   \n",
       "1  Lace up and get after it. The Five Ten Kestrel...  adidas   \n",
       "2  Clean and crisp, this adidas Mexico Away Jerse...  adidas   \n",
       "3  The Hiangle Pro takes on the classic shape of ...  adidas   \n",
       "4  Step up to the tee relaxed. This adidas golf p...  adidas   \n",
       "\n",
       "                                              images country language  \\\n",
       "0  https://assets.adidas.com/images/w_600,f_auto,...     USA       en   \n",
       "1  https://assets.adidas.com/images/w_600,f_auto,...     USA       en   \n",
       "2  https://assets.adidas.com/images/w_600,f_auto,...     USA       en   \n",
       "3  https://assets.adidas.com/images/w_600,f_auto,...     USA       en   \n",
       "4  https://assets.adidas.com/images/w_600,f_auto,...     USA       en   \n",
       "\n",
       "   average_rating  reviews_count                  crawled_at  \n",
       "0             4.5             35  2021-10-23 17:50:17.331255  \n",
       "1             4.8              4  2021-10-23 17:50:17.423830  \n",
       "2             4.9             42  2021-10-23 17:50:17.530834  \n",
       "3             3.7              7  2021-10-23 17:50:17.615054  \n",
       "4             4.7             11  2021-10-23 17:50:17.702680  "
      ]
     },
     "execution_count": 135,
     "metadata": {},
     "output_type": "execute_result"
    }
   ],
   "source": [
    "df.head()"
   ]
  },
  {
   "cell_type": "code",
   "execution_count": 136,
   "id": "936fd1df",
   "metadata": {},
   "outputs": [
    {
     "data": {
      "text/plain": [
       "url                object\n",
       "name               object\n",
       "sku                object\n",
       "selling_price       int64\n",
       "original_price     object\n",
       "currency           object\n",
       "availability       object\n",
       "color              object\n",
       "category           object\n",
       "source             object\n",
       "source_website     object\n",
       "breadcrumbs        object\n",
       "description        object\n",
       "brand              object\n",
       "images             object\n",
       "country            object\n",
       "language           object\n",
       "average_rating    float64\n",
       "reviews_count       int64\n",
       "crawled_at         object\n",
       "dtype: object"
      ]
     },
     "execution_count": 136,
     "metadata": {},
     "output_type": "execute_result"
    }
   ],
   "source": [
    "df.dtypes"
   ]
  },
  {
   "cell_type": "code",
   "execution_count": 137,
   "id": "e8ff2c8a",
   "metadata": {},
   "outputs": [
    {
     "data": {
      "text/plain": [
       "url                0\n",
       "name               0\n",
       "sku                0\n",
       "selling_price      0\n",
       "original_price    16\n",
       "currency           0\n",
       "availability       0\n",
       "color              0\n",
       "category           0\n",
       "source             0\n",
       "source_website     0\n",
       "breadcrumbs        0\n",
       "description        0\n",
       "brand              0\n",
       "images             0\n",
       "country            0\n",
       "language           0\n",
       "average_rating     0\n",
       "reviews_count      0\n",
       "crawled_at         0\n",
       "dtype: int64"
      ]
     },
     "execution_count": 137,
     "metadata": {},
     "output_type": "execute_result"
    }
   ],
   "source": [
    "df.isna().sum()"
   ]
  },
  {
   "cell_type": "code",
   "execution_count": 138,
   "id": "b5eb545c",
   "metadata": {},
   "outputs": [
    {
     "data": {
      "text/plain": [
       "(845, 20)"
      ]
     },
     "execution_count": 138,
     "metadata": {},
     "output_type": "execute_result"
    }
   ],
   "source": [
    "df.shape"
   ]
  },
  {
   "cell_type": "code",
   "execution_count": 139,
   "id": "64ffecc8",
   "metadata": {},
   "outputs": [
    {
     "data": {
      "text/html": [
       "<div>\n",
       "<style scoped>\n",
       "    .dataframe tbody tr th:only-of-type {\n",
       "        vertical-align: middle;\n",
       "    }\n",
       "\n",
       "    .dataframe tbody tr th {\n",
       "        vertical-align: top;\n",
       "    }\n",
       "\n",
       "    .dataframe thead th {\n",
       "        text-align: right;\n",
       "    }\n",
       "</style>\n",
       "<table border=\"1\" class=\"dataframe\">\n",
       "  <thead>\n",
       "    <tr style=\"text-align: right;\">\n",
       "      <th></th>\n",
       "      <th>selling_price</th>\n",
       "      <th>average_rating</th>\n",
       "      <th>reviews_count</th>\n",
       "    </tr>\n",
       "  </thead>\n",
       "  <tbody>\n",
       "    <tr>\n",
       "      <th>selling_price</th>\n",
       "      <td>1.000000</td>\n",
       "      <td>-0.213004</td>\n",
       "      <td>0.102654</td>\n",
       "    </tr>\n",
       "    <tr>\n",
       "      <th>average_rating</th>\n",
       "      <td>-0.213004</td>\n",
       "      <td>1.000000</td>\n",
       "      <td>0.023585</td>\n",
       "    </tr>\n",
       "    <tr>\n",
       "      <th>reviews_count</th>\n",
       "      <td>0.102654</td>\n",
       "      <td>0.023585</td>\n",
       "      <td>1.000000</td>\n",
       "    </tr>\n",
       "  </tbody>\n",
       "</table>\n",
       "</div>"
      ],
      "text/plain": [
       "                selling_price  average_rating  reviews_count\n",
       "selling_price        1.000000       -0.213004       0.102654\n",
       "average_rating      -0.213004        1.000000       0.023585\n",
       "reviews_count        0.102654        0.023585       1.000000"
      ]
     },
     "execution_count": 139,
     "metadata": {},
     "output_type": "execute_result"
    }
   ],
   "source": [
    "df.corr()"
   ]
  },
  {
   "cell_type": "code",
   "execution_count": 140,
   "id": "73aa1c4d",
   "metadata": {},
   "outputs": [
    {
     "data": {
      "text/html": [
       "<div>\n",
       "<style scoped>\n",
       "    .dataframe tbody tr th:only-of-type {\n",
       "        vertical-align: middle;\n",
       "    }\n",
       "\n",
       "    .dataframe tbody tr th {\n",
       "        vertical-align: top;\n",
       "    }\n",
       "\n",
       "    .dataframe thead th {\n",
       "        text-align: right;\n",
       "    }\n",
       "</style>\n",
       "<table border=\"1\" class=\"dataframe\">\n",
       "  <thead>\n",
       "    <tr style=\"text-align: right;\">\n",
       "      <th></th>\n",
       "      <th>count</th>\n",
       "      <th>mean</th>\n",
       "      <th>std</th>\n",
       "      <th>min</th>\n",
       "      <th>25%</th>\n",
       "      <th>50%</th>\n",
       "      <th>75%</th>\n",
       "      <th>max</th>\n",
       "    </tr>\n",
       "  </thead>\n",
       "  <tbody>\n",
       "    <tr>\n",
       "      <th>selling_price</th>\n",
       "      <td>845.0</td>\n",
       "      <td>53.192899</td>\n",
       "      <td>31.411645</td>\n",
       "      <td>9.0</td>\n",
       "      <td>28.0</td>\n",
       "      <td>48.0</td>\n",
       "      <td>70.0</td>\n",
       "      <td>240.0</td>\n",
       "    </tr>\n",
       "    <tr>\n",
       "      <th>average_rating</th>\n",
       "      <td>845.0</td>\n",
       "      <td>4.608402</td>\n",
       "      <td>0.293795</td>\n",
       "      <td>1.0</td>\n",
       "      <td>4.5</td>\n",
       "      <td>4.7</td>\n",
       "      <td>4.8</td>\n",
       "      <td>5.0</td>\n",
       "    </tr>\n",
       "    <tr>\n",
       "      <th>reviews_count</th>\n",
       "      <td>845.0</td>\n",
       "      <td>426.178698</td>\n",
       "      <td>1229.158277</td>\n",
       "      <td>1.0</td>\n",
       "      <td>19.0</td>\n",
       "      <td>68.0</td>\n",
       "      <td>314.0</td>\n",
       "      <td>11750.0</td>\n",
       "    </tr>\n",
       "  </tbody>\n",
       "</table>\n",
       "</div>"
      ],
      "text/plain": [
       "                count        mean          std  min   25%   50%    75%  \\\n",
       "selling_price   845.0   53.192899    31.411645  9.0  28.0  48.0   70.0   \n",
       "average_rating  845.0    4.608402     0.293795  1.0   4.5   4.7    4.8   \n",
       "reviews_count   845.0  426.178698  1229.158277  1.0  19.0  68.0  314.0   \n",
       "\n",
       "                    max  \n",
       "selling_price     240.0  \n",
       "average_rating      5.0  \n",
       "reviews_count   11750.0  "
      ]
     },
     "execution_count": 140,
     "metadata": {},
     "output_type": "execute_result"
    }
   ],
   "source": [
    "df.describe().T"
   ]
  },
  {
   "cell_type": "code",
   "execution_count": 141,
   "id": "ec5ee65e",
   "metadata": {},
   "outputs": [
    {
     "data": {
      "text/plain": [
       "1.8934911242603552"
      ]
     },
     "execution_count": 141,
     "metadata": {},
     "output_type": "execute_result"
    }
   ],
   "source": [
    "aa=df.isna().sum()\n",
    "perc_missing=(np.sum(aa.values)/df.shape[0])*100\n",
    "perc_missing"
   ]
  },
  {
   "cell_type": "code",
   "execution_count": 142,
   "id": "cbce2de9",
   "metadata": {},
   "outputs": [],
   "source": [
    "# Since the percentage is less than 2 percent so we can drop the null values "
   ]
  },
  {
   "cell_type": "code",
   "execution_count": 143,
   "id": "f987de69",
   "metadata": {},
   "outputs": [],
   "source": [
    "df.dropna(how='any',inplace=True)"
   ]
  },
  {
   "cell_type": "code",
   "execution_count": 144,
   "id": "f3009e5a",
   "metadata": {},
   "outputs": [
    {
     "data": {
      "text/plain": [
       "url               0\n",
       "name              0\n",
       "sku               0\n",
       "selling_price     0\n",
       "original_price    0\n",
       "currency          0\n",
       "availability      0\n",
       "color             0\n",
       "category          0\n",
       "source            0\n",
       "source_website    0\n",
       "breadcrumbs       0\n",
       "description       0\n",
       "brand             0\n",
       "images            0\n",
       "country           0\n",
       "language          0\n",
       "average_rating    0\n",
       "reviews_count     0\n",
       "crawled_at        0\n",
       "dtype: int64"
      ]
     },
     "execution_count": 144,
     "metadata": {},
     "output_type": "execute_result"
    }
   ],
   "source": [
    "df.isna().sum()"
   ]
  },
  {
   "cell_type": "markdown",
   "id": "804f9276",
   "metadata": {},
   "source": [
    "## Univariate Analysis"
   ]
  },
  {
   "cell_type": "code",
   "execution_count": 145,
   "id": "f8ccc0f4",
   "metadata": {},
   "outputs": [],
   "source": [
    "obj=df.select_dtypes(include='object').columns"
   ]
  },
  {
   "cell_type": "code",
   "execution_count": 146,
   "id": "7ab187ba",
   "metadata": {},
   "outputs": [],
   "source": [
    "def obj_analysis(i):\n",
    "    aa1=df[i].value_counts()\n",
    "    aa2=df[i].value_counts(normalize=True)\n",
    "    aa3=pd.concat([aa1,aa2],axis=1)\n",
    "    return aa3"
   ]
  },
  {
   "cell_type": "code",
   "execution_count": 147,
   "id": "be6f241f",
   "metadata": {},
   "outputs": [
    {
     "name": "stdout",
     "output_type": "stream",
     "text": [
      "(829, 2)\n"
     ]
    },
    {
     "data": {
      "text/html": [
       "<div>\n",
       "<style scoped>\n",
       "    .dataframe tbody tr th:only-of-type {\n",
       "        vertical-align: middle;\n",
       "    }\n",
       "\n",
       "    .dataframe tbody tr th {\n",
       "        vertical-align: top;\n",
       "    }\n",
       "\n",
       "    .dataframe thead th {\n",
       "        text-align: right;\n",
       "    }\n",
       "</style>\n",
       "<table border=\"1\" class=\"dataframe\">\n",
       "  <thead>\n",
       "    <tr style=\"text-align: right;\">\n",
       "      <th></th>\n",
       "      <th>crawled_at</th>\n",
       "      <th>crawled_at</th>\n",
       "    </tr>\n",
       "  </thead>\n",
       "  <tbody>\n",
       "    <tr>\n",
       "      <th>2021-10-23 17:50:19.626607</th>\n",
       "      <td>1</td>\n",
       "      <td>0.001206</td>\n",
       "    </tr>\n",
       "    <tr>\n",
       "      <th>2021-10-23 17:51:42.903960</th>\n",
       "      <td>1</td>\n",
       "      <td>0.001206</td>\n",
       "    </tr>\n",
       "    <tr>\n",
       "      <th>2021-10-23 17:51:40.882211</th>\n",
       "      <td>1</td>\n",
       "      <td>0.001206</td>\n",
       "    </tr>\n",
       "    <tr>\n",
       "      <th>2021-10-23 17:51:40.960433</th>\n",
       "      <td>1</td>\n",
       "      <td>0.001206</td>\n",
       "    </tr>\n",
       "    <tr>\n",
       "      <th>2021-10-23 17:51:41.036267</th>\n",
       "      <td>1</td>\n",
       "      <td>0.001206</td>\n",
       "    </tr>\n",
       "    <tr>\n",
       "      <th>...</th>\n",
       "      <td>...</td>\n",
       "      <td>...</td>\n",
       "    </tr>\n",
       "    <tr>\n",
       "      <th>2021-10-23 17:51:01.626993</th>\n",
       "      <td>1</td>\n",
       "      <td>0.001206</td>\n",
       "    </tr>\n",
       "    <tr>\n",
       "      <th>2021-10-23 17:51:01.727629</th>\n",
       "      <td>1</td>\n",
       "      <td>0.001206</td>\n",
       "    </tr>\n",
       "    <tr>\n",
       "      <th>2021-10-23 17:51:01.808880</th>\n",
       "      <td>1</td>\n",
       "      <td>0.001206</td>\n",
       "    </tr>\n",
       "    <tr>\n",
       "      <th>2021-10-23 17:51:01.890309</th>\n",
       "      <td>1</td>\n",
       "      <td>0.001206</td>\n",
       "    </tr>\n",
       "    <tr>\n",
       "      <th>2021-10-23 17:52:32.398104</th>\n",
       "      <td>1</td>\n",
       "      <td>0.001206</td>\n",
       "    </tr>\n",
       "  </tbody>\n",
       "</table>\n",
       "<p>829 rows × 2 columns</p>\n",
       "</div>"
      ],
      "text/plain": [
       "                            crawled_at  crawled_at\n",
       "2021-10-23 17:50:19.626607           1    0.001206\n",
       "2021-10-23 17:51:42.903960           1    0.001206\n",
       "2021-10-23 17:51:40.882211           1    0.001206\n",
       "2021-10-23 17:51:40.960433           1    0.001206\n",
       "2021-10-23 17:51:41.036267           1    0.001206\n",
       "...                                ...         ...\n",
       "2021-10-23 17:51:01.626993           1    0.001206\n",
       "2021-10-23 17:51:01.727629           1    0.001206\n",
       "2021-10-23 17:51:01.808880           1    0.001206\n",
       "2021-10-23 17:51:01.890309           1    0.001206\n",
       "2021-10-23 17:52:32.398104           1    0.001206\n",
       "\n",
       "[829 rows x 2 columns]"
      ]
     },
     "execution_count": 147,
     "metadata": {},
     "output_type": "execute_result"
    }
   ],
   "source": [
    "print(obj_analysis('crawled_at').shape)\n",
    "obj_analysis('crawled_at')"
   ]
  },
  {
   "cell_type": "code",
   "execution_count": 149,
   "id": "0bfe9762",
   "metadata": {},
   "outputs": [],
   "source": [
    "dropp=['url','sku','currency','source','source_website','description','brand','images','country','language','crawled_at']\n",
    "# dropping currency,source,'source_website','brand','country','language' because there is ony one type of category\n",
    "# dropping 'name','url','sku','description','images',crawled_at because there are too many categories to consider."
   ]
  },
  {
   "cell_type": "code",
   "execution_count": 150,
   "id": "1134d73d",
   "metadata": {},
   "outputs": [
    {
     "data": {
      "text/plain": [
       "Index(['name', 'selling_price', 'original_price', 'availability', 'color',\n",
       "       'category', 'breadcrumbs', 'average_rating', 'reviews_count'],\n",
       "      dtype='object')"
      ]
     },
     "execution_count": 150,
     "metadata": {},
     "output_type": "execute_result"
    }
   ],
   "source": [
    "df.drop(dropp,axis=1,inplace=True)\n",
    "df.columns"
   ]
  },
  {
   "cell_type": "code",
   "execution_count": 151,
   "id": "449625c2",
   "metadata": {},
   "outputs": [
    {
     "data": {
      "text/html": [
       "<div>\n",
       "<style scoped>\n",
       "    .dataframe tbody tr th:only-of-type {\n",
       "        vertical-align: middle;\n",
       "    }\n",
       "\n",
       "    .dataframe tbody tr th {\n",
       "        vertical-align: top;\n",
       "    }\n",
       "\n",
       "    .dataframe thead th {\n",
       "        text-align: right;\n",
       "    }\n",
       "</style>\n",
       "<table border=\"1\" class=\"dataframe\">\n",
       "  <thead>\n",
       "    <tr style=\"text-align: right;\">\n",
       "      <th></th>\n",
       "      <th>name</th>\n",
       "      <th>selling_price</th>\n",
       "      <th>original_price</th>\n",
       "      <th>availability</th>\n",
       "      <th>color</th>\n",
       "      <th>category</th>\n",
       "      <th>breadcrumbs</th>\n",
       "      <th>average_rating</th>\n",
       "      <th>reviews_count</th>\n",
       "    </tr>\n",
       "  </thead>\n",
       "  <tbody>\n",
       "    <tr>\n",
       "      <th>15</th>\n",
       "      <td>Essentials Loose Logo Tank Top</td>\n",
       "      <td>20</td>\n",
       "      <td>$25</td>\n",
       "      <td>InStock</td>\n",
       "      <td>Purple</td>\n",
       "      <td>Clothing</td>\n",
       "      <td>Women/Clothing</td>\n",
       "      <td>4.8</td>\n",
       "      <td>116</td>\n",
       "    </tr>\n",
       "    <tr>\n",
       "      <th>16</th>\n",
       "      <td>Essentials Loose Logo Tank Top</td>\n",
       "      <td>20</td>\n",
       "      <td>$25</td>\n",
       "      <td>InStock</td>\n",
       "      <td>Pink</td>\n",
       "      <td>Clothing</td>\n",
       "      <td>Women/Clothing</td>\n",
       "      <td>4.8</td>\n",
       "      <td>116</td>\n",
       "    </tr>\n",
       "    <tr>\n",
       "      <th>18</th>\n",
       "      <td>Essentials Loose Logo Tank Top</td>\n",
       "      <td>20</td>\n",
       "      <td>$25</td>\n",
       "      <td>InStock</td>\n",
       "      <td>Green</td>\n",
       "      <td>Clothing</td>\n",
       "      <td>Women/Clothing</td>\n",
       "      <td>4.8</td>\n",
       "      <td>116</td>\n",
       "    </tr>\n",
       "    <tr>\n",
       "      <th>19</th>\n",
       "      <td>Formotion Sculpt Tights</td>\n",
       "      <td>48</td>\n",
       "      <td>$80</td>\n",
       "      <td>InStock</td>\n",
       "      <td>Blue</td>\n",
       "      <td>Clothing</td>\n",
       "      <td>Women/Clothing</td>\n",
       "      <td>4.2</td>\n",
       "      <td>144</td>\n",
       "    </tr>\n",
       "    <tr>\n",
       "      <th>20</th>\n",
       "      <td>Marvel X Ghosted.3 Firm Ground Cleats</td>\n",
       "      <td>64</td>\n",
       "      <td>$80</td>\n",
       "      <td>InStock</td>\n",
       "      <td>Blue</td>\n",
       "      <td>Shoes</td>\n",
       "      <td>Soccer/Shoes</td>\n",
       "      <td>4.4</td>\n",
       "      <td>160</td>\n",
       "    </tr>\n",
       "  </tbody>\n",
       "</table>\n",
       "</div>"
      ],
      "text/plain": [
       "                                     name  selling_price original_price  \\\n",
       "15         Essentials Loose Logo Tank Top             20            $25   \n",
       "16         Essentials Loose Logo Tank Top             20            $25   \n",
       "18         Essentials Loose Logo Tank Top             20            $25   \n",
       "19                Formotion Sculpt Tights             48            $80   \n",
       "20  Marvel X Ghosted.3 Firm Ground Cleats             64            $80   \n",
       "\n",
       "   availability   color  category     breadcrumbs  average_rating  \\\n",
       "15      InStock  Purple  Clothing  Women/Clothing             4.8   \n",
       "16      InStock    Pink  Clothing  Women/Clothing             4.8   \n",
       "18      InStock   Green  Clothing  Women/Clothing             4.8   \n",
       "19      InStock    Blue  Clothing  Women/Clothing             4.2   \n",
       "20      InStock    Blue     Shoes    Soccer/Shoes             4.4   \n",
       "\n",
       "    reviews_count  \n",
       "15            116  \n",
       "16            116  \n",
       "18            116  \n",
       "19            144  \n",
       "20            160  "
      ]
     },
     "execution_count": 151,
     "metadata": {},
     "output_type": "execute_result"
    }
   ],
   "source": [
    "df.head()"
   ]
  },
  {
   "cell_type": "code",
   "execution_count": 152,
   "id": "5d47736d",
   "metadata": {},
   "outputs": [
    {
     "data": {
      "text/plain": [
       "name               object\n",
       "selling_price       int64\n",
       "original_price     object\n",
       "availability       object\n",
       "color              object\n",
       "category           object\n",
       "breadcrumbs        object\n",
       "average_rating    float64\n",
       "reviews_count       int64\n",
       "dtype: object"
      ]
     },
     "execution_count": 152,
     "metadata": {},
     "output_type": "execute_result"
    }
   ],
   "source": [
    "df.dtypes"
   ]
  },
  {
   "cell_type": "code",
   "execution_count": 153,
   "id": "4e61ed3a",
   "metadata": {},
   "outputs": [],
   "source": [
    "# Since original price should be in integer so it has to be converted into integer and we can do it by eliminating &"
   ]
  },
  {
   "cell_type": "code",
   "execution_count": 154,
   "id": "06664f50",
   "metadata": {},
   "outputs": [],
   "source": [
    "df['original_price']=df['original_price'].apply(lambda x:int(x[1:]))"
   ]
  },
  {
   "cell_type": "code",
   "execution_count": 155,
   "id": "9ca53144",
   "metadata": {},
   "outputs": [
    {
     "data": {
      "text/plain": [
       "name               object\n",
       "selling_price       int64\n",
       "original_price      int64\n",
       "availability       object\n",
       "color              object\n",
       "category           object\n",
       "breadcrumbs        object\n",
       "average_rating    float64\n",
       "reviews_count       int64\n",
       "dtype: object"
      ]
     },
     "execution_count": 155,
     "metadata": {},
     "output_type": "execute_result"
    }
   ],
   "source": [
    "df.dtypes"
   ]
  },
  {
   "cell_type": "code",
   "execution_count": 156,
   "id": "c2f0c7ab",
   "metadata": {},
   "outputs": [
    {
     "data": {
      "text/plain": [
       "Women/Clothing           173\n",
       "Women/Shoes              153\n",
       "Men/Shoes                142\n",
       "Men/Clothing             125\n",
       "Kids/Shoes                69\n",
       "Originals/Shoes           35\n",
       "Kids/Clothing             27\n",
       "Training/Accessories      25\n",
       "Originals/Accessories     22\n",
       "Women/Accessories         16\n",
       "Men/Accessories           12\n",
       "Soccer/Shoes              10\n",
       "Swim/Shoes                 7\n",
       "Running/Shoes              5\n",
       "Soccer/Accessories         2\n",
       "Essentials/Shoes           1\n",
       "Originals/Clothing         1\n",
       "Essentials/Clothing        1\n",
       "Sportswear/Clothing        1\n",
       "Running/Accessories        1\n",
       "Kids/Accessories           1\n",
       "Name: breadcrumbs, dtype: int64"
      ]
     },
     "execution_count": 156,
     "metadata": {},
     "output_type": "execute_result"
    }
   ],
   "source": [
    "df['breadcrumbs'].value_counts()"
   ]
  },
  {
   "cell_type": "code",
   "execution_count": 157,
   "id": "dc349dc0",
   "metadata": {},
   "outputs": [],
   "source": [
    "df['category']=df['breadcrumbs'].apply(lambda x:x.split('/')[0])\n",
    "df['product_type']=df['breadcrumbs'].apply(lambda x:x.split('/')[1])"
   ]
  },
  {
   "cell_type": "code",
   "execution_count": 158,
   "id": "55d7a9ba",
   "metadata": {},
   "outputs": [
    {
     "data": {
      "text/html": [
       "<div>\n",
       "<style scoped>\n",
       "    .dataframe tbody tr th:only-of-type {\n",
       "        vertical-align: middle;\n",
       "    }\n",
       "\n",
       "    .dataframe tbody tr th {\n",
       "        vertical-align: top;\n",
       "    }\n",
       "\n",
       "    .dataframe thead th {\n",
       "        text-align: right;\n",
       "    }\n",
       "</style>\n",
       "<table border=\"1\" class=\"dataframe\">\n",
       "  <thead>\n",
       "    <tr style=\"text-align: right;\">\n",
       "      <th></th>\n",
       "      <th>name</th>\n",
       "      <th>selling_price</th>\n",
       "      <th>original_price</th>\n",
       "      <th>availability</th>\n",
       "      <th>color</th>\n",
       "      <th>category</th>\n",
       "      <th>breadcrumbs</th>\n",
       "      <th>average_rating</th>\n",
       "      <th>reviews_count</th>\n",
       "      <th>product_type</th>\n",
       "    </tr>\n",
       "  </thead>\n",
       "  <tbody>\n",
       "    <tr>\n",
       "      <th>15</th>\n",
       "      <td>Essentials Loose Logo Tank Top</td>\n",
       "      <td>20</td>\n",
       "      <td>25</td>\n",
       "      <td>InStock</td>\n",
       "      <td>Purple</td>\n",
       "      <td>Women</td>\n",
       "      <td>Women/Clothing</td>\n",
       "      <td>4.8</td>\n",
       "      <td>116</td>\n",
       "      <td>Clothing</td>\n",
       "    </tr>\n",
       "    <tr>\n",
       "      <th>16</th>\n",
       "      <td>Essentials Loose Logo Tank Top</td>\n",
       "      <td>20</td>\n",
       "      <td>25</td>\n",
       "      <td>InStock</td>\n",
       "      <td>Pink</td>\n",
       "      <td>Women</td>\n",
       "      <td>Women/Clothing</td>\n",
       "      <td>4.8</td>\n",
       "      <td>116</td>\n",
       "      <td>Clothing</td>\n",
       "    </tr>\n",
       "    <tr>\n",
       "      <th>18</th>\n",
       "      <td>Essentials Loose Logo Tank Top</td>\n",
       "      <td>20</td>\n",
       "      <td>25</td>\n",
       "      <td>InStock</td>\n",
       "      <td>Green</td>\n",
       "      <td>Women</td>\n",
       "      <td>Women/Clothing</td>\n",
       "      <td>4.8</td>\n",
       "      <td>116</td>\n",
       "      <td>Clothing</td>\n",
       "    </tr>\n",
       "    <tr>\n",
       "      <th>19</th>\n",
       "      <td>Formotion Sculpt Tights</td>\n",
       "      <td>48</td>\n",
       "      <td>80</td>\n",
       "      <td>InStock</td>\n",
       "      <td>Blue</td>\n",
       "      <td>Women</td>\n",
       "      <td>Women/Clothing</td>\n",
       "      <td>4.2</td>\n",
       "      <td>144</td>\n",
       "      <td>Clothing</td>\n",
       "    </tr>\n",
       "    <tr>\n",
       "      <th>20</th>\n",
       "      <td>Marvel X Ghosted.3 Firm Ground Cleats</td>\n",
       "      <td>64</td>\n",
       "      <td>80</td>\n",
       "      <td>InStock</td>\n",
       "      <td>Blue</td>\n",
       "      <td>Soccer</td>\n",
       "      <td>Soccer/Shoes</td>\n",
       "      <td>4.4</td>\n",
       "      <td>160</td>\n",
       "      <td>Shoes</td>\n",
       "    </tr>\n",
       "  </tbody>\n",
       "</table>\n",
       "</div>"
      ],
      "text/plain": [
       "                                     name  selling_price  original_price  \\\n",
       "15         Essentials Loose Logo Tank Top             20              25   \n",
       "16         Essentials Loose Logo Tank Top             20              25   \n",
       "18         Essentials Loose Logo Tank Top             20              25   \n",
       "19                Formotion Sculpt Tights             48              80   \n",
       "20  Marvel X Ghosted.3 Firm Ground Cleats             64              80   \n",
       "\n",
       "   availability   color category     breadcrumbs  average_rating  \\\n",
       "15      InStock  Purple    Women  Women/Clothing             4.8   \n",
       "16      InStock    Pink    Women  Women/Clothing             4.8   \n",
       "18      InStock   Green    Women  Women/Clothing             4.8   \n",
       "19      InStock    Blue    Women  Women/Clothing             4.2   \n",
       "20      InStock    Blue   Soccer    Soccer/Shoes             4.4   \n",
       "\n",
       "    reviews_count product_type  \n",
       "15            116     Clothing  \n",
       "16            116     Clothing  \n",
       "18            116     Clothing  \n",
       "19            144     Clothing  \n",
       "20            160        Shoes  "
      ]
     },
     "execution_count": 158,
     "metadata": {},
     "output_type": "execute_result"
    }
   ],
   "source": [
    "df.head()"
   ]
  },
  {
   "cell_type": "code",
   "execution_count": 159,
   "id": "2e5c688c",
   "metadata": {},
   "outputs": [],
   "source": [
    "df.drop('breadcrumbs',axis=1,inplace=True)"
   ]
  },
  {
   "cell_type": "code",
   "execution_count": 160,
   "id": "7bb58517",
   "metadata": {},
   "outputs": [
    {
     "data": {
      "text/html": [
       "<div>\n",
       "<style scoped>\n",
       "    .dataframe tbody tr th:only-of-type {\n",
       "        vertical-align: middle;\n",
       "    }\n",
       "\n",
       "    .dataframe tbody tr th {\n",
       "        vertical-align: top;\n",
       "    }\n",
       "\n",
       "    .dataframe thead th {\n",
       "        text-align: right;\n",
       "    }\n",
       "</style>\n",
       "<table border=\"1\" class=\"dataframe\">\n",
       "  <thead>\n",
       "    <tr style=\"text-align: right;\">\n",
       "      <th></th>\n",
       "      <th>name</th>\n",
       "      <th>selling_price</th>\n",
       "      <th>original_price</th>\n",
       "      <th>availability</th>\n",
       "      <th>color</th>\n",
       "      <th>category</th>\n",
       "      <th>average_rating</th>\n",
       "      <th>reviews_count</th>\n",
       "      <th>product_type</th>\n",
       "    </tr>\n",
       "  </thead>\n",
       "  <tbody>\n",
       "    <tr>\n",
       "      <th>15</th>\n",
       "      <td>Essentials Loose Logo Tank Top</td>\n",
       "      <td>20</td>\n",
       "      <td>25</td>\n",
       "      <td>InStock</td>\n",
       "      <td>Purple</td>\n",
       "      <td>Women</td>\n",
       "      <td>4.8</td>\n",
       "      <td>116</td>\n",
       "      <td>Clothing</td>\n",
       "    </tr>\n",
       "    <tr>\n",
       "      <th>16</th>\n",
       "      <td>Essentials Loose Logo Tank Top</td>\n",
       "      <td>20</td>\n",
       "      <td>25</td>\n",
       "      <td>InStock</td>\n",
       "      <td>Pink</td>\n",
       "      <td>Women</td>\n",
       "      <td>4.8</td>\n",
       "      <td>116</td>\n",
       "      <td>Clothing</td>\n",
       "    </tr>\n",
       "    <tr>\n",
       "      <th>18</th>\n",
       "      <td>Essentials Loose Logo Tank Top</td>\n",
       "      <td>20</td>\n",
       "      <td>25</td>\n",
       "      <td>InStock</td>\n",
       "      <td>Green</td>\n",
       "      <td>Women</td>\n",
       "      <td>4.8</td>\n",
       "      <td>116</td>\n",
       "      <td>Clothing</td>\n",
       "    </tr>\n",
       "    <tr>\n",
       "      <th>19</th>\n",
       "      <td>Formotion Sculpt Tights</td>\n",
       "      <td>48</td>\n",
       "      <td>80</td>\n",
       "      <td>InStock</td>\n",
       "      <td>Blue</td>\n",
       "      <td>Women</td>\n",
       "      <td>4.2</td>\n",
       "      <td>144</td>\n",
       "      <td>Clothing</td>\n",
       "    </tr>\n",
       "    <tr>\n",
       "      <th>20</th>\n",
       "      <td>Marvel X Ghosted.3 Firm Ground Cleats</td>\n",
       "      <td>64</td>\n",
       "      <td>80</td>\n",
       "      <td>InStock</td>\n",
       "      <td>Blue</td>\n",
       "      <td>Soccer</td>\n",
       "      <td>4.4</td>\n",
       "      <td>160</td>\n",
       "      <td>Shoes</td>\n",
       "    </tr>\n",
       "  </tbody>\n",
       "</table>\n",
       "</div>"
      ],
      "text/plain": [
       "                                     name  selling_price  original_price  \\\n",
       "15         Essentials Loose Logo Tank Top             20              25   \n",
       "16         Essentials Loose Logo Tank Top             20              25   \n",
       "18         Essentials Loose Logo Tank Top             20              25   \n",
       "19                Formotion Sculpt Tights             48              80   \n",
       "20  Marvel X Ghosted.3 Firm Ground Cleats             64              80   \n",
       "\n",
       "   availability   color category  average_rating  reviews_count product_type  \n",
       "15      InStock  Purple    Women             4.8            116     Clothing  \n",
       "16      InStock    Pink    Women             4.8            116     Clothing  \n",
       "18      InStock   Green    Women             4.8            116     Clothing  \n",
       "19      InStock    Blue    Women             4.2            144     Clothing  \n",
       "20      InStock    Blue   Soccer             4.4            160        Shoes  "
      ]
     },
     "execution_count": 160,
     "metadata": {},
     "output_type": "execute_result"
    }
   ],
   "source": [
    "df.head()"
   ]
  },
  {
   "cell_type": "code",
   "execution_count": 161,
   "id": "b64df3ec",
   "metadata": {},
   "outputs": [],
   "source": [
    "# Lets do some EDA"
   ]
  },
  {
   "cell_type": "markdown",
   "id": "c997b2ef",
   "metadata": {},
   "source": [
    "## lets lookout for outliers"
   ]
  },
  {
   "cell_type": "code",
   "execution_count": 162,
   "id": "ad8fba27",
   "metadata": {},
   "outputs": [
    {
     "data": {
      "text/html": [
       "<div>\n",
       "<style scoped>\n",
       "    .dataframe tbody tr th:only-of-type {\n",
       "        vertical-align: middle;\n",
       "    }\n",
       "\n",
       "    .dataframe tbody tr th {\n",
       "        vertical-align: top;\n",
       "    }\n",
       "\n",
       "    .dataframe thead th {\n",
       "        text-align: right;\n",
       "    }\n",
       "</style>\n",
       "<table border=\"1\" class=\"dataframe\">\n",
       "  <thead>\n",
       "    <tr style=\"text-align: right;\">\n",
       "      <th></th>\n",
       "      <th>selling_price</th>\n",
       "      <th>original_price</th>\n",
       "      <th>average_rating</th>\n",
       "      <th>reviews_count</th>\n",
       "    </tr>\n",
       "  </thead>\n",
       "  <tbody>\n",
       "    <tr>\n",
       "      <th>count</th>\n",
       "      <td>829.000000</td>\n",
       "      <td>829.000000</td>\n",
       "      <td>829.000000</td>\n",
       "      <td>829.000000</td>\n",
       "    </tr>\n",
       "    <tr>\n",
       "      <th>mean</th>\n",
       "      <td>52.911942</td>\n",
       "      <td>69.008444</td>\n",
       "      <td>4.608323</td>\n",
       "      <td>433.943305</td>\n",
       "    </tr>\n",
       "    <tr>\n",
       "      <th>std</th>\n",
       "      <td>31.151542</td>\n",
       "      <td>40.490127</td>\n",
       "      <td>0.292690</td>\n",
       "      <td>1239.690004</td>\n",
       "    </tr>\n",
       "    <tr>\n",
       "      <th>min</th>\n",
       "      <td>9.000000</td>\n",
       "      <td>14.000000</td>\n",
       "      <td>1.000000</td>\n",
       "      <td>1.000000</td>\n",
       "    </tr>\n",
       "    <tr>\n",
       "      <th>1%</th>\n",
       "      <td>12.000000</td>\n",
       "      <td>15.000000</td>\n",
       "      <td>3.900000</td>\n",
       "      <td>1.000000</td>\n",
       "    </tr>\n",
       "    <tr>\n",
       "      <th>2%</th>\n",
       "      <td>13.000000</td>\n",
       "      <td>18.000000</td>\n",
       "      <td>3.900000</td>\n",
       "      <td>1.000000</td>\n",
       "    </tr>\n",
       "    <tr>\n",
       "      <th>3%</th>\n",
       "      <td>16.000000</td>\n",
       "      <td>20.000000</td>\n",
       "      <td>4.000000</td>\n",
       "      <td>2.000000</td>\n",
       "    </tr>\n",
       "    <tr>\n",
       "      <th>4%</th>\n",
       "      <td>16.120000</td>\n",
       "      <td>22.000000</td>\n",
       "      <td>4.100000</td>\n",
       "      <td>2.000000</td>\n",
       "    </tr>\n",
       "    <tr>\n",
       "      <th>5%</th>\n",
       "      <td>18.000000</td>\n",
       "      <td>25.000000</td>\n",
       "      <td>4.100000</td>\n",
       "      <td>2.000000</td>\n",
       "    </tr>\n",
       "    <tr>\n",
       "      <th>10%</th>\n",
       "      <td>20.000000</td>\n",
       "      <td>25.000000</td>\n",
       "      <td>4.200000</td>\n",
       "      <td>5.000000</td>\n",
       "    </tr>\n",
       "    <tr>\n",
       "      <th>25%</th>\n",
       "      <td>28.000000</td>\n",
       "      <td>35.000000</td>\n",
       "      <td>4.500000</td>\n",
       "      <td>20.000000</td>\n",
       "    </tr>\n",
       "    <tr>\n",
       "      <th>50%</th>\n",
       "      <td>48.000000</td>\n",
       "      <td>65.000000</td>\n",
       "      <td>4.700000</td>\n",
       "      <td>72.000000</td>\n",
       "    </tr>\n",
       "    <tr>\n",
       "      <th>75%</th>\n",
       "      <td>68.000000</td>\n",
       "      <td>90.000000</td>\n",
       "      <td>4.800000</td>\n",
       "      <td>319.000000</td>\n",
       "    </tr>\n",
       "    <tr>\n",
       "      <th>90%</th>\n",
       "      <td>90.200000</td>\n",
       "      <td>120.000000</td>\n",
       "      <td>4.900000</td>\n",
       "      <td>880.400000</td>\n",
       "    </tr>\n",
       "    <tr>\n",
       "      <th>95%</th>\n",
       "      <td>105.000000</td>\n",
       "      <td>150.000000</td>\n",
       "      <td>5.000000</td>\n",
       "      <td>1866.000000</td>\n",
       "    </tr>\n",
       "    <tr>\n",
       "      <th>96%</th>\n",
       "      <td>112.000000</td>\n",
       "      <td>150.000000</td>\n",
       "      <td>5.000000</td>\n",
       "      <td>2274.000000</td>\n",
       "    </tr>\n",
       "    <tr>\n",
       "      <th>97%</th>\n",
       "      <td>120.960000</td>\n",
       "      <td>160.000000</td>\n",
       "      <td>5.000000</td>\n",
       "      <td>2540.000000</td>\n",
       "    </tr>\n",
       "    <tr>\n",
       "      <th>98%</th>\n",
       "      <td>131.080000</td>\n",
       "      <td>180.000000</td>\n",
       "      <td>5.000000</td>\n",
       "      <td>3850.720000</td>\n",
       "    </tr>\n",
       "    <tr>\n",
       "      <th>99%</th>\n",
       "      <td>180.000000</td>\n",
       "      <td>200.000000</td>\n",
       "      <td>5.000000</td>\n",
       "      <td>7291.000000</td>\n",
       "    </tr>\n",
       "    <tr>\n",
       "      <th>max</th>\n",
       "      <td>240.000000</td>\n",
       "      <td>300.000000</td>\n",
       "      <td>5.000000</td>\n",
       "      <td>11750.000000</td>\n",
       "    </tr>\n",
       "  </tbody>\n",
       "</table>\n",
       "</div>"
      ],
      "text/plain": [
       "       selling_price  original_price  average_rating  reviews_count\n",
       "count     829.000000      829.000000      829.000000     829.000000\n",
       "mean       52.911942       69.008444        4.608323     433.943305\n",
       "std        31.151542       40.490127        0.292690    1239.690004\n",
       "min         9.000000       14.000000        1.000000       1.000000\n",
       "1%         12.000000       15.000000        3.900000       1.000000\n",
       "2%         13.000000       18.000000        3.900000       1.000000\n",
       "3%         16.000000       20.000000        4.000000       2.000000\n",
       "4%         16.120000       22.000000        4.100000       2.000000\n",
       "5%         18.000000       25.000000        4.100000       2.000000\n",
       "10%        20.000000       25.000000        4.200000       5.000000\n",
       "25%        28.000000       35.000000        4.500000      20.000000\n",
       "50%        48.000000       65.000000        4.700000      72.000000\n",
       "75%        68.000000       90.000000        4.800000     319.000000\n",
       "90%        90.200000      120.000000        4.900000     880.400000\n",
       "95%       105.000000      150.000000        5.000000    1866.000000\n",
       "96%       112.000000      150.000000        5.000000    2274.000000\n",
       "97%       120.960000      160.000000        5.000000    2540.000000\n",
       "98%       131.080000      180.000000        5.000000    3850.720000\n",
       "99%       180.000000      200.000000        5.000000    7291.000000\n",
       "max       240.000000      300.000000        5.000000   11750.000000"
      ]
     },
     "execution_count": 162,
     "metadata": {},
     "output_type": "execute_result"
    }
   ],
   "source": [
    "df.describe(percentiles=[0.01,.02,.03,.04,.05,.1,.25,.5,.75,.9,.95,.96,.97,.98,.99])"
   ]
  },
  {
   "cell_type": "markdown",
   "id": "e0804be0",
   "metadata": {},
   "source": [
    "## Boxplot"
   ]
  },
  {
   "cell_type": "code",
   "execution_count": 163,
   "id": "24d1788d",
   "metadata": {},
   "outputs": [
    {
     "name": "stderr",
     "output_type": "stream",
     "text": [
      "C:\\Users\\admin\\anaconda3\\lib\\site-packages\\seaborn\\_decorators.py:36: FutureWarning: Pass the following variable as a keyword arg: x. From version 0.12, the only valid positional argument will be `data`, and passing other arguments without an explicit keyword will result in an error or misinterpretation.\n",
      "  warnings.warn(\n",
      "C:\\Users\\admin\\anaconda3\\lib\\site-packages\\seaborn\\_decorators.py:36: FutureWarning: Pass the following variable as a keyword arg: x. From version 0.12, the only valid positional argument will be `data`, and passing other arguments without an explicit keyword will result in an error or misinterpretation.\n",
      "  warnings.warn(\n",
      "C:\\Users\\admin\\anaconda3\\lib\\site-packages\\seaborn\\_decorators.py:36: FutureWarning: Pass the following variable as a keyword arg: x. From version 0.12, the only valid positional argument will be `data`, and passing other arguments without an explicit keyword will result in an error or misinterpretation.\n",
      "  warnings.warn(\n",
      "C:\\Users\\admin\\anaconda3\\lib\\site-packages\\seaborn\\_decorators.py:36: FutureWarning: Pass the following variable as a keyword arg: x. From version 0.12, the only valid positional argument will be `data`, and passing other arguments without an explicit keyword will result in an error or misinterpretation.\n",
      "  warnings.warn(\n"
     ]
    },
    {
     "data": {
      "image/png": "[encoded data removed]",
      "text/plain": [
       "<Figure size 648x648 with 1 Axes>"
      ]
     },
     "metadata": {
      "needs_background": "light"
     },
     "output_type": "display_data"
    },
    {
     "data": {
      "image/png": "[encoded data removed]",
      "text/plain": [
       "<Figure size 648x648 with 1 Axes>"
      ]
     },
     "metadata": {
      "needs_background": "light"
     },
     "output_type": "display_data"
    },
    {
     "data": {
      "image/png": "[encoded data removed]",
      "text/plain": [
       "<Figure size 648x648 with 1 Axes>"
      ]
     },
     "metadata": {
      "needs_background": "light"
     },
     "output_type": "display_data"
    },
    {
     "data": {
      "image/png": "[encoded data removed]",
      "text/plain": [
       "<Figure size 648x648 with 1 Axes>"
      ]
     },
     "metadata": {
      "needs_background": "light"
     },
     "output_type": "display_data"
    }
   ],
   "source": [
    "num=df.select_dtypes(exclude='object').columns\n",
    "for i in num:\n",
    "    plt.figure(figsize=(9,9))\n",
    "    sns.boxplot(df[i])\n",
    "    plt.title(i)\n",
    "plt.show()\n",
    "    "
   ]
  },
  {
   "cell_type": "code",
   "execution_count": 164,
   "id": "055f9ce9",
   "metadata": {},
   "outputs": [],
   "source": [
    "# as we can see selling_price,original_price,reviews_count has some upper outliers\n",
    "# as we can see averaging_rating has some lower outliers"
   ]
  },
  {
   "cell_type": "markdown",
   "id": "8a1deb46",
   "metadata": {},
   "source": [
    "## We can lookout for duplicate values"
   ]
  },
  {
   "cell_type": "code",
   "execution_count": 165,
   "id": "a3da0dae",
   "metadata": {},
   "outputs": [
    {
     "data": {
      "text/plain": [
       "65"
      ]
     },
     "execution_count": 165,
     "metadata": {},
     "output_type": "execute_result"
    }
   ],
   "source": [
    "df.duplicated().sum()"
   ]
  },
  {
   "cell_type": "markdown",
   "id": "4545d991",
   "metadata": {},
   "source": [
    "## Bi-variate analysis`"
   ]
  },
  {
   "cell_type": "code",
   "execution_count": 169,
   "id": "96d5bbc3",
   "metadata": {},
   "outputs": [
    {
     "data": {
      "image/png": "[encoded data removed]",
      "text/plain": [
       "<Figure size 432x288 with 2 Axes>"
      ]
     },
     "metadata": {
      "needs_background": "light"
     },
     "output_type": "display_data"
    }
   ],
   "source": [
    "## for continuous-continuous variable\n",
    "aa=df.corr()\n",
    "bb=aa[abs(aa)>0.5]\n",
    "sns.heatmap(aa,annot=True,cmap='coolwarm')\n",
    "plt.title('heatmap')\n",
    "plt.show()"
   ]
  },
  {
   "cell_type": "code",
   "execution_count": 171,
   "id": "e02c9c53",
   "metadata": {},
   "outputs": [],
   "source": [
    "# so we can see that selling price and original pice has very strong coorelation"
   ]
  },
  {
   "cell_type": "code",
   "execution_count": 173,
   "id": "253799ee",
   "metadata": {},
   "outputs": [
    {
     "data": {
      "image/png": "[encoded data removed]",
      "text/plain": [
       "<Figure size 432x288 with 1 Axes>"
      ]
     },
     "metadata": {
      "needs_background": "light"
     },
     "output_type": "display_data"
    }
   ],
   "source": [
    "plt.scatter(df['selling_price'],df['original_price'])\n",
    "plt.show() # these two feayure has a linear relationship between them"
   ]
  },
  {
   "cell_type": "code",
   "execution_count": null,
   "id": "21e0d3a9",
   "metadata": {},
   "outputs": [],
   "source": []
  },
  {
   "cell_type": "markdown",
   "id": "8533082e",
   "metadata": {},
   "source": [
    "### Distributions plot"
   ]
  },
  {
   "cell_type": "code",
   "execution_count": 184,
   "id": "738c7714",
   "metadata": {},
   "outputs": [
    {
     "data": {
      "image/png": "[encoded data removed]",
      "text/plain": [
       "<Figure size 432x288 with 1 Axes>"
      ]
     },
     "metadata": {
      "needs_background": "light"
     },
     "output_type": "display_data"
    },
    {
     "data": {
      "image/png": "[encoded data removed]",
      "text/plain": [
       "<Figure size 432x288 with 1 Axes>"
      ]
     },
     "metadata": {
      "needs_background": "light"
     },
     "output_type": "display_data"
    },
    {
     "data": {
      "image/png": "[encoded data removed]",
      "text/plain": [
       "<Figure size 432x288 with 1 Axes>"
      ]
     },
     "metadata": {
      "needs_background": "light"
     },
     "output_type": "display_data"
    },
    {
     "data": {
      "image/png": "[encoded data removed]",
      "text/plain": [
       "<Figure size 432x288 with 1 Axes>"
      ]
     },
     "metadata": {
      "needs_background": "light"
     },
     "output_type": "display_data"
    }
   ],
   "source": [
    "for i in num:\n",
    "    sns.distplot(df[i])\n",
    "    plt.title(i)\n",
    "    plt.show()"
   ]
  },
  {
   "cell_type": "code",
   "execution_count": 182,
   "id": "2f0e6948",
   "metadata": {},
   "outputs": [
    {
     "name": "stdout",
     "output_type": "stream",
     "text": [
      "skewness selling_price 1.6035632413907996\n",
      "kurtosis selling_price 4.397460131677713\n",
      "skewness original_price 1.3586501438421288\n",
      "kurtosis original_price 2.874257454362692\n",
      "skewness average_rating -3.018597900323552\n",
      "kurtosis average_rating 28.39170077703864\n",
      "skewness reviews_count 6.12345950201822\n",
      "kurtosis reviews_count 44.79207748305819\n"
     ]
    }
   ],
   "source": [
    "for i in num:\n",
    "    print(f'skewness {i}',df[i].skew())\n",
    "    print(f'kurtosis {i}',df[i].kurtosis())"
   ]
  },
  {
   "cell_type": "code",
   "execution_count": 186,
   "id": "10bfa4da",
   "metadata": {},
   "outputs": [],
   "source": [
    "## Conclusion from this distribution plot graph\n",
    "# for selling_price it is right skewed and majority of the data lies 10-70\n",
    "# for original_price it is right skewed and majority of the data lies 10-90\n",
    "# for average_rating it is left skewed and majority of the data lies 4-5\n",
    "# for reviews_rating it is right skewed and majority of the data lies below 6"
   ]
  },
  {
   "cell_type": "code",
   "execution_count": 224,
   "id": "be8ffc1e",
   "metadata": {},
   "outputs": [],
   "source": [
    "def obj_analysis_graph(i):\n",
    "    aa1=df[i].value_counts()\n",
    "    aa2=df[i].value_counts(normalize=True)\n",
    "    aa3=pd.concat([aa1,aa2],axis=1)\n",
    "    aa3.columns=['counts','perc']\n",
    "    plt.figure(figsize=(10,6))\n",
    "    plt.barh(aa3.index[:5],aa3['counts'][:5],color=['green','red','blue','pink','grey'])\n",
    "    plt.ylabel(i)\n",
    "    plt.xlabel(\"No.of Products\")\n",
    "    plt.title(\"Product Selling Price ($USD) Vs. No.of Products\")\n",
    "    plt.show()"
   ]
  },
  {
   "cell_type": "code",
   "execution_count": 225,
   "id": "77c58da8",
   "metadata": {},
   "outputs": [
    {
     "data": {
      "image/png": "[encoded data removed]",
      "text/plain": [
       "<Figure size 720x432 with 1 Axes>"
      ]
     },
     "metadata": {
      "needs_background": "light"
     },
     "output_type": "display_data"
    }
   ],
   "source": [
    "obj_analysis_graph('name')"
   ]
  },
  {
   "cell_type": "code",
   "execution_count": 227,
   "id": "5b60b844",
   "metadata": {},
   "outputs": [
    {
     "name": "stdout",
     "output_type": "stream",
     "text": [
      "The Maximun Selling Price is: 240 USD\n"
     ]
    }
   ],
   "source": [
    "# Maximum Selling Price\n",
    "\n",
    "print(\"The Maximun Selling Price is:\",df['selling_price'].max(),\"USD\")"
   ]
  },
  {
   "cell_type": "code",
   "execution_count": 229,
   "id": "de09f926",
   "metadata": {},
   "outputs": [
    {
     "name": "stdout",
     "output_type": "stream",
     "text": [
      "The Maximun Selling Price is: 9 USD\n"
     ]
    }
   ],
   "source": [
    "# Minimum Selling Price\n",
    "\n",
    "print(\"The Maximun Selling Price is:\",df['selling_price'].min(),\"USD\")"
   ]
  },
  {
   "cell_type": "code",
   "execution_count": 232,
   "id": "91e46a0b",
   "metadata": {},
   "outputs": [
    {
     "name": "stdout",
     "output_type": "stream",
     "text": [
      "The Maximun Selling Price is: 52.91 USD\n"
     ]
    }
   ],
   "source": [
    "# Averae Selling Price\n",
    "\n",
    "print(\"The Maximun Selling Price is:\",round(df['selling_price'].mean(),2),\"USD\")"
   ]
  },
  {
   "cell_type": "code",
   "execution_count": 233,
   "id": "1016c06b",
   "metadata": {},
   "outputs": [
    {
     "data": {
      "text/plain": [
       "Index(['name', 'selling_price', 'original_price', 'availability', 'color',\n",
       "       'category', 'average_rating', 'reviews_count', 'product_type'],\n",
       "      dtype='object')"
      ]
     },
     "execution_count": 233,
     "metadata": {},
     "output_type": "execute_result"
    }
   ],
   "source": [
    "df.columns"
   ]
  },
  {
   "cell_type": "code",
   "execution_count": 234,
   "id": "d53c49f5",
   "metadata": {},
   "outputs": [
    {
     "data": {
      "text/plain": [
       "name               object\n",
       "selling_price       int64\n",
       "original_price      int64\n",
       "availability       object\n",
       "color              object\n",
       "category           object\n",
       "average_rating    float64\n",
       "reviews_count       int64\n",
       "product_type       object\n",
       "dtype: object"
      ]
     },
     "execution_count": 234,
     "metadata": {},
     "output_type": "execute_result"
    }
   ],
   "source": [
    "df.dtypes"
   ]
  },
  {
   "cell_type": "code",
   "execution_count": 238,
   "id": "1198ddec",
   "metadata": {},
   "outputs": [
    {
     "data": {
      "image/png": "[encoded data removed]",
      "text/plain": [
       "<Figure size 432x288 with 1 Axes>"
      ]
     },
     "metadata": {
      "needs_background": "light"
     },
     "output_type": "display_data"
    }
   ],
   "source": [
    "sns.boxplot(x=df['color'],y=df['selling_price'])\n",
    "plt.xticks(rotation=90)\n",
    "plt.show()"
   ]
  },
  {
   "cell_type": "code",
   "execution_count": 254,
   "id": "f9a8f3d6",
   "metadata": {},
   "outputs": [
    {
     "data": {
      "image/png": "[encoded data removed]",
      "text/plain": [
       "<Figure size 648x648 with 1 Axes>"
      ]
     },
     "metadata": {
      "needs_background": "light"
     },
     "output_type": "display_data"
    }
   ],
   "source": [
    "plt.figure(figsize=(9,9))\n",
    "sns.scatterplot(df['selling_price'],df['original_price'],hue=df['color'],markers='*',size=20)\n",
    "plt.show()"
   ]
  },
  {
   "cell_type": "code",
   "execution_count": 264,
   "id": "e4c295d2",
   "metadata": {},
   "outputs": [
    {
     "name": "stdout",
     "output_type": "stream",
     "text": [
      "name               object\n",
      "selling_price       int64\n",
      "original_price      int64\n",
      "availability       object\n",
      "color              object\n",
      "category           object\n",
      "average_rating    float64\n",
      "reviews_count       int64\n",
      "product_type       object\n",
      "dtype: object\n"
     ]
    }
   ],
   "source": [
    "print(df.dtypes)"
   ]
  },
  {
   "cell_type": "code",
   "execution_count": 266,
   "id": "584d31e7",
   "metadata": {},
   "outputs": [
    {
     "data": {
      "text/html": [
       "<div>\n",
       "<style scoped>\n",
       "    .dataframe tbody tr th:only-of-type {\n",
       "        vertical-align: middle;\n",
       "    }\n",
       "\n",
       "    .dataframe tbody tr th {\n",
       "        vertical-align: top;\n",
       "    }\n",
       "\n",
       "    .dataframe thead tr th {\n",
       "        text-align: left;\n",
       "    }\n",
       "\n",
       "    .dataframe thead tr:last-of-type th {\n",
       "        text-align: right;\n",
       "    }\n",
       "</style>\n",
       "<table border=\"1\" class=\"dataframe\">\n",
       "  <thead>\n",
       "    <tr>\n",
       "      <th></th>\n",
       "      <th></th>\n",
       "      <th colspan=\"3\" halign=\"left\">selling_price</th>\n",
       "      <th colspan=\"3\" halign=\"left\">original_price</th>\n",
       "      <th colspan=\"3\" halign=\"left\">reviews_count</th>\n",
       "    </tr>\n",
       "    <tr>\n",
       "      <th></th>\n",
       "      <th></th>\n",
       "      <th>min</th>\n",
       "      <th>max</th>\n",
       "      <th>mean</th>\n",
       "      <th>min</th>\n",
       "      <th>max</th>\n",
       "      <th>mean</th>\n",
       "      <th>min</th>\n",
       "      <th>max</th>\n",
       "      <th>mean</th>\n",
       "    </tr>\n",
       "    <tr>\n",
       "      <th>product_type</th>\n",
       "      <th>category</th>\n",
       "      <th></th>\n",
       "      <th></th>\n",
       "      <th></th>\n",
       "      <th></th>\n",
       "      <th></th>\n",
       "      <th></th>\n",
       "      <th></th>\n",
       "      <th></th>\n",
       "      <th></th>\n",
       "    </tr>\n",
       "  </thead>\n",
       "  <tbody>\n",
       "    <tr>\n",
       "      <th rowspan=\"7\" valign=\"top\">Accessories</th>\n",
       "      <th>Kids</th>\n",
       "      <td>13</td>\n",
       "      <td>13</td>\n",
       "      <td>13.000000</td>\n",
       "      <td>16</td>\n",
       "      <td>16</td>\n",
       "      <td>16.000000</td>\n",
       "      <td>41</td>\n",
       "      <td>41</td>\n",
       "      <td>41.000000</td>\n",
       "    </tr>\n",
       "    <tr>\n",
       "      <th>Men</th>\n",
       "      <td>10</td>\n",
       "      <td>23</td>\n",
       "      <td>16.000000</td>\n",
       "      <td>14</td>\n",
       "      <td>28</td>\n",
       "      <td>20.166667</td>\n",
       "      <td>2</td>\n",
       "      <td>120</td>\n",
       "      <td>33.416667</td>\n",
       "    </tr>\n",
       "    <tr>\n",
       "      <th>Originals</th>\n",
       "      <td>9</td>\n",
       "      <td>196</td>\n",
       "      <td>43.727273</td>\n",
       "      <td>14</td>\n",
       "      <td>280</td>\n",
       "      <td>60.500000</td>\n",
       "      <td>1</td>\n",
       "      <td>298</td>\n",
       "      <td>50.272727</td>\n",
       "    </tr>\n",
       "    <tr>\n",
       "      <th>Running</th>\n",
       "      <td>21</td>\n",
       "      <td>21</td>\n",
       "      <td>21.000000</td>\n",
       "      <td>30</td>\n",
       "      <td>30</td>\n",
       "      <td>30.000000</td>\n",
       "      <td>25</td>\n",
       "      <td>25</td>\n",
       "      <td>25.000000</td>\n",
       "    </tr>\n",
       "    <tr>\n",
       "      <th>Soccer</th>\n",
       "      <td>18</td>\n",
       "      <td>32</td>\n",
       "      <td>25.000000</td>\n",
       "      <td>22</td>\n",
       "      <td>45</td>\n",
       "      <td>33.500000</td>\n",
       "      <td>5</td>\n",
       "      <td>38</td>\n",
       "      <td>21.500000</td>\n",
       "    </tr>\n",
       "    <tr>\n",
       "      <th>Training</th>\n",
       "      <td>12</td>\n",
       "      <td>36</td>\n",
       "      <td>21.360000</td>\n",
       "      <td>15</td>\n",
       "      <td>50</td>\n",
       "      <td>28.360000</td>\n",
       "      <td>1</td>\n",
       "      <td>273</td>\n",
       "      <td>69.480000</td>\n",
       "    </tr>\n",
       "    <tr>\n",
       "      <th>Women</th>\n",
       "      <td>10</td>\n",
       "      <td>40</td>\n",
       "      <td>19.500000</td>\n",
       "      <td>14</td>\n",
       "      <td>50</td>\n",
       "      <td>25.250000</td>\n",
       "      <td>2</td>\n",
       "      <td>154</td>\n",
       "      <td>40.250000</td>\n",
       "    </tr>\n",
       "    <tr>\n",
       "      <th rowspan=\"6\" valign=\"top\">Clothing</th>\n",
       "      <th>Essentials</th>\n",
       "      <td>44</td>\n",
       "      <td>44</td>\n",
       "      <td>44.000000</td>\n",
       "      <td>55</td>\n",
       "      <td>55</td>\n",
       "      <td>55.000000</td>\n",
       "      <td>29</td>\n",
       "      <td>29</td>\n",
       "      <td>29.000000</td>\n",
       "    </tr>\n",
       "    <tr>\n",
       "      <th>Kids</th>\n",
       "      <td>19</td>\n",
       "      <td>60</td>\n",
       "      <td>30.555556</td>\n",
       "      <td>23</td>\n",
       "      <td>75</td>\n",
       "      <td>40.074074</td>\n",
       "      <td>1</td>\n",
       "      <td>74</td>\n",
       "      <td>13.259259</td>\n",
       "    </tr>\n",
       "    <tr>\n",
       "      <th>Men</th>\n",
       "      <td>18</td>\n",
       "      <td>240</td>\n",
       "      <td>39.760000</td>\n",
       "      <td>25</td>\n",
       "      <td>300</td>\n",
       "      <td>51.384000</td>\n",
       "      <td>1</td>\n",
       "      <td>1352</td>\n",
       "      <td>105.024000</td>\n",
       "    </tr>\n",
       "    <tr>\n",
       "      <th>Originals</th>\n",
       "      <td>60</td>\n",
       "      <td>60</td>\n",
       "      <td>60.000000</td>\n",
       "      <td>75</td>\n",
       "      <td>75</td>\n",
       "      <td>75.000000</td>\n",
       "      <td>2</td>\n",
       "      <td>2</td>\n",
       "      <td>2.000000</td>\n",
       "    </tr>\n",
       "    <tr>\n",
       "      <th>Sportswear</th>\n",
       "      <td>72</td>\n",
       "      <td>72</td>\n",
       "      <td>72.000000</td>\n",
       "      <td>80</td>\n",
       "      <td>80</td>\n",
       "      <td>80.000000</td>\n",
       "      <td>26</td>\n",
       "      <td>26</td>\n",
       "      <td>26.000000</td>\n",
       "    </tr>\n",
       "    <tr>\n",
       "      <th>Women</th>\n",
       "      <td>16</td>\n",
       "      <td>128</td>\n",
       "      <td>38.924855</td>\n",
       "      <td>20</td>\n",
       "      <td>160</td>\n",
       "      <td>48.936416</td>\n",
       "      <td>1</td>\n",
       "      <td>671</td>\n",
       "      <td>50.416185</td>\n",
       "    </tr>\n",
       "    <tr>\n",
       "      <th rowspan=\"8\" valign=\"top\">Shoes</th>\n",
       "      <th>Essentials</th>\n",
       "      <td>60</td>\n",
       "      <td>60</td>\n",
       "      <td>60.000000</td>\n",
       "      <td>85</td>\n",
       "      <td>85</td>\n",
       "      <td>85.000000</td>\n",
       "      <td>120</td>\n",
       "      <td>120</td>\n",
       "      <td>120.000000</td>\n",
       "    </tr>\n",
       "    <tr>\n",
       "      <th>Kids</th>\n",
       "      <td>24</td>\n",
       "      <td>128</td>\n",
       "      <td>50.956522</td>\n",
       "      <td>30</td>\n",
       "      <td>160</td>\n",
       "      <td>66.710145</td>\n",
       "      <td>3</td>\n",
       "      <td>602</td>\n",
       "      <td>133.739130</td>\n",
       "    </tr>\n",
       "    <tr>\n",
       "      <th>Men</th>\n",
       "      <td>20</td>\n",
       "      <td>180</td>\n",
       "      <td>79.676056</td>\n",
       "      <td>25</td>\n",
       "      <td>200</td>\n",
       "      <td>101.091549</td>\n",
       "      <td>1</td>\n",
       "      <td>11750</td>\n",
       "      <td>816.894366</td>\n",
       "    </tr>\n",
       "    <tr>\n",
       "      <th>Originals</th>\n",
       "      <td>44</td>\n",
       "      <td>180</td>\n",
       "      <td>89.400000</td>\n",
       "      <td>55</td>\n",
       "      <td>200</td>\n",
       "      <td>112.714286</td>\n",
       "      <td>49</td>\n",
       "      <td>11750</td>\n",
       "      <td>1943.657143</td>\n",
       "    </tr>\n",
       "    <tr>\n",
       "      <th>Running</th>\n",
       "      <td>98</td>\n",
       "      <td>144</td>\n",
       "      <td>119.200000</td>\n",
       "      <td>140</td>\n",
       "      <td>180</td>\n",
       "      <td>156.000000</td>\n",
       "      <td>491</td>\n",
       "      <td>584</td>\n",
       "      <td>528.200000</td>\n",
       "    </tr>\n",
       "    <tr>\n",
       "      <th>Soccer</th>\n",
       "      <td>64</td>\n",
       "      <td>200</td>\n",
       "      <td>84.000000</td>\n",
       "      <td>80</td>\n",
       "      <td>250</td>\n",
       "      <td>105.000000</td>\n",
       "      <td>24</td>\n",
       "      <td>281</td>\n",
       "      <td>152.100000</td>\n",
       "    </tr>\n",
       "    <tr>\n",
       "      <th>Swim</th>\n",
       "      <td>20</td>\n",
       "      <td>48</td>\n",
       "      <td>32.142857</td>\n",
       "      <td>25</td>\n",
       "      <td>60</td>\n",
       "      <td>39.285714</td>\n",
       "      <td>79</td>\n",
       "      <td>7291</td>\n",
       "      <td>4403.000000</td>\n",
       "    </tr>\n",
       "    <tr>\n",
       "      <th>Women</th>\n",
       "      <td>20</td>\n",
       "      <td>126</td>\n",
       "      <td>61.405229</td>\n",
       "      <td>25</td>\n",
       "      <td>180</td>\n",
       "      <td>85.849673</td>\n",
       "      <td>3</td>\n",
       "      <td>9636</td>\n",
       "      <td>687.052288</td>\n",
       "    </tr>\n",
       "  </tbody>\n",
       "</table>\n",
       "</div>"
      ],
      "text/plain": [
       "                        selling_price                  original_price       \\\n",
       "                                  min  max        mean            min  max   \n",
       "product_type category                                                        \n",
       "Accessories  Kids                  13   13   13.000000             16   16   \n",
       "             Men                   10   23   16.000000             14   28   \n",
       "             Originals              9  196   43.727273             14  280   \n",
       "             Running               21   21   21.000000             30   30   \n",
       "             Soccer                18   32   25.000000             22   45   \n",
       "             Training              12   36   21.360000             15   50   \n",
       "             Women                 10   40   19.500000             14   50   \n",
       "Clothing     Essentials            44   44   44.000000             55   55   \n",
       "             Kids                  19   60   30.555556             23   75   \n",
       "             Men                   18  240   39.760000             25  300   \n",
       "             Originals             60   60   60.000000             75   75   \n",
       "             Sportswear            72   72   72.000000             80   80   \n",
       "             Women                 16  128   38.924855             20  160   \n",
       "Shoes        Essentials            60   60   60.000000             85   85   \n",
       "             Kids                  24  128   50.956522             30  160   \n",
       "             Men                   20  180   79.676056             25  200   \n",
       "             Originals             44  180   89.400000             55  200   \n",
       "             Running               98  144  119.200000            140  180   \n",
       "             Soccer                64  200   84.000000             80  250   \n",
       "             Swim                  20   48   32.142857             25   60   \n",
       "             Women                 20  126   61.405229             25  180   \n",
       "\n",
       "                                    reviews_count                      \n",
       "                               mean           min    max         mean  \n",
       "product_type category                                                  \n",
       "Accessories  Kids         16.000000            41     41    41.000000  \n",
       "             Men          20.166667             2    120    33.416667  \n",
       "             Originals    60.500000             1    298    50.272727  \n",
       "             Running      30.000000            25     25    25.000000  \n",
       "             Soccer       33.500000             5     38    21.500000  \n",
       "             Training     28.360000             1    273    69.480000  \n",
       "             Women        25.250000             2    154    40.250000  \n",
       "Clothing     Essentials   55.000000            29     29    29.000000  \n",
       "             Kids         40.074074             1     74    13.259259  \n",
       "             Men          51.384000             1   1352   105.024000  \n",
       "             Originals    75.000000             2      2     2.000000  \n",
       "             Sportswear   80.000000            26     26    26.000000  \n",
       "             Women        48.936416             1    671    50.416185  \n",
       "Shoes        Essentials   85.000000           120    120   120.000000  \n",
       "             Kids         66.710145             3    602   133.739130  \n",
       "             Men         101.091549             1  11750   816.894366  \n",
       "             Originals   112.714286            49  11750  1943.657143  \n",
       "             Running     156.000000           491    584   528.200000  \n",
       "             Soccer      105.000000            24    281   152.100000  \n",
       "             Swim         39.285714            79   7291  4403.000000  \n",
       "             Women        85.849673             3   9636   687.052288  "
      ]
     },
     "execution_count": 266,
     "metadata": {},
     "output_type": "execute_result"
    }
   ],
   "source": [
    "# Minimum Sales,original_price,reviews_count ,Maximum sales,original_price,reviews_count, Mean sales price,original_price\n",
    "#reviews_count,across \\'Product Type' and 'Category'\n",
    "df.groupby(['product_type','category']).agg({'selling_price':['min','max','mean'],'original_price':['min','max','mean'], \\\n",
    "                                            'reviews_count':['min','max','mean']})"
   ]
  },
  {
   "cell_type": "code",
   "execution_count": 267,
   "id": "ee43a82b",
   "metadata": {},
   "outputs": [
    {
     "data": {
      "text/html": [
       "<div>\n",
       "<style scoped>\n",
       "    .dataframe tbody tr th:only-of-type {\n",
       "        vertical-align: middle;\n",
       "    }\n",
       "\n",
       "    .dataframe tbody tr th {\n",
       "        vertical-align: top;\n",
       "    }\n",
       "\n",
       "    .dataframe thead tr th {\n",
       "        text-align: left;\n",
       "    }\n",
       "\n",
       "    .dataframe thead tr:last-of-type th {\n",
       "        text-align: right;\n",
       "    }\n",
       "</style>\n",
       "<table border=\"1\" class=\"dataframe\">\n",
       "  <thead>\n",
       "    <tr>\n",
       "      <th></th>\n",
       "      <th colspan=\"3\" halign=\"left\">selling_price</th>\n",
       "      <th colspan=\"3\" halign=\"left\">original_price</th>\n",
       "      <th colspan=\"3\" halign=\"left\">reviews_count</th>\n",
       "    </tr>\n",
       "    <tr>\n",
       "      <th></th>\n",
       "      <th>min</th>\n",
       "      <th>max</th>\n",
       "      <th>mean</th>\n",
       "      <th>min</th>\n",
       "      <th>max</th>\n",
       "      <th>mean</th>\n",
       "      <th>min</th>\n",
       "      <th>max</th>\n",
       "      <th>mean</th>\n",
       "    </tr>\n",
       "    <tr>\n",
       "      <th>color</th>\n",
       "      <th></th>\n",
       "      <th></th>\n",
       "      <th></th>\n",
       "      <th></th>\n",
       "      <th></th>\n",
       "      <th></th>\n",
       "      <th></th>\n",
       "      <th></th>\n",
       "      <th></th>\n",
       "    </tr>\n",
       "  </thead>\n",
       "  <tbody>\n",
       "    <tr>\n",
       "      <th>Beige</th>\n",
       "      <td>14</td>\n",
       "      <td>108</td>\n",
       "      <td>71.833333</td>\n",
       "      <td>20</td>\n",
       "      <td>120</td>\n",
       "      <td>94.166667</td>\n",
       "      <td>1</td>\n",
       "      <td>83</td>\n",
       "      <td>49.666667</td>\n",
       "    </tr>\n",
       "    <tr>\n",
       "      <th>Black</th>\n",
       "      <td>13</td>\n",
       "      <td>240</td>\n",
       "      <td>55.759777</td>\n",
       "      <td>18</td>\n",
       "      <td>300</td>\n",
       "      <td>72.340782</td>\n",
       "      <td>1</td>\n",
       "      <td>11750</td>\n",
       "      <td>363.307263</td>\n",
       "    </tr>\n",
       "    <tr>\n",
       "      <th>Blue</th>\n",
       "      <td>18</td>\n",
       "      <td>180</td>\n",
       "      <td>46.303922</td>\n",
       "      <td>25</td>\n",
       "      <td>200</td>\n",
       "      <td>60.029412</td>\n",
       "      <td>2</td>\n",
       "      <td>7291</td>\n",
       "      <td>357.264706</td>\n",
       "    </tr>\n",
       "    <tr>\n",
       "      <th>Brown</th>\n",
       "      <td>112</td>\n",
       "      <td>112</td>\n",
       "      <td>112.000000</td>\n",
       "      <td>160</td>\n",
       "      <td>160</td>\n",
       "      <td>160.000000</td>\n",
       "      <td>2</td>\n",
       "      <td>2</td>\n",
       "      <td>2.000000</td>\n",
       "    </tr>\n",
       "    <tr>\n",
       "      <th>Burgundy</th>\n",
       "      <td>19</td>\n",
       "      <td>60</td>\n",
       "      <td>35.333333</td>\n",
       "      <td>23</td>\n",
       "      <td>75</td>\n",
       "      <td>47.000000</td>\n",
       "      <td>3</td>\n",
       "      <td>377</td>\n",
       "      <td>94.222222</td>\n",
       "    </tr>\n",
       "    <tr>\n",
       "      <th>Gold</th>\n",
       "      <td>20</td>\n",
       "      <td>28</td>\n",
       "      <td>25.333333</td>\n",
       "      <td>25</td>\n",
       "      <td>35</td>\n",
       "      <td>31.666667</td>\n",
       "      <td>70</td>\n",
       "      <td>3812</td>\n",
       "      <td>1361.000000</td>\n",
       "    </tr>\n",
       "    <tr>\n",
       "      <th>Green</th>\n",
       "      <td>12</td>\n",
       "      <td>144</td>\n",
       "      <td>49.237288</td>\n",
       "      <td>15</td>\n",
       "      <td>180</td>\n",
       "      <td>63.338983</td>\n",
       "      <td>1</td>\n",
       "      <td>2540</td>\n",
       "      <td>166.152542</td>\n",
       "    </tr>\n",
       "    <tr>\n",
       "      <th>Grey</th>\n",
       "      <td>10</td>\n",
       "      <td>180</td>\n",
       "      <td>54.632911</td>\n",
       "      <td>14</td>\n",
       "      <td>200</td>\n",
       "      <td>70.670886</td>\n",
       "      <td>1</td>\n",
       "      <td>3938</td>\n",
       "      <td>364.607595</td>\n",
       "    </tr>\n",
       "    <tr>\n",
       "      <th>Multi</th>\n",
       "      <td>46</td>\n",
       "      <td>60</td>\n",
       "      <td>54.500000</td>\n",
       "      <td>65</td>\n",
       "      <td>75</td>\n",
       "      <td>70.000000</td>\n",
       "      <td>1</td>\n",
       "      <td>1599</td>\n",
       "      <td>800.250000</td>\n",
       "    </tr>\n",
       "    <tr>\n",
       "      <th>Multicolor</th>\n",
       "      <td>11</td>\n",
       "      <td>64</td>\n",
       "      <td>27.100000</td>\n",
       "      <td>15</td>\n",
       "      <td>80</td>\n",
       "      <td>35.000000</td>\n",
       "      <td>2</td>\n",
       "      <td>120</td>\n",
       "      <td>36.550000</td>\n",
       "    </tr>\n",
       "    <tr>\n",
       "      <th>Orange</th>\n",
       "      <td>20</td>\n",
       "      <td>180</td>\n",
       "      <td>59.454545</td>\n",
       "      <td>25</td>\n",
       "      <td>200</td>\n",
       "      <td>72.727273</td>\n",
       "      <td>1</td>\n",
       "      <td>1518</td>\n",
       "      <td>310.545455</td>\n",
       "    </tr>\n",
       "    <tr>\n",
       "      <th>Pink</th>\n",
       "      <td>20</td>\n",
       "      <td>128</td>\n",
       "      <td>42.741935</td>\n",
       "      <td>25</td>\n",
       "      <td>160</td>\n",
       "      <td>56.951613</td>\n",
       "      <td>1</td>\n",
       "      <td>7291</td>\n",
       "      <td>375.903226</td>\n",
       "    </tr>\n",
       "    <tr>\n",
       "      <th>Purple</th>\n",
       "      <td>17</td>\n",
       "      <td>105</td>\n",
       "      <td>47.741935</td>\n",
       "      <td>24</td>\n",
       "      <td>150</td>\n",
       "      <td>62.000000</td>\n",
       "      <td>1</td>\n",
       "      <td>3812</td>\n",
       "      <td>225.225806</td>\n",
       "    </tr>\n",
       "    <tr>\n",
       "      <th>Red</th>\n",
       "      <td>18</td>\n",
       "      <td>105</td>\n",
       "      <td>40.760000</td>\n",
       "      <td>22</td>\n",
       "      <td>150</td>\n",
       "      <td>52.160000</td>\n",
       "      <td>1</td>\n",
       "      <td>2540</td>\n",
       "      <td>279.480000</td>\n",
       "    </tr>\n",
       "    <tr>\n",
       "      <th>Silver</th>\n",
       "      <td>80</td>\n",
       "      <td>80</td>\n",
       "      <td>80.000000</td>\n",
       "      <td>100</td>\n",
       "      <td>100</td>\n",
       "      <td>100.000000</td>\n",
       "      <td>24</td>\n",
       "      <td>24</td>\n",
       "      <td>24.000000</td>\n",
       "    </tr>\n",
       "    <tr>\n",
       "      <th>Turquoise</th>\n",
       "      <td>70</td>\n",
       "      <td>144</td>\n",
       "      <td>107.000000</td>\n",
       "      <td>100</td>\n",
       "      <td>180</td>\n",
       "      <td>140.000000</td>\n",
       "      <td>77</td>\n",
       "      <td>584</td>\n",
       "      <td>330.500000</td>\n",
       "    </tr>\n",
       "    <tr>\n",
       "      <th>White</th>\n",
       "      <td>9</td>\n",
       "      <td>180</td>\n",
       "      <td>59.353211</td>\n",
       "      <td>14</td>\n",
       "      <td>200</td>\n",
       "      <td>78.568807</td>\n",
       "      <td>1</td>\n",
       "      <td>11750</td>\n",
       "      <td>743.114679</td>\n",
       "    </tr>\n",
       "    <tr>\n",
       "      <th>Yellow</th>\n",
       "      <td>18</td>\n",
       "      <td>200</td>\n",
       "      <td>70.941176</td>\n",
       "      <td>25</td>\n",
       "      <td>250</td>\n",
       "      <td>89.882353</td>\n",
       "      <td>7</td>\n",
       "      <td>2540</td>\n",
       "      <td>418.882353</td>\n",
       "    </tr>\n",
       "  </tbody>\n",
       "</table>\n",
       "</div>"
      ],
      "text/plain": [
       "           selling_price                  original_price                   \\\n",
       "                     min  max        mean            min  max        mean   \n",
       "color                                                                       \n",
       "Beige                 14  108   71.833333             20  120   94.166667   \n",
       "Black                 13  240   55.759777             18  300   72.340782   \n",
       "Blue                  18  180   46.303922             25  200   60.029412   \n",
       "Brown                112  112  112.000000            160  160  160.000000   \n",
       "Burgundy              19   60   35.333333             23   75   47.000000   \n",
       "Gold                  20   28   25.333333             25   35   31.666667   \n",
       "Green                 12  144   49.237288             15  180   63.338983   \n",
       "Grey                  10  180   54.632911             14  200   70.670886   \n",
       "Multi                 46   60   54.500000             65   75   70.000000   \n",
       "Multicolor            11   64   27.100000             15   80   35.000000   \n",
       "Orange                20  180   59.454545             25  200   72.727273   \n",
       "Pink                  20  128   42.741935             25  160   56.951613   \n",
       "Purple                17  105   47.741935             24  150   62.000000   \n",
       "Red                   18  105   40.760000             22  150   52.160000   \n",
       "Silver                80   80   80.000000            100  100  100.000000   \n",
       "Turquoise             70  144  107.000000            100  180  140.000000   \n",
       "White                  9  180   59.353211             14  200   78.568807   \n",
       "Yellow                18  200   70.941176             25  250   89.882353   \n",
       "\n",
       "           reviews_count                      \n",
       "                     min    max         mean  \n",
       "color                                         \n",
       "Beige                  1     83    49.666667  \n",
       "Black                  1  11750   363.307263  \n",
       "Blue                   2   7291   357.264706  \n",
       "Brown                  2      2     2.000000  \n",
       "Burgundy               3    377    94.222222  \n",
       "Gold                  70   3812  1361.000000  \n",
       "Green                  1   2540   166.152542  \n",
       "Grey                   1   3938   364.607595  \n",
       "Multi                  1   1599   800.250000  \n",
       "Multicolor             2    120    36.550000  \n",
       "Orange                 1   1518   310.545455  \n",
       "Pink                   1   7291   375.903226  \n",
       "Purple                 1   3812   225.225806  \n",
       "Red                    1   2540   279.480000  \n",
       "Silver                24     24    24.000000  \n",
       "Turquoise             77    584   330.500000  \n",
       "White                  1  11750   743.114679  \n",
       "Yellow                 7   2540   418.882353  "
      ]
     },
     "execution_count": 267,
     "metadata": {},
     "output_type": "execute_result"
    }
   ],
   "source": [
    "# color wise max,min and mean selling price and original price and reviews count\n",
    "df.groupby('color').agg({'selling_price':['min','max','mean'],'original_price':['min','max','mean'], \\\n",
    "                                            'reviews_count':['min','max','mean']})"
   ]
  },
  {
   "cell_type": "code",
   "execution_count": 277,
   "id": "9c090deb",
   "metadata": {},
   "outputs": [],
   "source": [
    "def continuous_analysis(x):\n",
    "    print(f'{x} maximum is {df[x].max()}')\n",
    "    print(f'{x} minimum is {df[x].min()}')\n",
    "    print(f'{x} average is {df[x].mean()}')"
   ]
  },
  {
   "cell_type": "code",
   "execution_count": 278,
   "id": "a03d82f9",
   "metadata": {},
   "outputs": [
    {
     "name": "stdout",
     "output_type": "stream",
     "text": [
      "selling_price maximum is 240\n",
      "selling_price minimum is 9\n",
      "selling_price average is 52.91194209891435\n"
     ]
    }
   ],
   "source": [
    "# Selling price maximum, minumum and average value\n",
    "selling_pricee=continuous_analysis('selling_price')"
   ]
  },
  {
   "cell_type": "code",
   "execution_count": 276,
   "id": "944e913b",
   "metadata": {},
   "outputs": [
    {
     "name": "stdout",
     "output_type": "stream",
     "text": [
      "original_price maximum 300\n",
      "original_price minimum 14\n",
      "original_price average 69.00844390832329\n"
     ]
    }
   ],
   "source": [
    "# original price maximum, minumum and average value\n",
    "original_pricee=continuous_analysis('original_price')"
   ]
  },
  {
   "cell_type": "code",
   "execution_count": 280,
   "id": "51f0bd82",
   "metadata": {},
   "outputs": [
    {
     "name": "stdout",
     "output_type": "stream",
     "text": [
      "average_rating maximum is 5.0\n",
      "average_rating minimum is 1.0\n",
      "average_rating average is 4.608323281061517\n"
     ]
    }
   ],
   "source": [
    "# Averaging rating maximum, minumum and average value\n",
    "average_rating=continuous_analysis('average_rating')"
   ]
  },
  {
   "cell_type": "code",
   "execution_count": 281,
   "id": "8ac84991",
   "metadata": {},
   "outputs": [
    {
     "name": "stdout",
     "output_type": "stream",
     "text": [
      "reviews_count maximum is 11750\n",
      "reviews_count minimum is 1\n",
      "reviews_count average is 433.9433051869723\n"
     ]
    }
   ],
   "source": [
    "# Reviews count maximum, minumum and average value\n",
    "reviews_count=continuous_analysis('reviews_count')"
   ]
  },
  {
   "cell_type": "code",
   "execution_count": 282,
   "id": "702f2cef",
   "metadata": {},
   "outputs": [
    {
     "data": {
      "image/png": "[encoded data removed]",
      "text/plain": [
       "<Figure size 864x288 with 1 Axes>"
      ]
     },
     "metadata": {
      "needs_background": "light"
     },
     "output_type": "display_data"
    }
   ],
   "source": [
    "# Top 5 - 'Reviews Count' and no.of particular 'Reviews Count' occurances\n",
    "\n",
    "plt.figure(figsize=(12,4))\n",
    "df['average_rating'].value_counts().head(5).plot(kind='barh', color={'#864879','#2D4263','#C84B31', '#ECDBBA', '#B3541E'})\n",
    "plt.ylabel('Reviews Count')\n",
    "plt.xlabel('no.of particular Reviews Count occurances')\n",
    "plt.title(\"Top 5 - 'Reviews Count' and no.of particular 'Reviews Count' occurances\")\n",
    "plt.show();"
   ]
  },
  {
   "cell_type": "code",
   "execution_count": 283,
   "id": "0b90ec96",
   "metadata": {},
   "outputs": [
    {
     "data": {
      "image/png": "[encoded data removed]",
      "text/plain": [
       "<Figure size 720x288 with 1 Axes>"
      ]
     },
     "metadata": {},
     "output_type": "display_data"
    }
   ],
   "source": [
    "# Top 5 - Average Rating Provided\n",
    "\n",
    "labels = df['average_rating'].value_counts().head(5).index\n",
    "pie, ax = plt.subplots(figsize=[10,4])\n",
    "plt.pie(x=df['average_rating'].value_counts().head(5).values, autopct=\"%.1f%%\", explode=[0.05]*5, labels=labels, pctdistance=0.5)\n",
    "plt.title(\"# Top 5 - Average Rating Provided in the DataFrame\", fontsize=14);\n",
    "plt.tight_layout();"
   ]
  },
  {
   "cell_type": "code",
   "execution_count": 286,
   "id": "76226e1d",
   "metadata": {},
   "outputs": [
    {
     "data": {
      "image/png": "[encoded data removed]",
      "text/plain": [
       "<Figure size 720x288 with 1 Axes>"
      ]
     },
     "metadata": {},
     "output_type": "display_data"
    }
   ],
   "source": [
    "# Top-5 Products according to Category\n",
    "labels = df['category'].value_counts().head(5).index\n",
    "pie, ax = plt.subplots(figsize=[10,4])\n",
    "plt.pie(x=df['category'].value_counts().head(5).values, autopct=\"%.1f%%\", explode=[0.05]*5, labels=labels, pctdistance=0.5)\n",
    "plt.title(\"Top 5 - Products Sold according to Category in the DataFrame\", fontsize=14);\n",
    "plt.tight_layout();"
   ]
  },
  {
   "cell_type": "code",
   "execution_count": 290,
   "id": "e659cafb",
   "metadata": {},
   "outputs": [
    {
     "data": {
      "image/png": "[encoded data removed]",
      "text/plain": [
       "<Figure size 720x288 with 1 Axes>"
      ]
     },
     "metadata": {},
     "output_type": "display_data"
    }
   ],
   "source": [
    "# No.of Products according to Product Type\n",
    "\n",
    "labels = df['product_type'].value_counts().index\n",
    "pie, ax = plt.subplots(figsize=[10,4])\n",
    "plt.pie(x=df['product_type'].value_counts().values, autopct=\"%.1f%%\", explode=[0.05]*3, labels=labels, pctdistance=0.5)\n",
    "plt.title(\"No.of Products according to Product Type in the DataFrame\", fontsize=14);\n",
    "plt.tight_layout();"
   ]
  },
  {
   "cell_type": "code",
   "execution_count": 289,
   "id": "a163efb6",
   "metadata": {},
   "outputs": [
    {
     "data": {
      "text/plain": [
       "Index(['name', 'selling_price', 'original_price', 'availability', 'color',\n",
       "       'category', 'average_rating', 'reviews_count', 'product_type'],\n",
       "      dtype='object')"
      ]
     },
     "execution_count": 289,
     "metadata": {},
     "output_type": "execute_result"
    }
   ],
   "source": [
    "df.columns"
   ]
  },
  {
   "cell_type": "code",
   "execution_count": 293,
   "id": "aaa1258d",
   "metadata": {},
   "outputs": [],
   "source": [
    "# Calculating Discount\n",
    "\n",
    "df['Discount'] = df['original_price'] - df['selling_price']\n"
   ]
  },
  {
   "cell_type": "code",
   "execution_count": 296,
   "id": "5a61b0e0",
   "metadata": {},
   "outputs": [],
   "source": [
    "# Calculating Discount percentage\n",
    "df['Discount(%)'] = round(((df['original_price'] - df['selling_price']) / (df['original_price']))*100,2)"
   ]
  },
  {
   "cell_type": "code",
   "execution_count": 298,
   "id": "91c46a22",
   "metadata": {},
   "outputs": [
    {
     "data": {
      "image/png": "[encoded data removed]",
      "text/plain": [
       "<Figure size 720x720 with 1 Axes>"
      ]
     },
     "metadata": {},
     "output_type": "display_data"
    }
   ],
   "source": [
    "# Top 15 - Most Given Discount Percentage in the DataFrame\n",
    "\n",
    "labels = df['Discount(%)'].value_counts().head(15).index\n",
    "pie, ax = plt.subplots(figsize=[10,10])\n",
    "plt.pie(x=df['Discount(%)'].value_counts().head(15).values, autopct=\"%.1f%%\", explode=[0.06]*15, labels=labels, pctdistance=0.5)\n",
    "plt.title(\"Top 15 - Most Given Discount Percenatage in the DataFrame\", fontsize=14);\n",
    "plt.tight_layout();"
   ]
  },
  {
   "cell_type": "code",
   "execution_count": null,
   "id": "dde0dfcd",
   "metadata": {},
   "outputs": [],
   "source": []
  }
 ],
 "metadata": {
  "kernelspec": {
   "display_name": "Python 3 (ipykernel)",
   "language": "python",
   "name": "python3"
  },
  "language_info": {
   "codemirror_mode": {
    "name": "ipython",
    "version": 3
   },
   "file_extension": ".py",
   "mimetype": "text/x-python",
   "name": "python",
   "nbconvert_exporter": "python",
   "pygments_lexer": "ipython3",
   "version": "3.9.12"
  }
 },
 "nbformat": 4,
 "nbformat_minor": 5
}
