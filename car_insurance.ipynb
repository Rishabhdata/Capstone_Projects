{
 "cells": [
  {
   "cell_type": "code",
   "execution_count": 1,
   "id": "4a0358e9",
   "metadata": {},
   "outputs": [],
   "source": [
    "import os\n",
    "import pandas as pd\n",
    "import numpy as np\n",
    "import matplotlib.pyplot as plt\n",
    "import seaborn as sns\n",
    "from sklearn.preprocessing import LabelEncoder\n",
    "from sklearn.ensemble import RandomForestClassifier\n",
    "import warnings\n",
    "warnings.filterwarnings('ignore')\n",
    "from sklearn.preprocessing import StandardScaler\n",
    "from sklearn.model_selection import train_test_split\n",
    "from sklearn.linear_model import LogisticRegression\n",
    "from sklearn.model_selection import StratifiedKFold,GridSearchCV\n",
    "from sklearn.metrics import classification_report,confusion_matrix,roc_curve,roc_auc_score"
   ]
  },
  {
   "cell_type": "code",
   "execution_count": 2,
   "id": "44ff3dd9",
   "metadata": {},
   "outputs": [],
   "source": [
    "os.chdir(r'C:\\Users\\admin\\Desktop\\Kaggle_competition\\car_insurance')"
   ]
  },
  {
   "cell_type": "code",
   "execution_count": 3,
   "id": "6baa3e3e",
   "metadata": {},
   "outputs": [
    {
     "data": {
      "text/plain": [
       "['.ipynb_checkpoints',\n",
       " 'car_insurance-checkpoint.ipynb',\n",
       " 'car_insurance.ipynb',\n",
       " 'sample_submission.csv',\n",
       " 'test.csv',\n",
       " 'train.csv']"
      ]
     },
     "execution_count": 3,
     "metadata": {},
     "output_type": "execute_result"
    }
   ],
   "source": [
    "os.listdir()"
   ]
  },
  {
   "cell_type": "code",
   "execution_count": 4,
   "id": "950f0117",
   "metadata": {},
   "outputs": [],
   "source": [
    "train=pd.read_csv('train.csv')\n",
    "test=pd.read_csv('test.csv')"
   ]
  },
  {
   "cell_type": "code",
   "execution_count": 5,
   "id": "80ffb18f",
   "metadata": {},
   "outputs": [],
   "source": [
    "pd.set_option('display.max_rows',100)\n",
    "pd.set_option('display.max_columns',100)"
   ]
  },
  {
   "cell_type": "code",
   "execution_count": 6,
   "id": "33bfb4f7",
   "metadata": {},
   "outputs": [
    {
     "data": {
      "text/html": [
       "<div>\n",
       "<style scoped>\n",
       "    .dataframe tbody tr th:only-of-type {\n",
       "        vertical-align: middle;\n",
       "    }\n",
       "\n",
       "    .dataframe tbody tr th {\n",
       "        vertical-align: top;\n",
       "    }\n",
       "\n",
       "    .dataframe thead th {\n",
       "        text-align: right;\n",
       "    }\n",
       "</style>\n",
       "<table border=\"1\" class=\"dataframe\">\n",
       "  <thead>\n",
       "    <tr style=\"text-align: right;\">\n",
       "      <th></th>\n",
       "      <th>policy_id</th>\n",
       "      <th>policy_tenure</th>\n",
       "      <th>age_of_car</th>\n",
       "      <th>age_of_policyholder</th>\n",
       "      <th>area_cluster</th>\n",
       "      <th>population_density</th>\n",
       "      <th>make</th>\n",
       "      <th>segment</th>\n",
       "      <th>model</th>\n",
       "      <th>fuel_type</th>\n",
       "      <th>max_torque</th>\n",
       "      <th>max_power</th>\n",
       "      <th>engine_type</th>\n",
       "      <th>airbags</th>\n",
       "      <th>is_esc</th>\n",
       "      <th>is_adjustable_steering</th>\n",
       "      <th>is_tpms</th>\n",
       "      <th>is_parking_sensors</th>\n",
       "      <th>is_parking_camera</th>\n",
       "      <th>rear_brakes_type</th>\n",
       "      <th>displacement</th>\n",
       "      <th>cylinder</th>\n",
       "      <th>transmission_type</th>\n",
       "      <th>gear_box</th>\n",
       "      <th>steering_type</th>\n",
       "      <th>turning_radius</th>\n",
       "      <th>length</th>\n",
       "      <th>width</th>\n",
       "      <th>height</th>\n",
       "      <th>gross_weight</th>\n",
       "      <th>is_front_fog_lights</th>\n",
       "      <th>is_rear_window_wiper</th>\n",
       "      <th>is_rear_window_washer</th>\n",
       "      <th>is_rear_window_defogger</th>\n",
       "      <th>is_brake_assist</th>\n",
       "      <th>is_power_door_locks</th>\n",
       "      <th>is_central_locking</th>\n",
       "      <th>is_power_steering</th>\n",
       "      <th>is_driver_seat_height_adjustable</th>\n",
       "      <th>is_day_night_rear_view_mirror</th>\n",
       "      <th>is_ecw</th>\n",
       "      <th>is_speed_alert</th>\n",
       "      <th>ncap_rating</th>\n",
       "      <th>is_claim</th>\n",
       "    </tr>\n",
       "  </thead>\n",
       "  <tbody>\n",
       "    <tr>\n",
       "      <th>0</th>\n",
       "      <td>ID00001</td>\n",
       "      <td>0.515874</td>\n",
       "      <td>0.05</td>\n",
       "      <td>0.644231</td>\n",
       "      <td>C1</td>\n",
       "      <td>4990</td>\n",
       "      <td>1</td>\n",
       "      <td>A</td>\n",
       "      <td>M1</td>\n",
       "      <td>CNG</td>\n",
       "      <td>60Nm@3500rpm</td>\n",
       "      <td>40.36bhp@6000rpm</td>\n",
       "      <td>F8D Petrol Engine</td>\n",
       "      <td>2</td>\n",
       "      <td>No</td>\n",
       "      <td>No</td>\n",
       "      <td>No</td>\n",
       "      <td>Yes</td>\n",
       "      <td>No</td>\n",
       "      <td>Drum</td>\n",
       "      <td>796</td>\n",
       "      <td>3</td>\n",
       "      <td>Manual</td>\n",
       "      <td>5</td>\n",
       "      <td>Power</td>\n",
       "      <td>4.6</td>\n",
       "      <td>3445</td>\n",
       "      <td>1515</td>\n",
       "      <td>1475</td>\n",
       "      <td>1185</td>\n",
       "      <td>No</td>\n",
       "      <td>No</td>\n",
       "      <td>No</td>\n",
       "      <td>No</td>\n",
       "      <td>No</td>\n",
       "      <td>No</td>\n",
       "      <td>No</td>\n",
       "      <td>Yes</td>\n",
       "      <td>No</td>\n",
       "      <td>No</td>\n",
       "      <td>No</td>\n",
       "      <td>Yes</td>\n",
       "      <td>0</td>\n",
       "      <td>0</td>\n",
       "    </tr>\n",
       "    <tr>\n",
       "      <th>1</th>\n",
       "      <td>ID00002</td>\n",
       "      <td>0.672619</td>\n",
       "      <td>0.02</td>\n",
       "      <td>0.375000</td>\n",
       "      <td>C2</td>\n",
       "      <td>27003</td>\n",
       "      <td>1</td>\n",
       "      <td>A</td>\n",
       "      <td>M1</td>\n",
       "      <td>CNG</td>\n",
       "      <td>60Nm@3500rpm</td>\n",
       "      <td>40.36bhp@6000rpm</td>\n",
       "      <td>F8D Petrol Engine</td>\n",
       "      <td>2</td>\n",
       "      <td>No</td>\n",
       "      <td>No</td>\n",
       "      <td>No</td>\n",
       "      <td>Yes</td>\n",
       "      <td>No</td>\n",
       "      <td>Drum</td>\n",
       "      <td>796</td>\n",
       "      <td>3</td>\n",
       "      <td>Manual</td>\n",
       "      <td>5</td>\n",
       "      <td>Power</td>\n",
       "      <td>4.6</td>\n",
       "      <td>3445</td>\n",
       "      <td>1515</td>\n",
       "      <td>1475</td>\n",
       "      <td>1185</td>\n",
       "      <td>No</td>\n",
       "      <td>No</td>\n",
       "      <td>No</td>\n",
       "      <td>No</td>\n",
       "      <td>No</td>\n",
       "      <td>No</td>\n",
       "      <td>No</td>\n",
       "      <td>Yes</td>\n",
       "      <td>No</td>\n",
       "      <td>No</td>\n",
       "      <td>No</td>\n",
       "      <td>Yes</td>\n",
       "      <td>0</td>\n",
       "      <td>0</td>\n",
       "    </tr>\n",
       "    <tr>\n",
       "      <th>2</th>\n",
       "      <td>ID00003</td>\n",
       "      <td>0.841110</td>\n",
       "      <td>0.02</td>\n",
       "      <td>0.384615</td>\n",
       "      <td>C3</td>\n",
       "      <td>4076</td>\n",
       "      <td>1</td>\n",
       "      <td>A</td>\n",
       "      <td>M1</td>\n",
       "      <td>CNG</td>\n",
       "      <td>60Nm@3500rpm</td>\n",
       "      <td>40.36bhp@6000rpm</td>\n",
       "      <td>F8D Petrol Engine</td>\n",
       "      <td>2</td>\n",
       "      <td>No</td>\n",
       "      <td>No</td>\n",
       "      <td>No</td>\n",
       "      <td>Yes</td>\n",
       "      <td>No</td>\n",
       "      <td>Drum</td>\n",
       "      <td>796</td>\n",
       "      <td>3</td>\n",
       "      <td>Manual</td>\n",
       "      <td>5</td>\n",
       "      <td>Power</td>\n",
       "      <td>4.6</td>\n",
       "      <td>3445</td>\n",
       "      <td>1515</td>\n",
       "      <td>1475</td>\n",
       "      <td>1185</td>\n",
       "      <td>No</td>\n",
       "      <td>No</td>\n",
       "      <td>No</td>\n",
       "      <td>No</td>\n",
       "      <td>No</td>\n",
       "      <td>No</td>\n",
       "      <td>No</td>\n",
       "      <td>Yes</td>\n",
       "      <td>No</td>\n",
       "      <td>No</td>\n",
       "      <td>No</td>\n",
       "      <td>Yes</td>\n",
       "      <td>0</td>\n",
       "      <td>0</td>\n",
       "    </tr>\n",
       "    <tr>\n",
       "      <th>3</th>\n",
       "      <td>ID00004</td>\n",
       "      <td>0.900277</td>\n",
       "      <td>0.11</td>\n",
       "      <td>0.432692</td>\n",
       "      <td>C4</td>\n",
       "      <td>21622</td>\n",
       "      <td>1</td>\n",
       "      <td>C1</td>\n",
       "      <td>M2</td>\n",
       "      <td>Petrol</td>\n",
       "      <td>113Nm@4400rpm</td>\n",
       "      <td>88.50bhp@6000rpm</td>\n",
       "      <td>1.2 L K12N Dualjet</td>\n",
       "      <td>2</td>\n",
       "      <td>Yes</td>\n",
       "      <td>Yes</td>\n",
       "      <td>No</td>\n",
       "      <td>Yes</td>\n",
       "      <td>Yes</td>\n",
       "      <td>Drum</td>\n",
       "      <td>1197</td>\n",
       "      <td>4</td>\n",
       "      <td>Automatic</td>\n",
       "      <td>5</td>\n",
       "      <td>Electric</td>\n",
       "      <td>4.8</td>\n",
       "      <td>3995</td>\n",
       "      <td>1735</td>\n",
       "      <td>1515</td>\n",
       "      <td>1335</td>\n",
       "      <td>Yes</td>\n",
       "      <td>No</td>\n",
       "      <td>No</td>\n",
       "      <td>Yes</td>\n",
       "      <td>Yes</td>\n",
       "      <td>Yes</td>\n",
       "      <td>Yes</td>\n",
       "      <td>Yes</td>\n",
       "      <td>Yes</td>\n",
       "      <td>Yes</td>\n",
       "      <td>Yes</td>\n",
       "      <td>Yes</td>\n",
       "      <td>2</td>\n",
       "      <td>0</td>\n",
       "    </tr>\n",
       "    <tr>\n",
       "      <th>4</th>\n",
       "      <td>ID00005</td>\n",
       "      <td>0.596403</td>\n",
       "      <td>0.11</td>\n",
       "      <td>0.634615</td>\n",
       "      <td>C5</td>\n",
       "      <td>34738</td>\n",
       "      <td>2</td>\n",
       "      <td>A</td>\n",
       "      <td>M3</td>\n",
       "      <td>Petrol</td>\n",
       "      <td>91Nm@4250rpm</td>\n",
       "      <td>67.06bhp@5500rpm</td>\n",
       "      <td>1.0 SCe</td>\n",
       "      <td>2</td>\n",
       "      <td>No</td>\n",
       "      <td>No</td>\n",
       "      <td>No</td>\n",
       "      <td>No</td>\n",
       "      <td>Yes</td>\n",
       "      <td>Drum</td>\n",
       "      <td>999</td>\n",
       "      <td>3</td>\n",
       "      <td>Automatic</td>\n",
       "      <td>5</td>\n",
       "      <td>Electric</td>\n",
       "      <td>5.0</td>\n",
       "      <td>3731</td>\n",
       "      <td>1579</td>\n",
       "      <td>1490</td>\n",
       "      <td>1155</td>\n",
       "      <td>No</td>\n",
       "      <td>No</td>\n",
       "      <td>No</td>\n",
       "      <td>No</td>\n",
       "      <td>No</td>\n",
       "      <td>Yes</td>\n",
       "      <td>Yes</td>\n",
       "      <td>Yes</td>\n",
       "      <td>No</td>\n",
       "      <td>Yes</td>\n",
       "      <td>Yes</td>\n",
       "      <td>Yes</td>\n",
       "      <td>2</td>\n",
       "      <td>0</td>\n",
       "    </tr>\n",
       "  </tbody>\n",
       "</table>\n",
       "</div>"
      ],
      "text/plain": [
       "  policy_id  policy_tenure  age_of_car  age_of_policyholder area_cluster  \\\n",
       "0   ID00001       0.515874        0.05             0.644231           C1   \n",
       "1   ID00002       0.672619        0.02             0.375000           C2   \n",
       "2   ID00003       0.841110        0.02             0.384615           C3   \n",
       "3   ID00004       0.900277        0.11             0.432692           C4   \n",
       "4   ID00005       0.596403        0.11             0.634615           C5   \n",
       "\n",
       "   population_density  make segment model fuel_type     max_torque  \\\n",
       "0                4990     1       A    M1       CNG   60Nm@3500rpm   \n",
       "1               27003     1       A    M1       CNG   60Nm@3500rpm   \n",
       "2                4076     1       A    M1       CNG   60Nm@3500rpm   \n",
       "3               21622     1      C1    M2    Petrol  113Nm@4400rpm   \n",
       "4               34738     2       A    M3    Petrol   91Nm@4250rpm   \n",
       "\n",
       "          max_power         engine_type  airbags is_esc  \\\n",
       "0  40.36bhp@6000rpm   F8D Petrol Engine        2     No   \n",
       "1  40.36bhp@6000rpm   F8D Petrol Engine        2     No   \n",
       "2  40.36bhp@6000rpm   F8D Petrol Engine        2     No   \n",
       "3  88.50bhp@6000rpm  1.2 L K12N Dualjet        2    Yes   \n",
       "4  67.06bhp@5500rpm             1.0 SCe        2     No   \n",
       "\n",
       "  is_adjustable_steering is_tpms is_parking_sensors is_parking_camera  \\\n",
       "0                     No      No                Yes                No   \n",
       "1                     No      No                Yes                No   \n",
       "2                     No      No                Yes                No   \n",
       "3                    Yes      No                Yes               Yes   \n",
       "4                     No      No                 No               Yes   \n",
       "\n",
       "  rear_brakes_type  displacement  cylinder transmission_type  gear_box  \\\n",
       "0             Drum           796         3            Manual         5   \n",
       "1             Drum           796         3            Manual         5   \n",
       "2             Drum           796         3            Manual         5   \n",
       "3             Drum          1197         4         Automatic         5   \n",
       "4             Drum           999         3         Automatic         5   \n",
       "\n",
       "  steering_type  turning_radius  length  width  height  gross_weight  \\\n",
       "0         Power             4.6    3445   1515    1475          1185   \n",
       "1         Power             4.6    3445   1515    1475          1185   \n",
       "2         Power             4.6    3445   1515    1475          1185   \n",
       "3      Electric             4.8    3995   1735    1515          1335   \n",
       "4      Electric             5.0    3731   1579    1490          1155   \n",
       "\n",
       "  is_front_fog_lights is_rear_window_wiper is_rear_window_washer  \\\n",
       "0                  No                   No                    No   \n",
       "1                  No                   No                    No   \n",
       "2                  No                   No                    No   \n",
       "3                 Yes                   No                    No   \n",
       "4                  No                   No                    No   \n",
       "\n",
       "  is_rear_window_defogger is_brake_assist is_power_door_locks  \\\n",
       "0                      No              No                  No   \n",
       "1                      No              No                  No   \n",
       "2                      No              No                  No   \n",
       "3                     Yes             Yes                 Yes   \n",
       "4                      No              No                 Yes   \n",
       "\n",
       "  is_central_locking is_power_steering is_driver_seat_height_adjustable  \\\n",
       "0                 No               Yes                               No   \n",
       "1                 No               Yes                               No   \n",
       "2                 No               Yes                               No   \n",
       "3                Yes               Yes                              Yes   \n",
       "4                Yes               Yes                               No   \n",
       "\n",
       "  is_day_night_rear_view_mirror is_ecw is_speed_alert  ncap_rating  is_claim  \n",
       "0                            No     No            Yes            0         0  \n",
       "1                            No     No            Yes            0         0  \n",
       "2                            No     No            Yes            0         0  \n",
       "3                           Yes    Yes            Yes            2         0  \n",
       "4                           Yes    Yes            Yes            2         0  "
      ]
     },
     "execution_count": 6,
     "metadata": {},
     "output_type": "execute_result"
    }
   ],
   "source": [
    "train.head()"
   ]
  },
  {
   "cell_type": "code",
   "execution_count": 7,
   "id": "721d43c4",
   "metadata": {},
   "outputs": [
    {
     "data": {
      "text/plain": [
       "(39063, 43)"
      ]
     },
     "execution_count": 7,
     "metadata": {},
     "output_type": "execute_result"
    }
   ],
   "source": [
    "test.shape"
   ]
  },
  {
   "cell_type": "code",
   "execution_count": 8,
   "id": "a4f93e90",
   "metadata": {},
   "outputs": [
    {
     "data": {
      "text/html": [
       "<div>\n",
       "<style scoped>\n",
       "    .dataframe tbody tr th:only-of-type {\n",
       "        vertical-align: middle;\n",
       "    }\n",
       "\n",
       "    .dataframe tbody tr th {\n",
       "        vertical-align: top;\n",
       "    }\n",
       "\n",
       "    .dataframe thead th {\n",
       "        text-align: right;\n",
       "    }\n",
       "</style>\n",
       "<table border=\"1\" class=\"dataframe\">\n",
       "  <thead>\n",
       "    <tr style=\"text-align: right;\">\n",
       "      <th></th>\n",
       "      <th>policy_id</th>\n",
       "      <th>policy_tenure</th>\n",
       "      <th>age_of_car</th>\n",
       "      <th>age_of_policyholder</th>\n",
       "      <th>area_cluster</th>\n",
       "      <th>population_density</th>\n",
       "      <th>make</th>\n",
       "      <th>segment</th>\n",
       "      <th>model</th>\n",
       "      <th>fuel_type</th>\n",
       "      <th>max_torque</th>\n",
       "      <th>max_power</th>\n",
       "      <th>engine_type</th>\n",
       "      <th>airbags</th>\n",
       "      <th>is_esc</th>\n",
       "      <th>is_adjustable_steering</th>\n",
       "      <th>is_tpms</th>\n",
       "      <th>is_parking_sensors</th>\n",
       "      <th>is_parking_camera</th>\n",
       "      <th>rear_brakes_type</th>\n",
       "      <th>displacement</th>\n",
       "      <th>cylinder</th>\n",
       "      <th>transmission_type</th>\n",
       "      <th>gear_box</th>\n",
       "      <th>steering_type</th>\n",
       "      <th>turning_radius</th>\n",
       "      <th>length</th>\n",
       "      <th>width</th>\n",
       "      <th>height</th>\n",
       "      <th>gross_weight</th>\n",
       "      <th>is_front_fog_lights</th>\n",
       "      <th>is_rear_window_wiper</th>\n",
       "      <th>is_rear_window_washer</th>\n",
       "      <th>is_rear_window_defogger</th>\n",
       "      <th>is_brake_assist</th>\n",
       "      <th>is_power_door_locks</th>\n",
       "      <th>is_central_locking</th>\n",
       "      <th>is_power_steering</th>\n",
       "      <th>is_driver_seat_height_adjustable</th>\n",
       "      <th>is_day_night_rear_view_mirror</th>\n",
       "      <th>is_ecw</th>\n",
       "      <th>is_speed_alert</th>\n",
       "      <th>ncap_rating</th>\n",
       "      <th>is_claim</th>\n",
       "    </tr>\n",
       "  </thead>\n",
       "  <tbody>\n",
       "    <tr>\n",
       "      <th>0</th>\n",
       "      <td>ID00001</td>\n",
       "      <td>0.515874</td>\n",
       "      <td>0.05</td>\n",
       "      <td>0.644231</td>\n",
       "      <td>C1</td>\n",
       "      <td>4990</td>\n",
       "      <td>1</td>\n",
       "      <td>A</td>\n",
       "      <td>M1</td>\n",
       "      <td>CNG</td>\n",
       "      <td>60Nm@3500rpm</td>\n",
       "      <td>40.36bhp@6000rpm</td>\n",
       "      <td>F8D Petrol Engine</td>\n",
       "      <td>2</td>\n",
       "      <td>No</td>\n",
       "      <td>No</td>\n",
       "      <td>No</td>\n",
       "      <td>Yes</td>\n",
       "      <td>No</td>\n",
       "      <td>Drum</td>\n",
       "      <td>796</td>\n",
       "      <td>3</td>\n",
       "      <td>Manual</td>\n",
       "      <td>5</td>\n",
       "      <td>Power</td>\n",
       "      <td>4.6</td>\n",
       "      <td>3445</td>\n",
       "      <td>1515</td>\n",
       "      <td>1475</td>\n",
       "      <td>1185</td>\n",
       "      <td>No</td>\n",
       "      <td>No</td>\n",
       "      <td>No</td>\n",
       "      <td>No</td>\n",
       "      <td>No</td>\n",
       "      <td>No</td>\n",
       "      <td>No</td>\n",
       "      <td>Yes</td>\n",
       "      <td>No</td>\n",
       "      <td>No</td>\n",
       "      <td>No</td>\n",
       "      <td>Yes</td>\n",
       "      <td>0</td>\n",
       "      <td>0</td>\n",
       "    </tr>\n",
       "    <tr>\n",
       "      <th>1</th>\n",
       "      <td>ID00002</td>\n",
       "      <td>0.672619</td>\n",
       "      <td>0.02</td>\n",
       "      <td>0.375000</td>\n",
       "      <td>C2</td>\n",
       "      <td>27003</td>\n",
       "      <td>1</td>\n",
       "      <td>A</td>\n",
       "      <td>M1</td>\n",
       "      <td>CNG</td>\n",
       "      <td>60Nm@3500rpm</td>\n",
       "      <td>40.36bhp@6000rpm</td>\n",
       "      <td>F8D Petrol Engine</td>\n",
       "      <td>2</td>\n",
       "      <td>No</td>\n",
       "      <td>No</td>\n",
       "      <td>No</td>\n",
       "      <td>Yes</td>\n",
       "      <td>No</td>\n",
       "      <td>Drum</td>\n",
       "      <td>796</td>\n",
       "      <td>3</td>\n",
       "      <td>Manual</td>\n",
       "      <td>5</td>\n",
       "      <td>Power</td>\n",
       "      <td>4.6</td>\n",
       "      <td>3445</td>\n",
       "      <td>1515</td>\n",
       "      <td>1475</td>\n",
       "      <td>1185</td>\n",
       "      <td>No</td>\n",
       "      <td>No</td>\n",
       "      <td>No</td>\n",
       "      <td>No</td>\n",
       "      <td>No</td>\n",
       "      <td>No</td>\n",
       "      <td>No</td>\n",
       "      <td>Yes</td>\n",
       "      <td>No</td>\n",
       "      <td>No</td>\n",
       "      <td>No</td>\n",
       "      <td>Yes</td>\n",
       "      <td>0</td>\n",
       "      <td>0</td>\n",
       "    </tr>\n",
       "    <tr>\n",
       "      <th>2</th>\n",
       "      <td>ID00003</td>\n",
       "      <td>0.841110</td>\n",
       "      <td>0.02</td>\n",
       "      <td>0.384615</td>\n",
       "      <td>C3</td>\n",
       "      <td>4076</td>\n",
       "      <td>1</td>\n",
       "      <td>A</td>\n",
       "      <td>M1</td>\n",
       "      <td>CNG</td>\n",
       "      <td>60Nm@3500rpm</td>\n",
       "      <td>40.36bhp@6000rpm</td>\n",
       "      <td>F8D Petrol Engine</td>\n",
       "      <td>2</td>\n",
       "      <td>No</td>\n",
       "      <td>No</td>\n",
       "      <td>No</td>\n",
       "      <td>Yes</td>\n",
       "      <td>No</td>\n",
       "      <td>Drum</td>\n",
       "      <td>796</td>\n",
       "      <td>3</td>\n",
       "      <td>Manual</td>\n",
       "      <td>5</td>\n",
       "      <td>Power</td>\n",
       "      <td>4.6</td>\n",
       "      <td>3445</td>\n",
       "      <td>1515</td>\n",
       "      <td>1475</td>\n",
       "      <td>1185</td>\n",
       "      <td>No</td>\n",
       "      <td>No</td>\n",
       "      <td>No</td>\n",
       "      <td>No</td>\n",
       "      <td>No</td>\n",
       "      <td>No</td>\n",
       "      <td>No</td>\n",
       "      <td>Yes</td>\n",
       "      <td>No</td>\n",
       "      <td>No</td>\n",
       "      <td>No</td>\n",
       "      <td>Yes</td>\n",
       "      <td>0</td>\n",
       "      <td>0</td>\n",
       "    </tr>\n",
       "    <tr>\n",
       "      <th>3</th>\n",
       "      <td>ID00004</td>\n",
       "      <td>0.900277</td>\n",
       "      <td>0.11</td>\n",
       "      <td>0.432692</td>\n",
       "      <td>C4</td>\n",
       "      <td>21622</td>\n",
       "      <td>1</td>\n",
       "      <td>C1</td>\n",
       "      <td>M2</td>\n",
       "      <td>Petrol</td>\n",
       "      <td>113Nm@4400rpm</td>\n",
       "      <td>88.50bhp@6000rpm</td>\n",
       "      <td>1.2 L K12N Dualjet</td>\n",
       "      <td>2</td>\n",
       "      <td>Yes</td>\n",
       "      <td>Yes</td>\n",
       "      <td>No</td>\n",
       "      <td>Yes</td>\n",
       "      <td>Yes</td>\n",
       "      <td>Drum</td>\n",
       "      <td>1197</td>\n",
       "      <td>4</td>\n",
       "      <td>Automatic</td>\n",
       "      <td>5</td>\n",
       "      <td>Electric</td>\n",
       "      <td>4.8</td>\n",
       "      <td>3995</td>\n",
       "      <td>1735</td>\n",
       "      <td>1515</td>\n",
       "      <td>1335</td>\n",
       "      <td>Yes</td>\n",
       "      <td>No</td>\n",
       "      <td>No</td>\n",
       "      <td>Yes</td>\n",
       "      <td>Yes</td>\n",
       "      <td>Yes</td>\n",
       "      <td>Yes</td>\n",
       "      <td>Yes</td>\n",
       "      <td>Yes</td>\n",
       "      <td>Yes</td>\n",
       "      <td>Yes</td>\n",
       "      <td>Yes</td>\n",
       "      <td>2</td>\n",
       "      <td>0</td>\n",
       "    </tr>\n",
       "    <tr>\n",
       "      <th>4</th>\n",
       "      <td>ID00005</td>\n",
       "      <td>0.596403</td>\n",
       "      <td>0.11</td>\n",
       "      <td>0.634615</td>\n",
       "      <td>C5</td>\n",
       "      <td>34738</td>\n",
       "      <td>2</td>\n",
       "      <td>A</td>\n",
       "      <td>M3</td>\n",
       "      <td>Petrol</td>\n",
       "      <td>91Nm@4250rpm</td>\n",
       "      <td>67.06bhp@5500rpm</td>\n",
       "      <td>1.0 SCe</td>\n",
       "      <td>2</td>\n",
       "      <td>No</td>\n",
       "      <td>No</td>\n",
       "      <td>No</td>\n",
       "      <td>No</td>\n",
       "      <td>Yes</td>\n",
       "      <td>Drum</td>\n",
       "      <td>999</td>\n",
       "      <td>3</td>\n",
       "      <td>Automatic</td>\n",
       "      <td>5</td>\n",
       "      <td>Electric</td>\n",
       "      <td>5.0</td>\n",
       "      <td>3731</td>\n",
       "      <td>1579</td>\n",
       "      <td>1490</td>\n",
       "      <td>1155</td>\n",
       "      <td>No</td>\n",
       "      <td>No</td>\n",
       "      <td>No</td>\n",
       "      <td>No</td>\n",
       "      <td>No</td>\n",
       "      <td>Yes</td>\n",
       "      <td>Yes</td>\n",
       "      <td>Yes</td>\n",
       "      <td>No</td>\n",
       "      <td>Yes</td>\n",
       "      <td>Yes</td>\n",
       "      <td>Yes</td>\n",
       "      <td>2</td>\n",
       "      <td>0</td>\n",
       "    </tr>\n",
       "  </tbody>\n",
       "</table>\n",
       "</div>"
      ],
      "text/plain": [
       "  policy_id  policy_tenure  age_of_car  age_of_policyholder area_cluster  \\\n",
       "0   ID00001       0.515874        0.05             0.644231           C1   \n",
       "1   ID00002       0.672619        0.02             0.375000           C2   \n",
       "2   ID00003       0.841110        0.02             0.384615           C3   \n",
       "3   ID00004       0.900277        0.11             0.432692           C4   \n",
       "4   ID00005       0.596403        0.11             0.634615           C5   \n",
       "\n",
       "   population_density  make segment model fuel_type     max_torque  \\\n",
       "0                4990     1       A    M1       CNG   60Nm@3500rpm   \n",
       "1               27003     1       A    M1       CNG   60Nm@3500rpm   \n",
       "2                4076     1       A    M1       CNG   60Nm@3500rpm   \n",
       "3               21622     1      C1    M2    Petrol  113Nm@4400rpm   \n",
       "4               34738     2       A    M3    Petrol   91Nm@4250rpm   \n",
       "\n",
       "          max_power         engine_type  airbags is_esc  \\\n",
       "0  40.36bhp@6000rpm   F8D Petrol Engine        2     No   \n",
       "1  40.36bhp@6000rpm   F8D Petrol Engine        2     No   \n",
       "2  40.36bhp@6000rpm   F8D Petrol Engine        2     No   \n",
       "3  88.50bhp@6000rpm  1.2 L K12N Dualjet        2    Yes   \n",
       "4  67.06bhp@5500rpm             1.0 SCe        2     No   \n",
       "\n",
       "  is_adjustable_steering is_tpms is_parking_sensors is_parking_camera  \\\n",
       "0                     No      No                Yes                No   \n",
       "1                     No      No                Yes                No   \n",
       "2                     No      No                Yes                No   \n",
       "3                    Yes      No                Yes               Yes   \n",
       "4                     No      No                 No               Yes   \n",
       "\n",
       "  rear_brakes_type  displacement  cylinder transmission_type  gear_box  \\\n",
       "0             Drum           796         3            Manual         5   \n",
       "1             Drum           796         3            Manual         5   \n",
       "2             Drum           796         3            Manual         5   \n",
       "3             Drum          1197         4         Automatic         5   \n",
       "4             Drum           999         3         Automatic         5   \n",
       "\n",
       "  steering_type  turning_radius  length  width  height  gross_weight  \\\n",
       "0         Power             4.6    3445   1515    1475          1185   \n",
       "1         Power             4.6    3445   1515    1475          1185   \n",
       "2         Power             4.6    3445   1515    1475          1185   \n",
       "3      Electric             4.8    3995   1735    1515          1335   \n",
       "4      Electric             5.0    3731   1579    1490          1155   \n",
       "\n",
       "  is_front_fog_lights is_rear_window_wiper is_rear_window_washer  \\\n",
       "0                  No                   No                    No   \n",
       "1                  No                   No                    No   \n",
       "2                  No                   No                    No   \n",
       "3                 Yes                   No                    No   \n",
       "4                  No                   No                    No   \n",
       "\n",
       "  is_rear_window_defogger is_brake_assist is_power_door_locks  \\\n",
       "0                      No              No                  No   \n",
       "1                      No              No                  No   \n",
       "2                      No              No                  No   \n",
       "3                     Yes             Yes                 Yes   \n",
       "4                      No              No                 Yes   \n",
       "\n",
       "  is_central_locking is_power_steering is_driver_seat_height_adjustable  \\\n",
       "0                 No               Yes                               No   \n",
       "1                 No               Yes                               No   \n",
       "2                 No               Yes                               No   \n",
       "3                Yes               Yes                              Yes   \n",
       "4                Yes               Yes                               No   \n",
       "\n",
       "  is_day_night_rear_view_mirror is_ecw is_speed_alert  ncap_rating  is_claim  \n",
       "0                            No     No            Yes            0         0  \n",
       "1                            No     No            Yes            0         0  \n",
       "2                            No     No            Yes            0         0  \n",
       "3                           Yes    Yes            Yes            2         0  \n",
       "4                           Yes    Yes            Yes            2         0  "
      ]
     },
     "execution_count": 8,
     "metadata": {},
     "output_type": "execute_result"
    }
   ],
   "source": [
    "train.head()"
   ]
  },
  {
   "cell_type": "code",
   "execution_count": 9,
   "id": "faf8ce9a",
   "metadata": {},
   "outputs": [
    {
     "data": {
      "text/html": [
       "<div>\n",
       "<style scoped>\n",
       "    .dataframe tbody tr th:only-of-type {\n",
       "        vertical-align: middle;\n",
       "    }\n",
       "\n",
       "    .dataframe tbody tr th {\n",
       "        vertical-align: top;\n",
       "    }\n",
       "\n",
       "    .dataframe thead th {\n",
       "        text-align: right;\n",
       "    }\n",
       "</style>\n",
       "<table border=\"1\" class=\"dataframe\">\n",
       "  <thead>\n",
       "    <tr style=\"text-align: right;\">\n",
       "      <th></th>\n",
       "      <th>policy_id</th>\n",
       "      <th>policy_tenure</th>\n",
       "      <th>age_of_car</th>\n",
       "      <th>age_of_policyholder</th>\n",
       "      <th>area_cluster</th>\n",
       "      <th>population_density</th>\n",
       "      <th>make</th>\n",
       "      <th>segment</th>\n",
       "      <th>model</th>\n",
       "      <th>fuel_type</th>\n",
       "      <th>max_torque</th>\n",
       "      <th>max_power</th>\n",
       "      <th>engine_type</th>\n",
       "      <th>airbags</th>\n",
       "      <th>is_esc</th>\n",
       "      <th>is_adjustable_steering</th>\n",
       "      <th>is_tpms</th>\n",
       "      <th>is_parking_sensors</th>\n",
       "      <th>is_parking_camera</th>\n",
       "      <th>rear_brakes_type</th>\n",
       "      <th>displacement</th>\n",
       "      <th>cylinder</th>\n",
       "      <th>transmission_type</th>\n",
       "      <th>gear_box</th>\n",
       "      <th>steering_type</th>\n",
       "      <th>turning_radius</th>\n",
       "      <th>length</th>\n",
       "      <th>width</th>\n",
       "      <th>height</th>\n",
       "      <th>gross_weight</th>\n",
       "      <th>is_front_fog_lights</th>\n",
       "      <th>is_rear_window_wiper</th>\n",
       "      <th>is_rear_window_washer</th>\n",
       "      <th>is_rear_window_defogger</th>\n",
       "      <th>is_brake_assist</th>\n",
       "      <th>is_power_door_locks</th>\n",
       "      <th>is_central_locking</th>\n",
       "      <th>is_power_steering</th>\n",
       "      <th>is_driver_seat_height_adjustable</th>\n",
       "      <th>is_day_night_rear_view_mirror</th>\n",
       "      <th>is_ecw</th>\n",
       "      <th>is_speed_alert</th>\n",
       "      <th>ncap_rating</th>\n",
       "    </tr>\n",
       "  </thead>\n",
       "  <tbody>\n",
       "    <tr>\n",
       "      <th>0</th>\n",
       "      <td>ID58593</td>\n",
       "      <td>0.341732</td>\n",
       "      <td>0.00</td>\n",
       "      <td>0.586538</td>\n",
       "      <td>C3</td>\n",
       "      <td>4076</td>\n",
       "      <td>1</td>\n",
       "      <td>A</td>\n",
       "      <td>M1</td>\n",
       "      <td>CNG</td>\n",
       "      <td>60Nm@3500rpm</td>\n",
       "      <td>40.36bhp@6000rpm</td>\n",
       "      <td>F8D Petrol Engine</td>\n",
       "      <td>2</td>\n",
       "      <td>No</td>\n",
       "      <td>No</td>\n",
       "      <td>No</td>\n",
       "      <td>Yes</td>\n",
       "      <td>No</td>\n",
       "      <td>Drum</td>\n",
       "      <td>796</td>\n",
       "      <td>3</td>\n",
       "      <td>Manual</td>\n",
       "      <td>5</td>\n",
       "      <td>Power</td>\n",
       "      <td>4.6</td>\n",
       "      <td>3445</td>\n",
       "      <td>1515</td>\n",
       "      <td>1475</td>\n",
       "      <td>1185</td>\n",
       "      <td>No</td>\n",
       "      <td>No</td>\n",
       "      <td>No</td>\n",
       "      <td>No</td>\n",
       "      <td>No</td>\n",
       "      <td>No</td>\n",
       "      <td>No</td>\n",
       "      <td>Yes</td>\n",
       "      <td>No</td>\n",
       "      <td>No</td>\n",
       "      <td>No</td>\n",
       "      <td>Yes</td>\n",
       "      <td>0</td>\n",
       "    </tr>\n",
       "    <tr>\n",
       "      <th>1</th>\n",
       "      <td>ID58594</td>\n",
       "      <td>0.307241</td>\n",
       "      <td>0.13</td>\n",
       "      <td>0.442308</td>\n",
       "      <td>C8</td>\n",
       "      <td>8794</td>\n",
       "      <td>1</td>\n",
       "      <td>B2</td>\n",
       "      <td>M6</td>\n",
       "      <td>Petrol</td>\n",
       "      <td>113Nm@4400rpm</td>\n",
       "      <td>88.50bhp@6000rpm</td>\n",
       "      <td>K Series Dual jet</td>\n",
       "      <td>2</td>\n",
       "      <td>No</td>\n",
       "      <td>Yes</td>\n",
       "      <td>No</td>\n",
       "      <td>Yes</td>\n",
       "      <td>No</td>\n",
       "      <td>Drum</td>\n",
       "      <td>1197</td>\n",
       "      <td>4</td>\n",
       "      <td>Manual</td>\n",
       "      <td>5</td>\n",
       "      <td>Electric</td>\n",
       "      <td>4.8</td>\n",
       "      <td>3845</td>\n",
       "      <td>1735</td>\n",
       "      <td>1530</td>\n",
       "      <td>1335</td>\n",
       "      <td>Yes</td>\n",
       "      <td>No</td>\n",
       "      <td>No</td>\n",
       "      <td>No</td>\n",
       "      <td>Yes</td>\n",
       "      <td>Yes</td>\n",
       "      <td>Yes</td>\n",
       "      <td>Yes</td>\n",
       "      <td>Yes</td>\n",
       "      <td>Yes</td>\n",
       "      <td>Yes</td>\n",
       "      <td>Yes</td>\n",
       "      <td>2</td>\n",
       "    </tr>\n",
       "    <tr>\n",
       "      <th>2</th>\n",
       "      <td>ID58595</td>\n",
       "      <td>0.327924</td>\n",
       "      <td>0.12</td>\n",
       "      <td>0.451923</td>\n",
       "      <td>C8</td>\n",
       "      <td>8794</td>\n",
       "      <td>2</td>\n",
       "      <td>A</td>\n",
       "      <td>M3</td>\n",
       "      <td>Petrol</td>\n",
       "      <td>91Nm@4250rpm</td>\n",
       "      <td>67.06bhp@5500rpm</td>\n",
       "      <td>1.0 SCe</td>\n",
       "      <td>2</td>\n",
       "      <td>No</td>\n",
       "      <td>No</td>\n",
       "      <td>No</td>\n",
       "      <td>No</td>\n",
       "      <td>Yes</td>\n",
       "      <td>Drum</td>\n",
       "      <td>999</td>\n",
       "      <td>3</td>\n",
       "      <td>Automatic</td>\n",
       "      <td>5</td>\n",
       "      <td>Electric</td>\n",
       "      <td>5.0</td>\n",
       "      <td>3731</td>\n",
       "      <td>1579</td>\n",
       "      <td>1490</td>\n",
       "      <td>1155</td>\n",
       "      <td>No</td>\n",
       "      <td>No</td>\n",
       "      <td>No</td>\n",
       "      <td>No</td>\n",
       "      <td>No</td>\n",
       "      <td>Yes</td>\n",
       "      <td>Yes</td>\n",
       "      <td>Yes</td>\n",
       "      <td>No</td>\n",
       "      <td>Yes</td>\n",
       "      <td>Yes</td>\n",
       "      <td>Yes</td>\n",
       "      <td>2</td>\n",
       "    </tr>\n",
       "    <tr>\n",
       "      <th>3</th>\n",
       "      <td>ID58596</td>\n",
       "      <td>0.782654</td>\n",
       "      <td>0.01</td>\n",
       "      <td>0.461538</td>\n",
       "      <td>C5</td>\n",
       "      <td>34738</td>\n",
       "      <td>1</td>\n",
       "      <td>A</td>\n",
       "      <td>M1</td>\n",
       "      <td>CNG</td>\n",
       "      <td>60Nm@3500rpm</td>\n",
       "      <td>40.36bhp@6000rpm</td>\n",
       "      <td>F8D Petrol Engine</td>\n",
       "      <td>2</td>\n",
       "      <td>No</td>\n",
       "      <td>No</td>\n",
       "      <td>No</td>\n",
       "      <td>Yes</td>\n",
       "      <td>No</td>\n",
       "      <td>Drum</td>\n",
       "      <td>796</td>\n",
       "      <td>3</td>\n",
       "      <td>Manual</td>\n",
       "      <td>5</td>\n",
       "      <td>Power</td>\n",
       "      <td>4.6</td>\n",
       "      <td>3445</td>\n",
       "      <td>1515</td>\n",
       "      <td>1475</td>\n",
       "      <td>1185</td>\n",
       "      <td>No</td>\n",
       "      <td>No</td>\n",
       "      <td>No</td>\n",
       "      <td>No</td>\n",
       "      <td>No</td>\n",
       "      <td>No</td>\n",
       "      <td>No</td>\n",
       "      <td>Yes</td>\n",
       "      <td>No</td>\n",
       "      <td>No</td>\n",
       "      <td>No</td>\n",
       "      <td>Yes</td>\n",
       "      <td>0</td>\n",
       "    </tr>\n",
       "    <tr>\n",
       "      <th>4</th>\n",
       "      <td>ID58597</td>\n",
       "      <td>1.233404</td>\n",
       "      <td>0.02</td>\n",
       "      <td>0.634615</td>\n",
       "      <td>C5</td>\n",
       "      <td>34738</td>\n",
       "      <td>1</td>\n",
       "      <td>A</td>\n",
       "      <td>M1</td>\n",
       "      <td>CNG</td>\n",
       "      <td>60Nm@3500rpm</td>\n",
       "      <td>40.36bhp@6000rpm</td>\n",
       "      <td>F8D Petrol Engine</td>\n",
       "      <td>2</td>\n",
       "      <td>No</td>\n",
       "      <td>No</td>\n",
       "      <td>No</td>\n",
       "      <td>Yes</td>\n",
       "      <td>No</td>\n",
       "      <td>Drum</td>\n",
       "      <td>796</td>\n",
       "      <td>3</td>\n",
       "      <td>Manual</td>\n",
       "      <td>5</td>\n",
       "      <td>Power</td>\n",
       "      <td>4.6</td>\n",
       "      <td>3445</td>\n",
       "      <td>1515</td>\n",
       "      <td>1475</td>\n",
       "      <td>1185</td>\n",
       "      <td>No</td>\n",
       "      <td>No</td>\n",
       "      <td>No</td>\n",
       "      <td>No</td>\n",
       "      <td>No</td>\n",
       "      <td>No</td>\n",
       "      <td>No</td>\n",
       "      <td>Yes</td>\n",
       "      <td>No</td>\n",
       "      <td>No</td>\n",
       "      <td>No</td>\n",
       "      <td>Yes</td>\n",
       "      <td>0</td>\n",
       "    </tr>\n",
       "  </tbody>\n",
       "</table>\n",
       "</div>"
      ],
      "text/plain": [
       "  policy_id  policy_tenure  age_of_car  age_of_policyholder area_cluster  \\\n",
       "0   ID58593       0.341732        0.00             0.586538           C3   \n",
       "1   ID58594       0.307241        0.13             0.442308           C8   \n",
       "2   ID58595       0.327924        0.12             0.451923           C8   \n",
       "3   ID58596       0.782654        0.01             0.461538           C5   \n",
       "4   ID58597       1.233404        0.02             0.634615           C5   \n",
       "\n",
       "   population_density  make segment model fuel_type     max_torque  \\\n",
       "0                4076     1       A    M1       CNG   60Nm@3500rpm   \n",
       "1                8794     1      B2    M6    Petrol  113Nm@4400rpm   \n",
       "2                8794     2       A    M3    Petrol   91Nm@4250rpm   \n",
       "3               34738     1       A    M1       CNG   60Nm@3500rpm   \n",
       "4               34738     1       A    M1       CNG   60Nm@3500rpm   \n",
       "\n",
       "          max_power        engine_type  airbags is_esc is_adjustable_steering  \\\n",
       "0  40.36bhp@6000rpm  F8D Petrol Engine        2     No                     No   \n",
       "1  88.50bhp@6000rpm  K Series Dual jet        2     No                    Yes   \n",
       "2  67.06bhp@5500rpm            1.0 SCe        2     No                     No   \n",
       "3  40.36bhp@6000rpm  F8D Petrol Engine        2     No                     No   \n",
       "4  40.36bhp@6000rpm  F8D Petrol Engine        2     No                     No   \n",
       "\n",
       "  is_tpms is_parking_sensors is_parking_camera rear_brakes_type  displacement  \\\n",
       "0      No                Yes                No             Drum           796   \n",
       "1      No                Yes                No             Drum          1197   \n",
       "2      No                 No               Yes             Drum           999   \n",
       "3      No                Yes                No             Drum           796   \n",
       "4      No                Yes                No             Drum           796   \n",
       "\n",
       "   cylinder transmission_type  gear_box steering_type  turning_radius  length  \\\n",
       "0         3            Manual         5         Power             4.6    3445   \n",
       "1         4            Manual         5      Electric             4.8    3845   \n",
       "2         3         Automatic         5      Electric             5.0    3731   \n",
       "3         3            Manual         5         Power             4.6    3445   \n",
       "4         3            Manual         5         Power             4.6    3445   \n",
       "\n",
       "   width  height  gross_weight is_front_fog_lights is_rear_window_wiper  \\\n",
       "0   1515    1475          1185                  No                   No   \n",
       "1   1735    1530          1335                 Yes                   No   \n",
       "2   1579    1490          1155                  No                   No   \n",
       "3   1515    1475          1185                  No                   No   \n",
       "4   1515    1475          1185                  No                   No   \n",
       "\n",
       "  is_rear_window_washer is_rear_window_defogger is_brake_assist  \\\n",
       "0                    No                      No              No   \n",
       "1                    No                      No             Yes   \n",
       "2                    No                      No              No   \n",
       "3                    No                      No              No   \n",
       "4                    No                      No              No   \n",
       "\n",
       "  is_power_door_locks is_central_locking is_power_steering  \\\n",
       "0                  No                 No               Yes   \n",
       "1                 Yes                Yes               Yes   \n",
       "2                 Yes                Yes               Yes   \n",
       "3                  No                 No               Yes   \n",
       "4                  No                 No               Yes   \n",
       "\n",
       "  is_driver_seat_height_adjustable is_day_night_rear_view_mirror is_ecw  \\\n",
       "0                               No                            No     No   \n",
       "1                              Yes                           Yes    Yes   \n",
       "2                               No                           Yes    Yes   \n",
       "3                               No                            No     No   \n",
       "4                               No                            No     No   \n",
       "\n",
       "  is_speed_alert  ncap_rating  \n",
       "0            Yes            0  \n",
       "1            Yes            2  \n",
       "2            Yes            2  \n",
       "3            Yes            0  \n",
       "4            Yes            0  "
      ]
     },
     "execution_count": 9,
     "metadata": {},
     "output_type": "execute_result"
    }
   ],
   "source": [
    "test.head()"
   ]
  },
  {
   "cell_type": "code",
   "execution_count": 10,
   "id": "40f0ab90",
   "metadata": {},
   "outputs": [
    {
     "data": {
      "text/plain": [
       "0"
      ]
     },
     "execution_count": 10,
     "metadata": {},
     "output_type": "execute_result"
    }
   ],
   "source": [
    "## Duplicated values\n",
    "train.duplicated().sum()"
   ]
  },
  {
   "cell_type": "code",
   "execution_count": 11,
   "id": "6e4de32e",
   "metadata": {},
   "outputs": [],
   "source": [
    "# first lets make policy_id as index as it only contains distinct values\n",
    "train.drop('policy_id',axis=1,inplace=True)\n",
    "test.drop('policy_id',axis=1,inplace=True)"
   ]
  },
  {
   "cell_type": "code",
   "execution_count": 12,
   "id": "f3f2e2f5",
   "metadata": {},
   "outputs": [
    {
     "data": {
      "text/html": [
       "<div>\n",
       "<style scoped>\n",
       "    .dataframe tbody tr th:only-of-type {\n",
       "        vertical-align: middle;\n",
       "    }\n",
       "\n",
       "    .dataframe tbody tr th {\n",
       "        vertical-align: top;\n",
       "    }\n",
       "\n",
       "    .dataframe thead th {\n",
       "        text-align: right;\n",
       "    }\n",
       "</style>\n",
       "<table border=\"1\" class=\"dataframe\">\n",
       "  <thead>\n",
       "    <tr style=\"text-align: right;\">\n",
       "      <th></th>\n",
       "      <th>policy_tenure</th>\n",
       "      <th>age_of_car</th>\n",
       "      <th>age_of_policyholder</th>\n",
       "      <th>area_cluster</th>\n",
       "      <th>population_density</th>\n",
       "      <th>make</th>\n",
       "      <th>segment</th>\n",
       "      <th>model</th>\n",
       "      <th>fuel_type</th>\n",
       "      <th>max_torque</th>\n",
       "      <th>max_power</th>\n",
       "      <th>engine_type</th>\n",
       "      <th>airbags</th>\n",
       "      <th>is_esc</th>\n",
       "      <th>is_adjustable_steering</th>\n",
       "      <th>is_tpms</th>\n",
       "      <th>is_parking_sensors</th>\n",
       "      <th>is_parking_camera</th>\n",
       "      <th>rear_brakes_type</th>\n",
       "      <th>displacement</th>\n",
       "      <th>cylinder</th>\n",
       "      <th>transmission_type</th>\n",
       "      <th>gear_box</th>\n",
       "      <th>steering_type</th>\n",
       "      <th>turning_radius</th>\n",
       "      <th>length</th>\n",
       "      <th>width</th>\n",
       "      <th>height</th>\n",
       "      <th>gross_weight</th>\n",
       "      <th>is_front_fog_lights</th>\n",
       "      <th>is_rear_window_wiper</th>\n",
       "      <th>is_rear_window_washer</th>\n",
       "      <th>is_rear_window_defogger</th>\n",
       "      <th>is_brake_assist</th>\n",
       "      <th>is_power_door_locks</th>\n",
       "      <th>is_central_locking</th>\n",
       "      <th>is_power_steering</th>\n",
       "      <th>is_driver_seat_height_adjustable</th>\n",
       "      <th>is_day_night_rear_view_mirror</th>\n",
       "      <th>is_ecw</th>\n",
       "      <th>is_speed_alert</th>\n",
       "      <th>ncap_rating</th>\n",
       "      <th>is_claim</th>\n",
       "    </tr>\n",
       "  </thead>\n",
       "  <tbody>\n",
       "    <tr>\n",
       "      <th>0</th>\n",
       "      <td>0.515874</td>\n",
       "      <td>0.05</td>\n",
       "      <td>0.644231</td>\n",
       "      <td>C1</td>\n",
       "      <td>4990</td>\n",
       "      <td>1</td>\n",
       "      <td>A</td>\n",
       "      <td>M1</td>\n",
       "      <td>CNG</td>\n",
       "      <td>60Nm@3500rpm</td>\n",
       "      <td>40.36bhp@6000rpm</td>\n",
       "      <td>F8D Petrol Engine</td>\n",
       "      <td>2</td>\n",
       "      <td>No</td>\n",
       "      <td>No</td>\n",
       "      <td>No</td>\n",
       "      <td>Yes</td>\n",
       "      <td>No</td>\n",
       "      <td>Drum</td>\n",
       "      <td>796</td>\n",
       "      <td>3</td>\n",
       "      <td>Manual</td>\n",
       "      <td>5</td>\n",
       "      <td>Power</td>\n",
       "      <td>4.6</td>\n",
       "      <td>3445</td>\n",
       "      <td>1515</td>\n",
       "      <td>1475</td>\n",
       "      <td>1185</td>\n",
       "      <td>No</td>\n",
       "      <td>No</td>\n",
       "      <td>No</td>\n",
       "      <td>No</td>\n",
       "      <td>No</td>\n",
       "      <td>No</td>\n",
       "      <td>No</td>\n",
       "      <td>Yes</td>\n",
       "      <td>No</td>\n",
       "      <td>No</td>\n",
       "      <td>No</td>\n",
       "      <td>Yes</td>\n",
       "      <td>0</td>\n",
       "      <td>0</td>\n",
       "    </tr>\n",
       "    <tr>\n",
       "      <th>1</th>\n",
       "      <td>0.672619</td>\n",
       "      <td>0.02</td>\n",
       "      <td>0.375000</td>\n",
       "      <td>C2</td>\n",
       "      <td>27003</td>\n",
       "      <td>1</td>\n",
       "      <td>A</td>\n",
       "      <td>M1</td>\n",
       "      <td>CNG</td>\n",
       "      <td>60Nm@3500rpm</td>\n",
       "      <td>40.36bhp@6000rpm</td>\n",
       "      <td>F8D Petrol Engine</td>\n",
       "      <td>2</td>\n",
       "      <td>No</td>\n",
       "      <td>No</td>\n",
       "      <td>No</td>\n",
       "      <td>Yes</td>\n",
       "      <td>No</td>\n",
       "      <td>Drum</td>\n",
       "      <td>796</td>\n",
       "      <td>3</td>\n",
       "      <td>Manual</td>\n",
       "      <td>5</td>\n",
       "      <td>Power</td>\n",
       "      <td>4.6</td>\n",
       "      <td>3445</td>\n",
       "      <td>1515</td>\n",
       "      <td>1475</td>\n",
       "      <td>1185</td>\n",
       "      <td>No</td>\n",
       "      <td>No</td>\n",
       "      <td>No</td>\n",
       "      <td>No</td>\n",
       "      <td>No</td>\n",
       "      <td>No</td>\n",
       "      <td>No</td>\n",
       "      <td>Yes</td>\n",
       "      <td>No</td>\n",
       "      <td>No</td>\n",
       "      <td>No</td>\n",
       "      <td>Yes</td>\n",
       "      <td>0</td>\n",
       "      <td>0</td>\n",
       "    </tr>\n",
       "    <tr>\n",
       "      <th>2</th>\n",
       "      <td>0.841110</td>\n",
       "      <td>0.02</td>\n",
       "      <td>0.384615</td>\n",
       "      <td>C3</td>\n",
       "      <td>4076</td>\n",
       "      <td>1</td>\n",
       "      <td>A</td>\n",
       "      <td>M1</td>\n",
       "      <td>CNG</td>\n",
       "      <td>60Nm@3500rpm</td>\n",
       "      <td>40.36bhp@6000rpm</td>\n",
       "      <td>F8D Petrol Engine</td>\n",
       "      <td>2</td>\n",
       "      <td>No</td>\n",
       "      <td>No</td>\n",
       "      <td>No</td>\n",
       "      <td>Yes</td>\n",
       "      <td>No</td>\n",
       "      <td>Drum</td>\n",
       "      <td>796</td>\n",
       "      <td>3</td>\n",
       "      <td>Manual</td>\n",
       "      <td>5</td>\n",
       "      <td>Power</td>\n",
       "      <td>4.6</td>\n",
       "      <td>3445</td>\n",
       "      <td>1515</td>\n",
       "      <td>1475</td>\n",
       "      <td>1185</td>\n",
       "      <td>No</td>\n",
       "      <td>No</td>\n",
       "      <td>No</td>\n",
       "      <td>No</td>\n",
       "      <td>No</td>\n",
       "      <td>No</td>\n",
       "      <td>No</td>\n",
       "      <td>Yes</td>\n",
       "      <td>No</td>\n",
       "      <td>No</td>\n",
       "      <td>No</td>\n",
       "      <td>Yes</td>\n",
       "      <td>0</td>\n",
       "      <td>0</td>\n",
       "    </tr>\n",
       "    <tr>\n",
       "      <th>3</th>\n",
       "      <td>0.900277</td>\n",
       "      <td>0.11</td>\n",
       "      <td>0.432692</td>\n",
       "      <td>C4</td>\n",
       "      <td>21622</td>\n",
       "      <td>1</td>\n",
       "      <td>C1</td>\n",
       "      <td>M2</td>\n",
       "      <td>Petrol</td>\n",
       "      <td>113Nm@4400rpm</td>\n",
       "      <td>88.50bhp@6000rpm</td>\n",
       "      <td>1.2 L K12N Dualjet</td>\n",
       "      <td>2</td>\n",
       "      <td>Yes</td>\n",
       "      <td>Yes</td>\n",
       "      <td>No</td>\n",
       "      <td>Yes</td>\n",
       "      <td>Yes</td>\n",
       "      <td>Drum</td>\n",
       "      <td>1197</td>\n",
       "      <td>4</td>\n",
       "      <td>Automatic</td>\n",
       "      <td>5</td>\n",
       "      <td>Electric</td>\n",
       "      <td>4.8</td>\n",
       "      <td>3995</td>\n",
       "      <td>1735</td>\n",
       "      <td>1515</td>\n",
       "      <td>1335</td>\n",
       "      <td>Yes</td>\n",
       "      <td>No</td>\n",
       "      <td>No</td>\n",
       "      <td>Yes</td>\n",
       "      <td>Yes</td>\n",
       "      <td>Yes</td>\n",
       "      <td>Yes</td>\n",
       "      <td>Yes</td>\n",
       "      <td>Yes</td>\n",
       "      <td>Yes</td>\n",
       "      <td>Yes</td>\n",
       "      <td>Yes</td>\n",
       "      <td>2</td>\n",
       "      <td>0</td>\n",
       "    </tr>\n",
       "    <tr>\n",
       "      <th>4</th>\n",
       "      <td>0.596403</td>\n",
       "      <td>0.11</td>\n",
       "      <td>0.634615</td>\n",
       "      <td>C5</td>\n",
       "      <td>34738</td>\n",
       "      <td>2</td>\n",
       "      <td>A</td>\n",
       "      <td>M3</td>\n",
       "      <td>Petrol</td>\n",
       "      <td>91Nm@4250rpm</td>\n",
       "      <td>67.06bhp@5500rpm</td>\n",
       "      <td>1.0 SCe</td>\n",
       "      <td>2</td>\n",
       "      <td>No</td>\n",
       "      <td>No</td>\n",
       "      <td>No</td>\n",
       "      <td>No</td>\n",
       "      <td>Yes</td>\n",
       "      <td>Drum</td>\n",
       "      <td>999</td>\n",
       "      <td>3</td>\n",
       "      <td>Automatic</td>\n",
       "      <td>5</td>\n",
       "      <td>Electric</td>\n",
       "      <td>5.0</td>\n",
       "      <td>3731</td>\n",
       "      <td>1579</td>\n",
       "      <td>1490</td>\n",
       "      <td>1155</td>\n",
       "      <td>No</td>\n",
       "      <td>No</td>\n",
       "      <td>No</td>\n",
       "      <td>No</td>\n",
       "      <td>No</td>\n",
       "      <td>Yes</td>\n",
       "      <td>Yes</td>\n",
       "      <td>Yes</td>\n",
       "      <td>No</td>\n",
       "      <td>Yes</td>\n",
       "      <td>Yes</td>\n",
       "      <td>Yes</td>\n",
       "      <td>2</td>\n",
       "      <td>0</td>\n",
       "    </tr>\n",
       "  </tbody>\n",
       "</table>\n",
       "</div>"
      ],
      "text/plain": [
       "   policy_tenure  age_of_car  age_of_policyholder area_cluster  \\\n",
       "0       0.515874        0.05             0.644231           C1   \n",
       "1       0.672619        0.02             0.375000           C2   \n",
       "2       0.841110        0.02             0.384615           C3   \n",
       "3       0.900277        0.11             0.432692           C4   \n",
       "4       0.596403        0.11             0.634615           C5   \n",
       "\n",
       "   population_density  make segment model fuel_type     max_torque  \\\n",
       "0                4990     1       A    M1       CNG   60Nm@3500rpm   \n",
       "1               27003     1       A    M1       CNG   60Nm@3500rpm   \n",
       "2                4076     1       A    M1       CNG   60Nm@3500rpm   \n",
       "3               21622     1      C1    M2    Petrol  113Nm@4400rpm   \n",
       "4               34738     2       A    M3    Petrol   91Nm@4250rpm   \n",
       "\n",
       "          max_power         engine_type  airbags is_esc  \\\n",
       "0  40.36bhp@6000rpm   F8D Petrol Engine        2     No   \n",
       "1  40.36bhp@6000rpm   F8D Petrol Engine        2     No   \n",
       "2  40.36bhp@6000rpm   F8D Petrol Engine        2     No   \n",
       "3  88.50bhp@6000rpm  1.2 L K12N Dualjet        2    Yes   \n",
       "4  67.06bhp@5500rpm             1.0 SCe        2     No   \n",
       "\n",
       "  is_adjustable_steering is_tpms is_parking_sensors is_parking_camera  \\\n",
       "0                     No      No                Yes                No   \n",
       "1                     No      No                Yes                No   \n",
       "2                     No      No                Yes                No   \n",
       "3                    Yes      No                Yes               Yes   \n",
       "4                     No      No                 No               Yes   \n",
       "\n",
       "  rear_brakes_type  displacement  cylinder transmission_type  gear_box  \\\n",
       "0             Drum           796         3            Manual         5   \n",
       "1             Drum           796         3            Manual         5   \n",
       "2             Drum           796         3            Manual         5   \n",
       "3             Drum          1197         4         Automatic         5   \n",
       "4             Drum           999         3         Automatic         5   \n",
       "\n",
       "  steering_type  turning_radius  length  width  height  gross_weight  \\\n",
       "0         Power             4.6    3445   1515    1475          1185   \n",
       "1         Power             4.6    3445   1515    1475          1185   \n",
       "2         Power             4.6    3445   1515    1475          1185   \n",
       "3      Electric             4.8    3995   1735    1515          1335   \n",
       "4      Electric             5.0    3731   1579    1490          1155   \n",
       "\n",
       "  is_front_fog_lights is_rear_window_wiper is_rear_window_washer  \\\n",
       "0                  No                   No                    No   \n",
       "1                  No                   No                    No   \n",
       "2                  No                   No                    No   \n",
       "3                 Yes                   No                    No   \n",
       "4                  No                   No                    No   \n",
       "\n",
       "  is_rear_window_defogger is_brake_assist is_power_door_locks  \\\n",
       "0                      No              No                  No   \n",
       "1                      No              No                  No   \n",
       "2                      No              No                  No   \n",
       "3                     Yes             Yes                 Yes   \n",
       "4                      No              No                 Yes   \n",
       "\n",
       "  is_central_locking is_power_steering is_driver_seat_height_adjustable  \\\n",
       "0                 No               Yes                               No   \n",
       "1                 No               Yes                               No   \n",
       "2                 No               Yes                               No   \n",
       "3                Yes               Yes                              Yes   \n",
       "4                Yes               Yes                               No   \n",
       "\n",
       "  is_day_night_rear_view_mirror is_ecw is_speed_alert  ncap_rating  is_claim  \n",
       "0                            No     No            Yes            0         0  \n",
       "1                            No     No            Yes            0         0  \n",
       "2                            No     No            Yes            0         0  \n",
       "3                           Yes    Yes            Yes            2         0  \n",
       "4                           Yes    Yes            Yes            2         0  "
      ]
     },
     "execution_count": 12,
     "metadata": {},
     "output_type": "execute_result"
    }
   ],
   "source": [
    "train.head()"
   ]
  },
  {
   "cell_type": "code",
   "execution_count": 13,
   "id": "be01f807",
   "metadata": {},
   "outputs": [],
   "source": [
    "obj=train.select_dtypes(include='object').columns\n",
    "num=train.select_dtypes(exclude='object').columns"
   ]
  },
  {
   "cell_type": "code",
   "execution_count": 406,
   "id": "10e1e594",
   "metadata": {},
   "outputs": [
    {
     "data": {
      "text/plain": [
       "Index(['policy_tenure', 'age_of_car', 'age_of_policyholder', 'area_cluster',\n",
       "       'population_density', 'segment', 'model', 'width', 'height',\n",
       "       'gross_weight', 'ncap_rating', 'is_claim'],\n",
       "      dtype='object')"
      ]
     },
     "execution_count": 406,
     "metadata": {},
     "output_type": "execute_result"
    }
   ],
   "source": [
    "num"
   ]
  },
  {
   "cell_type": "code",
   "execution_count": 355,
   "id": "1d001a46",
   "metadata": {},
   "outputs": [],
   "source": [
    "# lets check null values"
   ]
  },
  {
   "cell_type": "code",
   "execution_count": 356,
   "id": "5abd73d2",
   "metadata": {},
   "outputs": [
    {
     "data": {
      "text/plain": [
       "policy_tenure                       0\n",
       "age_of_car                          0\n",
       "age_of_policyholder                 0\n",
       "area_cluster                        0\n",
       "population_density                  0\n",
       "make                                0\n",
       "segment                             0\n",
       "model                               0\n",
       "fuel_type                           0\n",
       "max_torque                          0\n",
       "max_power                           0\n",
       "engine_type                         0\n",
       "airbags                             0\n",
       "is_esc                              0\n",
       "is_adjustable_steering              0\n",
       "is_tpms                             0\n",
       "is_parking_sensors                  0\n",
       "is_parking_camera                   0\n",
       "rear_brakes_type                    0\n",
       "displacement                        0\n",
       "cylinder                            0\n",
       "transmission_type                   0\n",
       "gear_box                            0\n",
       "steering_type                       0\n",
       "turning_radius                      0\n",
       "length                              0\n",
       "width                               0\n",
       "height                              0\n",
       "gross_weight                        0\n",
       "is_front_fog_lights                 0\n",
       "is_rear_window_wiper                0\n",
       "is_rear_window_washer               0\n",
       "is_rear_window_defogger             0\n",
       "is_brake_assist                     0\n",
       "is_power_door_locks                 0\n",
       "is_central_locking                  0\n",
       "is_power_steering                   0\n",
       "is_driver_seat_height_adjustable    0\n",
       "is_day_night_rear_view_mirror       0\n",
       "is_ecw                              0\n",
       "is_speed_alert                      0\n",
       "ncap_rating                         0\n",
       "is_claim                            0\n",
       "dtype: int64"
      ]
     },
     "execution_count": 356,
     "metadata": {},
     "output_type": "execute_result"
    }
   ],
   "source": [
    "train.isnull().sum() # no null values"
   ]
  },
  {
   "cell_type": "code",
   "execution_count": 357,
   "id": "885dc85c",
   "metadata": {},
   "outputs": [
    {
     "data": {
      "text/plain": [
       "policy_tenure                       0\n",
       "age_of_car                          0\n",
       "age_of_policyholder                 0\n",
       "area_cluster                        0\n",
       "population_density                  0\n",
       "make                                0\n",
       "segment                             0\n",
       "model                               0\n",
       "fuel_type                           0\n",
       "max_torque                          0\n",
       "max_power                           0\n",
       "engine_type                         0\n",
       "airbags                             0\n",
       "is_esc                              0\n",
       "is_adjustable_steering              0\n",
       "is_tpms                             0\n",
       "is_parking_sensors                  0\n",
       "is_parking_camera                   0\n",
       "rear_brakes_type                    0\n",
       "displacement                        0\n",
       "cylinder                            0\n",
       "transmission_type                   0\n",
       "gear_box                            0\n",
       "steering_type                       0\n",
       "turning_radius                      0\n",
       "length                              0\n",
       "width                               0\n",
       "height                              0\n",
       "gross_weight                        0\n",
       "is_front_fog_lights                 0\n",
       "is_rear_window_wiper                0\n",
       "is_rear_window_washer               0\n",
       "is_rear_window_defogger             0\n",
       "is_brake_assist                     0\n",
       "is_power_door_locks                 0\n",
       "is_central_locking                  0\n",
       "is_power_steering                   0\n",
       "is_driver_seat_height_adjustable    0\n",
       "is_day_night_rear_view_mirror       0\n",
       "is_ecw                              0\n",
       "is_speed_alert                      0\n",
       "ncap_rating                         0\n",
       "dtype: int64"
      ]
     },
     "execution_count": 357,
     "metadata": {},
     "output_type": "execute_result"
    }
   ],
   "source": [
    "test.isnull().sum()"
   ]
  },
  {
   "cell_type": "code",
   "execution_count": 359,
   "id": "71a18c2d",
   "metadata": {},
   "outputs": [
    {
     "data": {
      "text/plain": [
       "Index(['policy_tenure', 'age_of_car', 'age_of_policyholder',\n",
       "       'population_density', 'make', 'airbags', 'displacement', 'cylinder',\n",
       "       'gear_box', 'turning_radius', 'length', 'width', 'height',\n",
       "       'gross_weight', 'ncap_rating', 'is_claim'],\n",
       "      dtype='object')"
      ]
     },
     "execution_count": 359,
     "metadata": {},
     "output_type": "execute_result"
    }
   ],
   "source": [
    "num"
   ]
  },
  {
   "cell_type": "code",
   "execution_count": 360,
   "id": "09899c88",
   "metadata": {},
   "outputs": [
    {
     "data": {
      "text/plain": [
       "Index(['area_cluster', 'segment', 'model', 'fuel_type', 'max_torque',\n",
       "       'max_power', 'engine_type', 'is_esc', 'is_adjustable_steering',\n",
       "       'is_tpms', 'is_parking_sensors', 'is_parking_camera',\n",
       "       'rear_brakes_type', 'transmission_type', 'steering_type',\n",
       "       'is_front_fog_lights', 'is_rear_window_wiper', 'is_rear_window_washer',\n",
       "       'is_rear_window_defogger', 'is_brake_assist', 'is_power_door_locks',\n",
       "       'is_central_locking', 'is_power_steering',\n",
       "       'is_driver_seat_height_adjustable', 'is_day_night_rear_view_mirror',\n",
       "       'is_ecw', 'is_speed_alert'],\n",
       "      dtype='object')"
      ]
     },
     "execution_count": 360,
     "metadata": {},
     "output_type": "execute_result"
    }
   ],
   "source": [
    "obj"
   ]
  },
  {
   "cell_type": "code",
   "execution_count": 361,
   "id": "342d11ea",
   "metadata": {},
   "outputs": [],
   "source": [
    "# Univariate analysis"
   ]
  },
  {
   "cell_type": "code",
   "execution_count": 362,
   "id": "b1754e5e",
   "metadata": {},
   "outputs": [],
   "source": [
    "def uni_variate(a):\n",
    "    b=train[a].nunique()\n",
    "    c=train[a].value_counts()\n",
    "    print(b)\n",
    "    print(c)\n",
    "    c.plot(kind='barh',figsize=(8,8))\n",
    "    plt.title(a)\n",
    "    plt.show()"
   ]
  },
  {
   "cell_type": "code",
   "execution_count": 363,
   "id": "e7dfb156",
   "metadata": {},
   "outputs": [
    {
     "name": "stdout",
     "output_type": "stream",
     "text": [
      "22\n",
      "C8     13654\n",
      "C2      7342\n",
      "C5      6979\n",
      "C3      6101\n",
      "C14     3660\n",
      "C13     3423\n",
      "C10     3155\n",
      "C9      2734\n",
      "C7      2167\n",
      "C12     1589\n",
      "C1      1468\n",
      "C11     1212\n",
      "C19      952\n",
      "C6       890\n",
      "C15      771\n",
      "C4       665\n",
      "C17      492\n",
      "C16      401\n",
      "C21      379\n",
      "C18      242\n",
      "C22      207\n",
      "C20      109\n",
      "Name: area_cluster, dtype: int64\n"
     ]
    },
    {
     "data": {
      "image/png": "[encoded data removed]",
      "text/plain": [
       "<Figure size 576x576 with 1 Axes>"
      ]
     },
     "metadata": {
      "needs_background": "light"
     },
     "output_type": "display_data"
    }
   ],
   "source": [
    "uni_variate('area_cluster')"
   ]
  },
  {
   "cell_type": "code",
   "execution_count": 364,
   "id": "929059e2",
   "metadata": {},
   "outputs": [
    {
     "name": "stdout",
     "output_type": "stream",
     "text": [
      "6\n",
      "B2         18314\n",
      "A          17321\n",
      "C2         14018\n",
      "B1          4173\n",
      "C1          3557\n",
      "Utility     1209\n",
      "Name: segment, dtype: int64\n"
     ]
    },
    {
     "data": {
      "image/png": "[encoded data removed]",
      "text/plain": [
       "<Figure size 576x576 with 1 Axes>"
      ]
     },
     "metadata": {
      "needs_background": "light"
     },
     "output_type": "display_data"
    }
   ],
   "source": [
    "uni_variate('segment')"
   ]
  },
  {
   "cell_type": "code",
   "execution_count": 365,
   "id": "47ec58d6",
   "metadata": {},
   "outputs": [
    {
     "name": "stdout",
     "output_type": "stream",
     "text": [
      "11\n",
      "M1     14948\n",
      "M4     14018\n",
      "M6     13776\n",
      "M8      4173\n",
      "M7      2940\n",
      "M3      2373\n",
      "M9      2114\n",
      "M5      1598\n",
      "M10     1209\n",
      "M2      1080\n",
      "M11      363\n",
      "Name: model, dtype: int64\n"
     ]
    },
    {
     "data": {
      "image/png": "[encoded data removed]",
      "text/plain": [
       "<Figure size 576x576 with 1 Axes>"
      ]
     },
     "metadata": {
      "needs_background": "light"
     },
     "output_type": "display_data"
    }
   ],
   "source": [
    "uni_variate('model')"
   ]
  },
  {
   "cell_type": "code",
   "execution_count": 366,
   "id": "b1e99751",
   "metadata": {},
   "outputs": [
    {
     "data": {
      "text/plain": [
       "Index(['area_cluster', 'segment', 'model', 'fuel_type', 'max_torque',\n",
       "       'max_power', 'engine_type', 'is_esc', 'is_adjustable_steering',\n",
       "       'is_tpms', 'is_parking_sensors', 'is_parking_camera',\n",
       "       'rear_brakes_type', 'transmission_type', 'steering_type',\n",
       "       'is_front_fog_lights', 'is_rear_window_wiper', 'is_rear_window_washer',\n",
       "       'is_rear_window_defogger', 'is_brake_assist', 'is_power_door_locks',\n",
       "       'is_central_locking', 'is_power_steering',\n",
       "       'is_driver_seat_height_adjustable', 'is_day_night_rear_view_mirror',\n",
       "       'is_ecw', 'is_speed_alert'],\n",
       "      dtype='object')"
      ]
     },
     "execution_count": 366,
     "metadata": {},
     "output_type": "execute_result"
    }
   ],
   "source": [
    "obj"
   ]
  },
  {
   "cell_type": "code",
   "execution_count": 367,
   "id": "3041da6d",
   "metadata": {},
   "outputs": [
    {
     "name": "stdout",
     "output_type": "stream",
     "text": [
      "3\n",
      "Petrol    20532\n",
      "CNG       20330\n",
      "Diesel    17730\n",
      "Name: fuel_type, dtype: int64\n"
     ]
    },
    {
     "data": {
      "image/png": "[encoded data removed]",
      "text/plain": [
       "<Figure size 576x576 with 1 Axes>"
      ]
     },
     "metadata": {
      "needs_background": "light"
     },
     "output_type": "display_data"
    }
   ],
   "source": [
    "uni_variate('fuel_type')"
   ]
  },
  {
   "cell_type": "code",
   "execution_count": 368,
   "id": "74e072b4",
   "metadata": {},
   "outputs": [
    {
     "name": "stdout",
     "output_type": "stream",
     "text": [
      "9\n",
      "113Nm@4400rpm     17796\n",
      "60Nm@3500rpm      14948\n",
      "250Nm@2750rpm     14018\n",
      "82.1Nm@3400rpm     4173\n",
      "91Nm@4250rpm       2373\n",
      "200Nm@1750rpm      2114\n",
      "200Nm@3000rpm      1598\n",
      "85Nm@3000rpm       1209\n",
      "170Nm@4000rpm       363\n",
      "Name: max_torque, dtype: int64\n"
     ]
    },
    {
     "data": {
      "image/png": "[encoded data removed]",
      "text/plain": [
       "<Figure size 576x576 with 1 Axes>"
      ]
     },
     "metadata": {
      "needs_background": "light"
     },
     "output_type": "display_data"
    }
   ],
   "source": [
    "uni_variate('max_torque')"
   ]
  },
  {
   "cell_type": "code",
   "execution_count": 369,
   "id": "45bcf3fc",
   "metadata": {},
   "outputs": [
    {
     "name": "stdout",
     "output_type": "stream",
     "text": [
      "9\n",
      "88.50bhp@6000rpm     17796\n",
      "40.36bhp@6000rpm     14948\n",
      "113.45bhp@4000rpm    14018\n",
      "55.92bhp@5300rpm      4173\n",
      "67.06bhp@5500rpm      2373\n",
      "97.89bhp@3600rpm      2114\n",
      "88.77bhp@4000rpm      1598\n",
      "61.68bhp@6000rpm      1209\n",
      "118.36bhp@5500rpm      363\n",
      "Name: max_power, dtype: int64\n"
     ]
    },
    {
     "data": {
      "image/png": "[encoded data removed]",
      "text/plain": [
       "<Figure size 576x576 with 1 Axes>"
      ]
     },
     "metadata": {
      "needs_background": "light"
     },
     "output_type": "display_data"
    }
   ],
   "source": [
    "uni_variate('max_power')"
   ]
  },
  {
   "cell_type": "code",
   "execution_count": 370,
   "id": "4528e6ee",
   "metadata": {},
   "outputs": [
    {
     "name": "stdout",
     "output_type": "stream",
     "text": [
      "2\n",
      "No     35704\n",
      "Yes    22888\n",
      "Name: is_parking_camera, dtype: int64\n"
     ]
    },
    {
     "data": {
      "image/png": "[encoded data removed]",
      "text/plain": [
       "<Figure size 576x576 with 1 Axes>"
      ]
     },
     "metadata": {
      "needs_background": "light"
     },
     "output_type": "display_data"
    }
   ],
   "source": [
    "uni_variate('is_parking_camera')"
   ]
  },
  {
   "cell_type": "code",
   "execution_count": 371,
   "id": "9b13375b",
   "metadata": {},
   "outputs": [
    {
     "name": "stdout",
     "output_type": "stream",
     "text": [
      "2\n",
      "Yes    58229\n",
      "No       363\n",
      "Name: is_speed_alert, dtype: int64\n"
     ]
    },
    {
     "data": {
      "image/png": "[encoded data removed]",
      "text/plain": [
       "<Figure size 576x576 with 1 Axes>"
      ]
     },
     "metadata": {
      "needs_background": "light"
     },
     "output_type": "display_data"
    }
   ],
   "source": [
    "uni_variate('is_speed_alert')"
   ]
  },
  {
   "cell_type": "code",
   "execution_count": 372,
   "id": "06bf90bb",
   "metadata": {},
   "outputs": [
    {
     "name": "stdout",
     "output_type": "stream",
     "text": [
      "11\n",
      "F8D Petrol Engine            14948\n",
      "1.5 L U2 CRDi                14018\n",
      "K Series Dual jet            13776\n",
      "K10C                          4173\n",
      "1.2 L K Series Engine         2940\n",
      "1.0 SCe                       2373\n",
      "i-DTEC                        2114\n",
      "1.5 Turbocharged Revotorq     1598\n",
      "G12B                          1209\n",
      "1.2 L K12N Dualjet            1080\n",
      "1.5 Turbocharged Revotron      363\n",
      "Name: engine_type, dtype: int64\n"
     ]
    },
    {
     "data": {
      "image/png": "[encoded data removed]",
      "text/plain": [
       "<Figure size 576x576 with 1 Axes>"
      ]
     },
     "metadata": {
      "needs_background": "light"
     },
     "output_type": "display_data"
    }
   ],
   "source": [
    "uni_variate('engine_type')"
   ]
  },
  {
   "cell_type": "code",
   "execution_count": 373,
   "id": "1401dcc6",
   "metadata": {},
   "outputs": [],
   "source": [
    "# Outliers treatment"
   ]
  },
  {
   "cell_type": "code",
   "execution_count": 374,
   "id": "38ed7508",
   "metadata": {},
   "outputs": [
    {
     "data": {
      "text/html": [
       "<div>\n",
       "<style scoped>\n",
       "    .dataframe tbody tr th:only-of-type {\n",
       "        vertical-align: middle;\n",
       "    }\n",
       "\n",
       "    .dataframe tbody tr th {\n",
       "        vertical-align: top;\n",
       "    }\n",
       "\n",
       "    .dataframe thead th {\n",
       "        text-align: right;\n",
       "    }\n",
       "</style>\n",
       "<table border=\"1\" class=\"dataframe\">\n",
       "  <thead>\n",
       "    <tr style=\"text-align: right;\">\n",
       "      <th></th>\n",
       "      <th>count</th>\n",
       "      <th>mean</th>\n",
       "      <th>std</th>\n",
       "      <th>min</th>\n",
       "      <th>1%</th>\n",
       "      <th>2%</th>\n",
       "      <th>3%</th>\n",
       "      <th>4%</th>\n",
       "      <th>5%</th>\n",
       "      <th>10%</th>\n",
       "      <th>25%</th>\n",
       "      <th>50%</th>\n",
       "      <th>75%</th>\n",
       "      <th>90%</th>\n",
       "      <th>95%</th>\n",
       "      <th>96%</th>\n",
       "      <th>97%</th>\n",
       "      <th>98%</th>\n",
       "      <th>99%</th>\n",
       "      <th>max</th>\n",
       "    </tr>\n",
       "  </thead>\n",
       "  <tbody>\n",
       "    <tr>\n",
       "      <th>policy_tenure</th>\n",
       "      <td>58592.0</td>\n",
       "      <td>0.611246</td>\n",
       "      <td>0.414156</td>\n",
       "      <td>0.002735</td>\n",
       "      <td>0.010019</td>\n",
       "      <td>0.020466</td>\n",
       "      <td>0.031107</td>\n",
       "      <td>0.035291</td>\n",
       "      <td>0.042945</td>\n",
       "      <td>0.081874</td>\n",
       "      <td>0.210250</td>\n",
       "      <td>0.573792</td>\n",
       "      <td>1.039104</td>\n",
       "      <td>1.159637</td>\n",
       "      <td>1.204138</td>\n",
       "      <td>1.213437</td>\n",
       "      <td>1.223046</td>\n",
       "      <td>1.232179</td>\n",
       "      <td>1.241190</td>\n",
       "      <td>1.396641</td>\n",
       "    </tr>\n",
       "    <tr>\n",
       "      <th>age_of_car</th>\n",
       "      <td>58592.0</td>\n",
       "      <td>0.069424</td>\n",
       "      <td>0.056721</td>\n",
       "      <td>0.000000</td>\n",
       "      <td>0.000000</td>\n",
       "      <td>0.000000</td>\n",
       "      <td>0.000000</td>\n",
       "      <td>0.000000</td>\n",
       "      <td>0.000000</td>\n",
       "      <td>0.010000</td>\n",
       "      <td>0.020000</td>\n",
       "      <td>0.060000</td>\n",
       "      <td>0.110000</td>\n",
       "      <td>0.150000</td>\n",
       "      <td>0.170000</td>\n",
       "      <td>0.170000</td>\n",
       "      <td>0.180000</td>\n",
       "      <td>0.190000</td>\n",
       "      <td>0.210000</td>\n",
       "      <td>1.000000</td>\n",
       "    </tr>\n",
       "    <tr>\n",
       "      <th>age_of_policyholder</th>\n",
       "      <td>58592.0</td>\n",
       "      <td>0.469420</td>\n",
       "      <td>0.122886</td>\n",
       "      <td>0.288462</td>\n",
       "      <td>0.288462</td>\n",
       "      <td>0.288462</td>\n",
       "      <td>0.298077</td>\n",
       "      <td>0.298077</td>\n",
       "      <td>0.298077</td>\n",
       "      <td>0.317308</td>\n",
       "      <td>0.365385</td>\n",
       "      <td>0.451923</td>\n",
       "      <td>0.548077</td>\n",
       "      <td>0.644231</td>\n",
       "      <td>0.701923</td>\n",
       "      <td>0.721154</td>\n",
       "      <td>0.740385</td>\n",
       "      <td>0.759615</td>\n",
       "      <td>0.788462</td>\n",
       "      <td>1.000000</td>\n",
       "    </tr>\n",
       "    <tr>\n",
       "      <th>population_density</th>\n",
       "      <td>58592.0</td>\n",
       "      <td>18826.858667</td>\n",
       "      <td>17660.174792</td>\n",
       "      <td>290.000000</td>\n",
       "      <td>290.000000</td>\n",
       "      <td>4076.000000</td>\n",
       "      <td>4076.000000</td>\n",
       "      <td>4076.000000</td>\n",
       "      <td>4076.000000</td>\n",
       "      <td>4076.000000</td>\n",
       "      <td>6112.000000</td>\n",
       "      <td>8794.000000</td>\n",
       "      <td>27003.000000</td>\n",
       "      <td>34738.000000</td>\n",
       "      <td>73430.000000</td>\n",
       "      <td>73430.000000</td>\n",
       "      <td>73430.000000</td>\n",
       "      <td>73430.000000</td>\n",
       "      <td>73430.000000</td>\n",
       "      <td>73430.000000</td>\n",
       "    </tr>\n",
       "    <tr>\n",
       "      <th>make</th>\n",
       "      <td>58592.0</td>\n",
       "      <td>1.763722</td>\n",
       "      <td>1.136988</td>\n",
       "      <td>1.000000</td>\n",
       "      <td>1.000000</td>\n",
       "      <td>1.000000</td>\n",
       "      <td>1.000000</td>\n",
       "      <td>1.000000</td>\n",
       "      <td>1.000000</td>\n",
       "      <td>1.000000</td>\n",
       "      <td>1.000000</td>\n",
       "      <td>1.000000</td>\n",
       "      <td>3.000000</td>\n",
       "      <td>3.000000</td>\n",
       "      <td>4.000000</td>\n",
       "      <td>4.000000</td>\n",
       "      <td>5.000000</td>\n",
       "      <td>5.000000</td>\n",
       "      <td>5.000000</td>\n",
       "      <td>5.000000</td>\n",
       "    </tr>\n",
       "    <tr>\n",
       "      <th>airbags</th>\n",
       "      <td>58592.0</td>\n",
       "      <td>3.137066</td>\n",
       "      <td>1.832641</td>\n",
       "      <td>1.000000</td>\n",
       "      <td>1.000000</td>\n",
       "      <td>1.000000</td>\n",
       "      <td>2.000000</td>\n",
       "      <td>2.000000</td>\n",
       "      <td>2.000000</td>\n",
       "      <td>2.000000</td>\n",
       "      <td>2.000000</td>\n",
       "      <td>2.000000</td>\n",
       "      <td>6.000000</td>\n",
       "      <td>6.000000</td>\n",
       "      <td>6.000000</td>\n",
       "      <td>6.000000</td>\n",
       "      <td>6.000000</td>\n",
       "      <td>6.000000</td>\n",
       "      <td>6.000000</td>\n",
       "      <td>6.000000</td>\n",
       "    </tr>\n",
       "    <tr>\n",
       "      <th>displacement</th>\n",
       "      <td>58592.0</td>\n",
       "      <td>1162.355851</td>\n",
       "      <td>266.304786</td>\n",
       "      <td>796.000000</td>\n",
       "      <td>796.000000</td>\n",
       "      <td>796.000000</td>\n",
       "      <td>796.000000</td>\n",
       "      <td>796.000000</td>\n",
       "      <td>796.000000</td>\n",
       "      <td>796.000000</td>\n",
       "      <td>796.000000</td>\n",
       "      <td>1197.000000</td>\n",
       "      <td>1493.000000</td>\n",
       "      <td>1493.000000</td>\n",
       "      <td>1497.000000</td>\n",
       "      <td>1497.000000</td>\n",
       "      <td>1498.000000</td>\n",
       "      <td>1498.000000</td>\n",
       "      <td>1498.000000</td>\n",
       "      <td>1498.000000</td>\n",
       "    </tr>\n",
       "    <tr>\n",
       "      <th>cylinder</th>\n",
       "      <td>58592.0</td>\n",
       "      <td>3.626963</td>\n",
       "      <td>0.483616</td>\n",
       "      <td>3.000000</td>\n",
       "      <td>3.000000</td>\n",
       "      <td>3.000000</td>\n",
       "      <td>3.000000</td>\n",
       "      <td>3.000000</td>\n",
       "      <td>3.000000</td>\n",
       "      <td>3.000000</td>\n",
       "      <td>3.000000</td>\n",
       "      <td>4.000000</td>\n",
       "      <td>4.000000</td>\n",
       "      <td>4.000000</td>\n",
       "      <td>4.000000</td>\n",
       "      <td>4.000000</td>\n",
       "      <td>4.000000</td>\n",
       "      <td>4.000000</td>\n",
       "      <td>4.000000</td>\n",
       "      <td>4.000000</td>\n",
       "    </tr>\n",
       "    <tr>\n",
       "      <th>gear_box</th>\n",
       "      <td>58592.0</td>\n",
       "      <td>5.245443</td>\n",
       "      <td>0.430353</td>\n",
       "      <td>5.000000</td>\n",
       "      <td>5.000000</td>\n",
       "      <td>5.000000</td>\n",
       "      <td>5.000000</td>\n",
       "      <td>5.000000</td>\n",
       "      <td>5.000000</td>\n",
       "      <td>5.000000</td>\n",
       "      <td>5.000000</td>\n",
       "      <td>5.000000</td>\n",
       "      <td>5.000000</td>\n",
       "      <td>6.000000</td>\n",
       "      <td>6.000000</td>\n",
       "      <td>6.000000</td>\n",
       "      <td>6.000000</td>\n",
       "      <td>6.000000</td>\n",
       "      <td>6.000000</td>\n",
       "      <td>6.000000</td>\n",
       "    </tr>\n",
       "    <tr>\n",
       "      <th>turning_radius</th>\n",
       "      <td>58592.0</td>\n",
       "      <td>4.852893</td>\n",
       "      <td>0.228061</td>\n",
       "      <td>4.500000</td>\n",
       "      <td>4.500000</td>\n",
       "      <td>4.500000</td>\n",
       "      <td>4.600000</td>\n",
       "      <td>4.600000</td>\n",
       "      <td>4.600000</td>\n",
       "      <td>4.600000</td>\n",
       "      <td>4.600000</td>\n",
       "      <td>4.800000</td>\n",
       "      <td>5.000000</td>\n",
       "      <td>5.200000</td>\n",
       "      <td>5.200000</td>\n",
       "      <td>5.200000</td>\n",
       "      <td>5.200000</td>\n",
       "      <td>5.200000</td>\n",
       "      <td>5.200000</td>\n",
       "      <td>5.200000</td>\n",
       "    </tr>\n",
       "    <tr>\n",
       "      <th>length</th>\n",
       "      <td>58592.0</td>\n",
       "      <td>3850.476891</td>\n",
       "      <td>311.457119</td>\n",
       "      <td>3445.000000</td>\n",
       "      <td>3445.000000</td>\n",
       "      <td>3445.000000</td>\n",
       "      <td>3445.000000</td>\n",
       "      <td>3445.000000</td>\n",
       "      <td>3445.000000</td>\n",
       "      <td>3445.000000</td>\n",
       "      <td>3445.000000</td>\n",
       "      <td>3845.000000</td>\n",
       "      <td>3995.000000</td>\n",
       "      <td>4300.000000</td>\n",
       "      <td>4300.000000</td>\n",
       "      <td>4300.000000</td>\n",
       "      <td>4300.000000</td>\n",
       "      <td>4300.000000</td>\n",
       "      <td>4300.000000</td>\n",
       "      <td>4300.000000</td>\n",
       "    </tr>\n",
       "    <tr>\n",
       "      <th>width</th>\n",
       "      <td>58592.0</td>\n",
       "      <td>1672.233667</td>\n",
       "      <td>112.089135</td>\n",
       "      <td>1475.000000</td>\n",
       "      <td>1475.000000</td>\n",
       "      <td>1475.000000</td>\n",
       "      <td>1515.000000</td>\n",
       "      <td>1515.000000</td>\n",
       "      <td>1515.000000</td>\n",
       "      <td>1515.000000</td>\n",
       "      <td>1515.000000</td>\n",
       "      <td>1735.000000</td>\n",
       "      <td>1755.000000</td>\n",
       "      <td>1790.000000</td>\n",
       "      <td>1790.000000</td>\n",
       "      <td>1790.000000</td>\n",
       "      <td>1790.000000</td>\n",
       "      <td>1790.000000</td>\n",
       "      <td>1790.000000</td>\n",
       "      <td>1811.000000</td>\n",
       "    </tr>\n",
       "    <tr>\n",
       "      <th>height</th>\n",
       "      <td>58592.0</td>\n",
       "      <td>1553.335370</td>\n",
       "      <td>79.622270</td>\n",
       "      <td>1475.000000</td>\n",
       "      <td>1475.000000</td>\n",
       "      <td>1475.000000</td>\n",
       "      <td>1475.000000</td>\n",
       "      <td>1475.000000</td>\n",
       "      <td>1475.000000</td>\n",
       "      <td>1475.000000</td>\n",
       "      <td>1475.000000</td>\n",
       "      <td>1530.000000</td>\n",
       "      <td>1635.000000</td>\n",
       "      <td>1635.000000</td>\n",
       "      <td>1675.000000</td>\n",
       "      <td>1675.000000</td>\n",
       "      <td>1675.000000</td>\n",
       "      <td>1825.000000</td>\n",
       "      <td>1825.000000</td>\n",
       "      <td>1825.000000</td>\n",
       "    </tr>\n",
       "    <tr>\n",
       "      <th>gross_weight</th>\n",
       "      <td>58592.0</td>\n",
       "      <td>1385.276813</td>\n",
       "      <td>212.423085</td>\n",
       "      <td>1051.000000</td>\n",
       "      <td>1051.000000</td>\n",
       "      <td>1051.000000</td>\n",
       "      <td>1051.000000</td>\n",
       "      <td>1155.000000</td>\n",
       "      <td>1155.000000</td>\n",
       "      <td>1185.000000</td>\n",
       "      <td>1185.000000</td>\n",
       "      <td>1335.000000</td>\n",
       "      <td>1510.000000</td>\n",
       "      <td>1720.000000</td>\n",
       "      <td>1720.000000</td>\n",
       "      <td>1720.000000</td>\n",
       "      <td>1720.000000</td>\n",
       "      <td>1720.000000</td>\n",
       "      <td>1720.000000</td>\n",
       "      <td>1720.000000</td>\n",
       "    </tr>\n",
       "    <tr>\n",
       "      <th>ncap_rating</th>\n",
       "      <td>58592.0</td>\n",
       "      <td>1.759950</td>\n",
       "      <td>1.389576</td>\n",
       "      <td>0.000000</td>\n",
       "      <td>0.000000</td>\n",
       "      <td>0.000000</td>\n",
       "      <td>0.000000</td>\n",
       "      <td>0.000000</td>\n",
       "      <td>0.000000</td>\n",
       "      <td>0.000000</td>\n",
       "      <td>0.000000</td>\n",
       "      <td>2.000000</td>\n",
       "      <td>3.000000</td>\n",
       "      <td>3.000000</td>\n",
       "      <td>4.000000</td>\n",
       "      <td>4.000000</td>\n",
       "      <td>5.000000</td>\n",
       "      <td>5.000000</td>\n",
       "      <td>5.000000</td>\n",
       "      <td>5.000000</td>\n",
       "    </tr>\n",
       "    <tr>\n",
       "      <th>is_claim</th>\n",
       "      <td>58592.0</td>\n",
       "      <td>0.063968</td>\n",
       "      <td>0.244698</td>\n",
       "      <td>0.000000</td>\n",
       "      <td>0.000000</td>\n",
       "      <td>0.000000</td>\n",
       "      <td>0.000000</td>\n",
       "      <td>0.000000</td>\n",
       "      <td>0.000000</td>\n",
       "      <td>0.000000</td>\n",
       "      <td>0.000000</td>\n",
       "      <td>0.000000</td>\n",
       "      <td>0.000000</td>\n",
       "      <td>0.000000</td>\n",
       "      <td>1.000000</td>\n",
       "      <td>1.000000</td>\n",
       "      <td>1.000000</td>\n",
       "      <td>1.000000</td>\n",
       "      <td>1.000000</td>\n",
       "      <td>1.000000</td>\n",
       "    </tr>\n",
       "  </tbody>\n",
       "</table>\n",
       "</div>"
      ],
      "text/plain": [
       "                       count          mean           std          min  \\\n",
       "policy_tenure        58592.0      0.611246      0.414156     0.002735   \n",
       "age_of_car           58592.0      0.069424      0.056721     0.000000   \n",
       "age_of_policyholder  58592.0      0.469420      0.122886     0.288462   \n",
       "population_density   58592.0  18826.858667  17660.174792   290.000000   \n",
       "make                 58592.0      1.763722      1.136988     1.000000   \n",
       "airbags              58592.0      3.137066      1.832641     1.000000   \n",
       "displacement         58592.0   1162.355851    266.304786   796.000000   \n",
       "cylinder             58592.0      3.626963      0.483616     3.000000   \n",
       "gear_box             58592.0      5.245443      0.430353     5.000000   \n",
       "turning_radius       58592.0      4.852893      0.228061     4.500000   \n",
       "length               58592.0   3850.476891    311.457119  3445.000000   \n",
       "width                58592.0   1672.233667    112.089135  1475.000000   \n",
       "height               58592.0   1553.335370     79.622270  1475.000000   \n",
       "gross_weight         58592.0   1385.276813    212.423085  1051.000000   \n",
       "ncap_rating          58592.0      1.759950      1.389576     0.000000   \n",
       "is_claim             58592.0      0.063968      0.244698     0.000000   \n",
       "\n",
       "                              1%           2%           3%           4%  \\\n",
       "policy_tenure           0.010019     0.020466     0.031107     0.035291   \n",
       "age_of_car              0.000000     0.000000     0.000000     0.000000   \n",
       "age_of_policyholder     0.288462     0.288462     0.298077     0.298077   \n",
       "population_density    290.000000  4076.000000  4076.000000  4076.000000   \n",
       "make                    1.000000     1.000000     1.000000     1.000000   \n",
       "airbags                 1.000000     1.000000     2.000000     2.000000   \n",
       "displacement          796.000000   796.000000   796.000000   796.000000   \n",
       "cylinder                3.000000     3.000000     3.000000     3.000000   \n",
       "gear_box                5.000000     5.000000     5.000000     5.000000   \n",
       "turning_radius          4.500000     4.500000     4.600000     4.600000   \n",
       "length               3445.000000  3445.000000  3445.000000  3445.000000   \n",
       "width                1475.000000  1475.000000  1515.000000  1515.000000   \n",
       "height               1475.000000  1475.000000  1475.000000  1475.000000   \n",
       "gross_weight         1051.000000  1051.000000  1051.000000  1155.000000   \n",
       "ncap_rating             0.000000     0.000000     0.000000     0.000000   \n",
       "is_claim                0.000000     0.000000     0.000000     0.000000   \n",
       "\n",
       "                              5%          10%          25%          50%  \\\n",
       "policy_tenure           0.042945     0.081874     0.210250     0.573792   \n",
       "age_of_car              0.000000     0.010000     0.020000     0.060000   \n",
       "age_of_policyholder     0.298077     0.317308     0.365385     0.451923   \n",
       "population_density   4076.000000  4076.000000  6112.000000  8794.000000   \n",
       "make                    1.000000     1.000000     1.000000     1.000000   \n",
       "airbags                 2.000000     2.000000     2.000000     2.000000   \n",
       "displacement          796.000000   796.000000   796.000000  1197.000000   \n",
       "cylinder                3.000000     3.000000     3.000000     4.000000   \n",
       "gear_box                5.000000     5.000000     5.000000     5.000000   \n",
       "turning_radius          4.600000     4.600000     4.600000     4.800000   \n",
       "length               3445.000000  3445.000000  3445.000000  3845.000000   \n",
       "width                1515.000000  1515.000000  1515.000000  1735.000000   \n",
       "height               1475.000000  1475.000000  1475.000000  1530.000000   \n",
       "gross_weight         1155.000000  1185.000000  1185.000000  1335.000000   \n",
       "ncap_rating             0.000000     0.000000     0.000000     2.000000   \n",
       "is_claim                0.000000     0.000000     0.000000     0.000000   \n",
       "\n",
       "                              75%           90%           95%           96%  \\\n",
       "policy_tenure            1.039104      1.159637      1.204138      1.213437   \n",
       "age_of_car               0.110000      0.150000      0.170000      0.170000   \n",
       "age_of_policyholder      0.548077      0.644231      0.701923      0.721154   \n",
       "population_density   27003.000000  34738.000000  73430.000000  73430.000000   \n",
       "make                     3.000000      3.000000      4.000000      4.000000   \n",
       "airbags                  6.000000      6.000000      6.000000      6.000000   \n",
       "displacement          1493.000000   1493.000000   1497.000000   1497.000000   \n",
       "cylinder                 4.000000      4.000000      4.000000      4.000000   \n",
       "gear_box                 5.000000      6.000000      6.000000      6.000000   \n",
       "turning_radius           5.000000      5.200000      5.200000      5.200000   \n",
       "length                3995.000000   4300.000000   4300.000000   4300.000000   \n",
       "width                 1755.000000   1790.000000   1790.000000   1790.000000   \n",
       "height                1635.000000   1635.000000   1675.000000   1675.000000   \n",
       "gross_weight          1510.000000   1720.000000   1720.000000   1720.000000   \n",
       "ncap_rating              3.000000      3.000000      4.000000      4.000000   \n",
       "is_claim                 0.000000      0.000000      1.000000      1.000000   \n",
       "\n",
       "                              97%           98%           99%           max  \n",
       "policy_tenure            1.223046      1.232179      1.241190      1.396641  \n",
       "age_of_car               0.180000      0.190000      0.210000      1.000000  \n",
       "age_of_policyholder      0.740385      0.759615      0.788462      1.000000  \n",
       "population_density   73430.000000  73430.000000  73430.000000  73430.000000  \n",
       "make                     5.000000      5.000000      5.000000      5.000000  \n",
       "airbags                  6.000000      6.000000      6.000000      6.000000  \n",
       "displacement          1498.000000   1498.000000   1498.000000   1498.000000  \n",
       "cylinder                 4.000000      4.000000      4.000000      4.000000  \n",
       "gear_box                 6.000000      6.000000      6.000000      6.000000  \n",
       "turning_radius           5.200000      5.200000      5.200000      5.200000  \n",
       "length                4300.000000   4300.000000   4300.000000   4300.000000  \n",
       "width                 1790.000000   1790.000000   1790.000000   1811.000000  \n",
       "height                1675.000000   1825.000000   1825.000000   1825.000000  \n",
       "gross_weight          1720.000000   1720.000000   1720.000000   1720.000000  \n",
       "ncap_rating              5.000000      5.000000      5.000000      5.000000  \n",
       "is_claim                 1.000000      1.000000      1.000000      1.000000  "
      ]
     },
     "execution_count": 374,
     "metadata": {},
     "output_type": "execute_result"
    }
   ],
   "source": [
    "train.describe(percentiles=[0.01,.02,.03,.04,.05,.1,.25,.5,.75,.9,.95,.96,.97,.98,.99]).T"
   ]
  },
  {
   "cell_type": "code",
   "execution_count": 375,
   "id": "31e9bc93",
   "metadata": {},
   "outputs": [
    {
     "data": {
      "text/plain": [
       "['age_of_car']"
      ]
     },
     "execution_count": 375,
     "metadata": {},
     "output_type": "execute_result"
    }
   ],
   "source": [
    "outliers"
   ]
  },
  {
   "cell_type": "code",
   "execution_count": 376,
   "id": "f8d98c50",
   "metadata": {},
   "outputs": [
    {
     "data": {
      "image/png": "[encoded data removed]",
      "text/plain": [
       "<Figure size 432x288 with 1 Axes>"
      ]
     },
     "metadata": {
      "needs_background": "light"
     },
     "output_type": "display_data"
    },
    {
     "data": {
      "image/png": "[encoded data removed]",
      "text/plain": [
       "<Figure size 432x288 with 1 Axes>"
      ]
     },
     "metadata": {
      "needs_background": "light"
     },
     "output_type": "display_data"
    },
    {
     "data": {
      "image/png": "[encoded data removed]",
      "text/plain": [
       "<Figure size 432x288 with 1 Axes>"
      ]
     },
     "metadata": {
      "needs_background": "light"
     },
     "output_type": "display_data"
    },
    {
     "data": {
      "image/png": "[encoded data removed]",
      "text/plain": [
       "<Figure size 432x288 with 1 Axes>"
      ]
     },
     "metadata": {
      "needs_background": "light"
     },
     "output_type": "display_data"
    },
    {
     "data": {
      "image/png": "[encoded data removed]",
      "text/plain": [
       "<Figure size 432x288 with 1 Axes>"
      ]
     },
     "metadata": {
      "needs_background": "light"
     },
     "output_type": "display_data"
    },
    {
     "data": {
      "image/png": "[encoded data removed]",
      "text/plain": [
       "<Figure size 432x288 with 1 Axes>"
      ]
     },
     "metadata": {
      "needs_background": "light"
     },
     "output_type": "display_data"
    },
    {
     "data": {
      "image/png": "[encoded data removed]",
      "text/plain": [
       "<Figure size 432x288 with 1 Axes>"
      ]
     },
     "metadata": {
      "needs_background": "light"
     },
     "output_type": "display_data"
    },
    {
     "data": {
      "image/png": "[encoded data removed]",
      "text/plain": [
       "<Figure size 432x288 with 1 Axes>"
      ]
     },
     "metadata": {
      "needs_background": "light"
     },
     "output_type": "display_data"
    },
    {
     "data": {
      "image/png": "[encoded data removed]",
      "text/plain": [
       "<Figure size 432x288 with 1 Axes>"
      ]
     },
     "metadata": {
      "needs_background": "light"
     },
     "output_type": "display_data"
    },
    {
     "data": {
      "image/png": "[encoded data removed]",
      "text/plain": [
       "<Figure size 432x288 with 1 Axes>"
      ]
     },
     "metadata": {
      "needs_background": "light"
     },
     "output_type": "display_data"
    },
    {
     "data": {
      "image/png": "[encoded data removed]",
      "text/plain": [
       "<Figure size 432x288 with 1 Axes>"
      ]
     },
     "metadata": {
      "needs_background": "light"
     },
     "output_type": "display_data"
    },
    {
     "data": {
      "image/png": "[encoded data removed]",
      "text/plain": [
       "<Figure size 432x288 with 1 Axes>"
      ]
     },
     "metadata": {
      "needs_background": "light"
     },
     "output_type": "display_data"
    },
    {
     "data": {
      "image/png": "[encoded data removed]",
      "text/plain": [
       "<Figure size 432x288 with 1 Axes>"
      ]
     },
     "metadata": {
      "needs_background": "light"
     },
     "output_type": "display_data"
    },
    {
     "data": {
      "image/png": "[encoded data removed]",
      "text/plain": [
       "<Figure size 432x288 with 1 Axes>"
      ]
     },
     "metadata": {
      "needs_background": "light"
     },
     "output_type": "display_data"
    },
    {
     "data": {
      "image/png": "[encoded data removed]",
      "text/plain": [
       "<Figure size 432x288 with 1 Axes>"
      ]
     },
     "metadata": {
      "needs_background": "light"
     },
     "output_type": "display_data"
    },
    {
     "data": {
      "image/png": "[encoded data removed]",
      "text/plain": [
       "<Figure size 432x288 with 1 Axes>"
      ]
     },
     "metadata": {
      "needs_background": "light"
     },
     "output_type": "display_data"
    }
   ],
   "source": [
    "for i in num:\n",
    "    sns.boxplot(train[i])\n",
    "    plt.title(i)\n",
    "    plt.show()"
   ]
  },
  {
   "cell_type": "code",
   "execution_count": 377,
   "id": "75b3e44a",
   "metadata": {},
   "outputs": [],
   "source": [
    "# outliers\n",
    "outliers=['age_of_car']"
   ]
  },
  {
   "cell_type": "code",
   "execution_count": 378,
   "id": "8e00e5cb",
   "metadata": {},
   "outputs": [],
   "source": [
    "train['age_of_car']=np.where(train['age_of_car']>=0.21,0.21,train['age_of_car'])"
   ]
  },
  {
   "cell_type": "code",
   "execution_count": 379,
   "id": "56392142",
   "metadata": {},
   "outputs": [
    {
     "name": "stdout",
     "output_type": "stream",
     "text": [
      "2\n",
      "0    54844\n",
      "1     3748\n",
      "Name: is_claim, dtype: int64\n"
     ]
    },
    {
     "data": {
      "image/png": "[encoded data removed]",
      "text/plain": [
       "<Figure size 576x576 with 1 Axes>"
      ]
     },
     "metadata": {
      "needs_background": "light"
     },
     "output_type": "display_data"
    }
   ],
   "source": [
    "uni_variate('is_claim')"
   ]
  },
  {
   "cell_type": "code",
   "execution_count": 380,
   "id": "547caa0c",
   "metadata": {},
   "outputs": [
    {
     "data": {
      "image/png": "[encoded data removed]",
      "text/plain": [
       "<Figure size 576x576 with 2 Axes>"
      ]
     },
     "metadata": {
      "needs_background": "light"
     },
     "output_type": "display_data"
    }
   ],
   "source": [
    "cor=train.corr()\n",
    "cor_el=cor[abs(cor)>0.5]\n",
    "plt.figure(figsize=(8,8))\n",
    "sns.heatmap(cor,annot=True,cmap='coolwarm')\n",
    "plt.show()"
   ]
  },
  {
   "cell_type": "code",
   "execution_count": 396,
   "id": "871c6f9d",
   "metadata": {},
   "outputs": [],
   "source": [
    "train.drop(['make','cylinder','fuel_type','airbags','displacement','length','gear_box','turning_radius'],axis=1,inplace=True)\n",
    "test.drop(['make','cylinder','fuel_type','airbags','displacement','length','gear_box','turning_radius'],axis=1,inplace=True)"
   ]
  },
  {
   "cell_type": "code",
   "execution_count": 407,
   "id": "ba22e2ba",
   "metadata": {},
   "outputs": [
    {
     "name": "stdout",
     "output_type": "stream",
     "text": [
      "(58592, 35)\n",
      "(39063, 34)\n",
      "23\n",
      "12\n"
     ]
    }
   ],
   "source": [
    "print(train.shape)\n",
    "print(test.shape)\n",
    "print(len(obj))\n",
    "print(len(num))"
   ]
  },
  {
   "cell_type": "code",
   "execution_count": 408,
   "id": "b3ee7552",
   "metadata": {},
   "outputs": [],
   "source": [
    "ll=LabelEncoder()\n",
    "for i in obj:\n",
    "    train[i]=ll.fit_transform(train[i])\n",
    "    test[i]=ll.fit_transform(test[i])"
   ]
  },
  {
   "cell_type": "code",
   "execution_count": 411,
   "id": "754f55b0",
   "metadata": {},
   "outputs": [],
   "source": [
    "x=train.drop('is_claim',axis=1)\n",
    "y=train['is_claim']"
   ]
  },
  {
   "cell_type": "code",
   "execution_count": 412,
   "id": "d3daef2f",
   "metadata": {},
   "outputs": [
    {
     "name": "stdout",
     "output_type": "stream",
     "text": [
      "(58592, 34)\n",
      "(58592,)\n"
     ]
    }
   ],
   "source": [
    "print(x.shape)\n",
    "print(y.shape)"
   ]
  },
  {
   "cell_type": "code",
   "execution_count": null,
   "id": "0f0a67a1",
   "metadata": {},
   "outputs": [],
   "source": [
    "# train-test split\n",
    "x_train,x_test,y_train,y_test=train_test_split(x,y,test_size=0.25,random_state=2)"
   ]
  },
  {
   "cell_type": "code",
   "execution_count": 434,
   "id": "fe7eddd0",
   "metadata": {},
   "outputs": [
    {
     "name": "stdout",
     "output_type": "stream",
     "text": [
      "(43944, 34)\n",
      "(43944,)\n",
      "(14648, 34)\n",
      "(14648,)\n"
     ]
    }
   ],
   "source": [
    "print(x_train.shape)\n",
    "print(y_train.shape)\n",
    "print(x_test.shape)\n",
    "print(y_test.shape)"
   ]
  },
  {
   "cell_type": "code",
   "execution_count": 420,
   "id": "ea3a5264",
   "metadata": {},
   "outputs": [
    {
     "name": "stdout",
     "output_type": "stream",
     "text": [
      "0    93.603222\n",
      "1     6.396778\n",
      "Name: is_claim, dtype: float64\n"
     ]
    }
   ],
   "source": [
    "print((y.value_counts()/y.shape[0])*100)\n",
    "# target variable is imbalanced so we have to balance it and we can do balancing by either doing oversapmling or undersampling "
   ]
  },
  {
   "cell_type": "code",
   "execution_count": 431,
   "id": "5fc3ac7c",
   "metadata": {},
   "outputs": [],
   "source": [
    "#oversampling - SMOTE \n",
    "ss=SMOTE()\n",
    "x_train_bal,y_train_bal=ss.fit_resample(x_train,y_train)\n",
    "x_test_bal,y_test_bal=ss.fit_resample(x_test,y_test)"
   ]
  },
  {
   "cell_type": "code",
   "execution_count": 436,
   "id": "985d2949",
   "metadata": {},
   "outputs": [
    {
     "name": "stdout",
     "output_type": "stream",
     "text": [
      "(82320, 34)\n",
      "(82320,)\n",
      "(27368, 34)\n",
      "(27368,)\n",
      "0    13684\n",
      "1    13684\n",
      "Name: is_claim, dtype: int64\n"
     ]
    }
   ],
   "source": [
    "print(x_train_bal.shape)\n",
    "print(y_train_bal.shape)\n",
    "print(x_test_bal.shape)\n",
    "print(y_test_bal.shape)\n",
    "print(y_test_bal.value_counts())"
   ]
  },
  {
   "cell_type": "code",
   "execution_count": 482,
   "id": "189d8a24",
   "metadata": {},
   "outputs": [],
   "source": [
    "# Standard scaling\n",
    "ss=StandardScaler()\n",
    "x_train_stan=ss.fit_transform(x_train)\n",
    "x_test_stan=ss.fit_transform(x_test)\n",
    "# balanced data\n",
    "x_train_stan_bal=ss.fit_transform(x_train_bal)\n",
    "x_test_stan_bal=ss.fit_transform(x_test_bal)\n",
    "from sklearn.metrics import roc_curve"
   ]
  },
  {
   "cell_type": "code",
   "execution_count": 517,
   "id": "a42e4b5a",
   "metadata": {},
   "outputs": [],
   "source": [
    "def evaluation_metrics(model,x_train,y_train,x_test,y_test):\n",
    "    model.fit(x_train,y_train)\n",
    "    print('training accuracy is',model.score(x_train,y_train))\n",
    "    print('validation accuracy is',model.score(x_test,y_test))\n",
    "    y_pred=model.predict(x_train)\n",
    "    print(confusion_matrix(y_train,y_pred))\n",
    "    print(classification_report(y_train,y_pred))"
   ]
  },
  {
   "cell_type": "code",
   "execution_count": 499,
   "id": "49e516d0",
   "metadata": {},
   "outputs": [
    {
     "name": "stdout",
     "output_type": "stream",
     "text": [
      "training accuracy is 0.9366466411796832\n",
      "validation accuracy is 0.934188967777171\n",
      "[[41160     0]\n",
      " [ 2784     0]]\n",
      "              precision    recall  f1-score   support\n",
      "\n",
      "           0       0.94      1.00      0.97     41160\n",
      "           1       0.00      0.00      0.00      2784\n",
      "\n",
      "    accuracy                           0.94     43944\n",
      "   macro avg       0.47      0.50      0.48     43944\n",
      "weighted avg       0.88      0.94      0.91     43944\n",
      "\n"
     ]
    }
   ],
   "source": [
    "# Imbalanced data \n",
    "model=LogisticRegression()\n",
    "evaluation_metrics(model,x_train_stan,y_train,x_test_stan,y_test)"
   ]
  },
  {
   "cell_type": "code",
   "execution_count": 440,
   "id": "fe89af9c",
   "metadata": {},
   "outputs": [
    {
     "name": "stdout",
     "output_type": "stream",
     "text": [
      "training accuracy is 0.5913751214771623\n",
      "validation accuracy is 0.5849166910260157\n",
      "[[24380 16780]\n",
      " [16858 24302]]\n",
      "              precision    recall  f1-score   support\n",
      "\n",
      "           0       0.59      0.59      0.59     41160\n",
      "           1       0.59      0.59      0.59     41160\n",
      "\n",
      "    accuracy                           0.59     82320\n",
      "   macro avg       0.59      0.59      0.59     82320\n",
      "weighted avg       0.59      0.59      0.59     82320\n",
      "\n"
     ]
    }
   ],
   "source": [
    "# Imbalanced data \n",
    "model=LogisticRegression()\n",
    "evaluation_metrics(model,x_train_stan_bal,y_train_bal,x_test_stan_bal,y_test_bal)"
   ]
  },
  {
   "cell_type": "code",
   "execution_count": 511,
   "id": "0172e814",
   "metadata": {},
   "outputs": [],
   "source": [
    "## RandomForest Classifier\n",
    "rf=RandomForestClassifier()"
   ]
  },
  {
   "cell_type": "code",
   "execution_count": 512,
   "id": "9a8bd496",
   "metadata": {},
   "outputs": [],
   "source": [
    "params={'n_estimators':[100,150],'max_depth':[5,7],'min_samples_split':[100,400]}\n",
    "gg=GridSearchCV(rf,param_grid=params,n_jobs=-1,refit=True,cv=5,verbose=0)"
   ]
  },
  {
   "cell_type": "code",
   "execution_count": 513,
   "id": "a2bbe193",
   "metadata": {},
   "outputs": [
    {
     "data": {
      "text/html": [
       "<style>#sk-container-id-5 {color: black;background-color: white;}#sk-container-id-5 pre{padding: 0;}#sk-container-id-5 div.sk-toggleable {background-color: white;}#sk-container-id-5 label.sk-toggleable__label {cursor: pointer;display: block;width: 100%;margin-bottom: 0;padding: 0.3em;box-sizing: border-box;text-align: center;}#sk-container-id-5 label.sk-toggleable__label-arrow:before {content: \"▸\";float: left;margin-right: 0.25em;color: #696969;}#sk-container-id-5 label.sk-toggleable__label-arrow:hover:before {color: black;}#sk-container-id-5 div.sk-estimator:hover label.sk-toggleable__label-arrow:before {color: black;}#sk-container-id-5 div.sk-toggleable__content {max-height: 0;max-width: 0;overflow: hidden;text-align: left;background-color: #f0f8ff;}#sk-container-id-5 div.sk-toggleable__content pre {margin: 0.2em;color: black;border-radius: 0.25em;background-color: #f0f8ff;}#sk-container-id-5 input.sk-toggleable__control:checked~div.sk-toggleable__content {max-height: 200px;max-width: 100%;overflow: auto;}#sk-container-id-5 input.sk-toggleable__control:checked~label.sk-toggleable__label-arrow:before {content: \"▾\";}#sk-container-id-5 div.sk-estimator input.sk-toggleable__control:checked~label.sk-toggleable__label {background-color: #d4ebff;}#sk-container-id-5 div.sk-label input.sk-toggleable__control:checked~label.sk-toggleable__label {background-color: #d4ebff;}#sk-container-id-5 input.sk-hidden--visually {border: 0;clip: rect(1px 1px 1px 1px);clip: rect(1px, 1px, 1px, 1px);height: 1px;margin: -1px;overflow: hidden;padding: 0;position: absolute;width: 1px;}#sk-container-id-5 div.sk-estimator {font-family: monospace;background-color: #f0f8ff;border: 1px dotted black;border-radius: 0.25em;box-sizing: border-box;margin-bottom: 0.5em;}#sk-container-id-5 div.sk-estimator:hover {background-color: #d4ebff;}#sk-container-id-5 div.sk-parallel-item::after {content: \"\";width: 100%;border-bottom: 1px solid gray;flex-grow: 1;}#sk-container-id-5 div.sk-label:hover label.sk-toggleable__label {background-color: #d4ebff;}#sk-container-id-5 div.sk-serial::before {content: \"\";position: absolute;border-left: 1px solid gray;box-sizing: border-box;top: 0;bottom: 0;left: 50%;z-index: 0;}#sk-container-id-5 div.sk-serial {display: flex;flex-direction: column;align-items: center;background-color: white;padding-right: 0.2em;padding-left: 0.2em;position: relative;}#sk-container-id-5 div.sk-item {position: relative;z-index: 1;}#sk-container-id-5 div.sk-parallel {display: flex;align-items: stretch;justify-content: center;background-color: white;position: relative;}#sk-container-id-5 div.sk-item::before, #sk-container-id-5 div.sk-parallel-item::before {content: \"\";position: absolute;border-left: 1px solid gray;box-sizing: border-box;top: 0;bottom: 0;left: 50%;z-index: -1;}#sk-container-id-5 div.sk-parallel-item {display: flex;flex-direction: column;z-index: 1;position: relative;background-color: white;}#sk-container-id-5 div.sk-parallel-item:first-child::after {align-self: flex-end;width: 50%;}#sk-container-id-5 div.sk-parallel-item:last-child::after {align-self: flex-start;width: 50%;}#sk-container-id-5 div.sk-parallel-item:only-child::after {width: 0;}#sk-container-id-5 div.sk-dashed-wrapped {border: 1px dashed gray;margin: 0 0.4em 0.5em 0.4em;box-sizing: border-box;padding-bottom: 0.4em;background-color: white;}#sk-container-id-5 div.sk-label label {font-family: monospace;font-weight: bold;display: inline-block;line-height: 1.2em;}#sk-container-id-5 div.sk-label-container {text-align: center;}#sk-container-id-5 div.sk-container {/* jupyter's `normalize.less` sets `[hidden] { display: none; }` but bootstrap.min.css set `[hidden] { display: none !important; }` so we also need the `!important` here to be able to override the default hidden behavior on the sphinx rendered scikit-learn.org. See: https://github.com/scikit-learn/scikit-learn/issues/21755 */display: inline-block !important;position: relative;}#sk-container-id-5 div.sk-text-repr-fallback {display: none;}</style><div id=\"sk-container-id-5\" class=\"sk-top-container\"><div class=\"sk-text-repr-fallback\"><pre>GridSearchCV(cv=5, estimator=RandomForestClassifier(), n_jobs=-1,\n",
       "             param_grid={&#x27;max_depth&#x27;: [5, 7], &#x27;min_samples_split&#x27;: [100, 400],\n",
       "                         &#x27;n_estimators&#x27;: [100, 150]})</pre><b>In a Jupyter environment, please rerun this cell to show the HTML representation or trust the notebook. <br />On GitHub, the HTML representation is unable to render, please try loading this page with nbviewer.org.</b></div><div class=\"sk-container\" hidden><div class=\"sk-item sk-dashed-wrapped\"><div class=\"sk-label-container\"><div class=\"sk-label sk-toggleable\"><input class=\"sk-toggleable__control sk-hidden--visually\" id=\"sk-estimator-id-5\" type=\"checkbox\" ><label for=\"sk-estimator-id-5\" class=\"sk-toggleable__label sk-toggleable__label-arrow\">GridSearchCV</label><div class=\"sk-toggleable__content\"><pre>GridSearchCV(cv=5, estimator=RandomForestClassifier(), n_jobs=-1,\n",
       "             param_grid={&#x27;max_depth&#x27;: [5, 7], &#x27;min_samples_split&#x27;: [100, 400],\n",
       "                         &#x27;n_estimators&#x27;: [100, 150]})</pre></div></div></div><div class=\"sk-parallel\"><div class=\"sk-parallel-item\"><div class=\"sk-item\"><div class=\"sk-label-container\"><div class=\"sk-label sk-toggleable\"><input class=\"sk-toggleable__control sk-hidden--visually\" id=\"sk-estimator-id-6\" type=\"checkbox\" ><label for=\"sk-estimator-id-6\" class=\"sk-toggleable__label sk-toggleable__label-arrow\">estimator: RandomForestClassifier</label><div class=\"sk-toggleable__content\"><pre>RandomForestClassifier()</pre></div></div></div><div class=\"sk-serial\"><div class=\"sk-item\"><div class=\"sk-estimator sk-toggleable\"><input class=\"sk-toggleable__control sk-hidden--visually\" id=\"sk-estimator-id-7\" type=\"checkbox\" ><label for=\"sk-estimator-id-7\" class=\"sk-toggleable__label sk-toggleable__label-arrow\">RandomForestClassifier</label><div class=\"sk-toggleable__content\"><pre>RandomForestClassifier()</pre></div></div></div></div></div></div></div></div></div></div>"
      ],
      "text/plain": [
       "GridSearchCV(cv=5, estimator=RandomForestClassifier(), n_jobs=-1,\n",
       "             param_grid={'max_depth': [5, 7], 'min_samples_split': [100, 400],\n",
       "                         'n_estimators': [100, 150]})"
      ]
     },
     "execution_count": 513,
     "metadata": {},
     "output_type": "execute_result"
    }
   ],
   "source": [
    "gg.fit(x_train_bal,y_train_bal)"
   ]
  },
  {
   "cell_type": "code",
   "execution_count": 514,
   "id": "87d870b9",
   "metadata": {},
   "outputs": [
    {
     "data": {
      "text/html": [
       "<style>#sk-container-id-6 {color: black;background-color: white;}#sk-container-id-6 pre{padding: 0;}#sk-container-id-6 div.sk-toggleable {background-color: white;}#sk-container-id-6 label.sk-toggleable__label {cursor: pointer;display: block;width: 100%;margin-bottom: 0;padding: 0.3em;box-sizing: border-box;text-align: center;}#sk-container-id-6 label.sk-toggleable__label-arrow:before {content: \"▸\";float: left;margin-right: 0.25em;color: #696969;}#sk-container-id-6 label.sk-toggleable__label-arrow:hover:before {color: black;}#sk-container-id-6 div.sk-estimator:hover label.sk-toggleable__label-arrow:before {color: black;}#sk-container-id-6 div.sk-toggleable__content {max-height: 0;max-width: 0;overflow: hidden;text-align: left;background-color: #f0f8ff;}#sk-container-id-6 div.sk-toggleable__content pre {margin: 0.2em;color: black;border-radius: 0.25em;background-color: #f0f8ff;}#sk-container-id-6 input.sk-toggleable__control:checked~div.sk-toggleable__content {max-height: 200px;max-width: 100%;overflow: auto;}#sk-container-id-6 input.sk-toggleable__control:checked~label.sk-toggleable__label-arrow:before {content: \"▾\";}#sk-container-id-6 div.sk-estimator input.sk-toggleable__control:checked~label.sk-toggleable__label {background-color: #d4ebff;}#sk-container-id-6 div.sk-label input.sk-toggleable__control:checked~label.sk-toggleable__label {background-color: #d4ebff;}#sk-container-id-6 input.sk-hidden--visually {border: 0;clip: rect(1px 1px 1px 1px);clip: rect(1px, 1px, 1px, 1px);height: 1px;margin: -1px;overflow: hidden;padding: 0;position: absolute;width: 1px;}#sk-container-id-6 div.sk-estimator {font-family: monospace;background-color: #f0f8ff;border: 1px dotted black;border-radius: 0.25em;box-sizing: border-box;margin-bottom: 0.5em;}#sk-container-id-6 div.sk-estimator:hover {background-color: #d4ebff;}#sk-container-id-6 div.sk-parallel-item::after {content: \"\";width: 100%;border-bottom: 1px solid gray;flex-grow: 1;}#sk-container-id-6 div.sk-label:hover label.sk-toggleable__label {background-color: #d4ebff;}#sk-container-id-6 div.sk-serial::before {content: \"\";position: absolute;border-left: 1px solid gray;box-sizing: border-box;top: 0;bottom: 0;left: 50%;z-index: 0;}#sk-container-id-6 div.sk-serial {display: flex;flex-direction: column;align-items: center;background-color: white;padding-right: 0.2em;padding-left: 0.2em;position: relative;}#sk-container-id-6 div.sk-item {position: relative;z-index: 1;}#sk-container-id-6 div.sk-parallel {display: flex;align-items: stretch;justify-content: center;background-color: white;position: relative;}#sk-container-id-6 div.sk-item::before, #sk-container-id-6 div.sk-parallel-item::before {content: \"\";position: absolute;border-left: 1px solid gray;box-sizing: border-box;top: 0;bottom: 0;left: 50%;z-index: -1;}#sk-container-id-6 div.sk-parallel-item {display: flex;flex-direction: column;z-index: 1;position: relative;background-color: white;}#sk-container-id-6 div.sk-parallel-item:first-child::after {align-self: flex-end;width: 50%;}#sk-container-id-6 div.sk-parallel-item:last-child::after {align-self: flex-start;width: 50%;}#sk-container-id-6 div.sk-parallel-item:only-child::after {width: 0;}#sk-container-id-6 div.sk-dashed-wrapped {border: 1px dashed gray;margin: 0 0.4em 0.5em 0.4em;box-sizing: border-box;padding-bottom: 0.4em;background-color: white;}#sk-container-id-6 div.sk-label label {font-family: monospace;font-weight: bold;display: inline-block;line-height: 1.2em;}#sk-container-id-6 div.sk-label-container {text-align: center;}#sk-container-id-6 div.sk-container {/* jupyter's `normalize.less` sets `[hidden] { display: none; }` but bootstrap.min.css set `[hidden] { display: none !important; }` so we also need the `!important` here to be able to override the default hidden behavior on the sphinx rendered scikit-learn.org. See: https://github.com/scikit-learn/scikit-learn/issues/21755 */display: inline-block !important;position: relative;}#sk-container-id-6 div.sk-text-repr-fallback {display: none;}</style><div id=\"sk-container-id-6\" class=\"sk-top-container\"><div class=\"sk-text-repr-fallback\"><pre>RandomForestClassifier(max_depth=7, min_samples_split=100)</pre><b>In a Jupyter environment, please rerun this cell to show the HTML representation or trust the notebook. <br />On GitHub, the HTML representation is unable to render, please try loading this page with nbviewer.org.</b></div><div class=\"sk-container\" hidden><div class=\"sk-item\"><div class=\"sk-estimator sk-toggleable\"><input class=\"sk-toggleable__control sk-hidden--visually\" id=\"sk-estimator-id-8\" type=\"checkbox\" checked><label for=\"sk-estimator-id-8\" class=\"sk-toggleable__label sk-toggleable__label-arrow\">RandomForestClassifier</label><div class=\"sk-toggleable__content\"><pre>RandomForestClassifier(max_depth=7, min_samples_split=100)</pre></div></div></div></div></div>"
      ],
      "text/plain": [
       "RandomForestClassifier(max_depth=7, min_samples_split=100)"
      ]
     },
     "execution_count": 514,
     "metadata": {},
     "output_type": "execute_result"
    }
   ],
   "source": [
    "gg.best_estimator_"
   ]
  },
  {
   "cell_type": "code",
   "execution_count": 515,
   "id": "fd137efe",
   "metadata": {},
   "outputs": [
    {
     "data": {
      "text/plain": [
       "{'max_depth': 7, 'min_samples_split': 100, 'n_estimators': 100}"
      ]
     },
     "execution_count": 515,
     "metadata": {},
     "output_type": "execute_result"
    }
   ],
   "source": [
    "gg.best_params_"
   ]
  },
  {
   "cell_type": "code",
   "execution_count": 520,
   "id": "bc0a8c7a",
   "metadata": {},
   "outputs": [
    {
     "name": "stdout",
     "output_type": "stream",
     "text": [
      "training accuracy is 0.7051506316812439\n",
      "validation accuracy is 0.6772142648348436\n",
      "[[25883 15277]\n",
      " [ 8995 32165]]\n",
      "              precision    recall  f1-score   support\n",
      "\n",
      "           0       0.74      0.63      0.68     41160\n",
      "           1       0.68      0.78      0.73     41160\n",
      "\n",
      "    accuracy                           0.71     82320\n",
      "   macro avg       0.71      0.71      0.70     82320\n",
      "weighted avg       0.71      0.71      0.70     82320\n",
      "\n"
     ]
    }
   ],
   "source": [
    "rf=RandomForestClassifier(max_depth=7,min_samples_split=100)\n",
    "evaluation_metrics(rf,x_train_bal,y_train_bal,x_test_bal,y_test_bal)"
   ]
  },
  {
   "cell_type": "code",
   "execution_count": 523,
   "id": "33553271",
   "metadata": {},
   "outputs": [
    {
     "name": "stdout",
     "output_type": "stream",
     "text": [
      "training accuracy is 0.7766642371234208\n",
      "validation accuracy is 0.7092589885998246\n",
      "[[27969 13191]\n",
      " [ 5194 35966]]\n",
      "              precision    recall  f1-score   support\n",
      "\n",
      "           0       0.84      0.68      0.75     41160\n",
      "           1       0.73      0.87      0.80     41160\n",
      "\n",
      "    accuracy                           0.78     82320\n",
      "   macro avg       0.79      0.78      0.77     82320\n",
      "weighted avg       0.79      0.78      0.77     82320\n",
      "\n"
     ]
    }
   ],
   "source": [
    "clf=RandomForestClassifier(n_estimators=500,criterion='gini',max_depth=12,min_samples_leaf=1,min_samples_split=5,random_state=1,n_jobs=None)\n",
    "evaluation_metrics(clf,x_train_bal,y_train_bal,x_test_bal,y_test_bal)"
   ]
  },
  {
   "cell_type": "code",
   "execution_count": null,
   "id": "7822f7e0",
   "metadata": {},
   "outputs": [],
   "source": []
  }
 ],
 "metadata": {
  "kernelspec": {
   "display_name": "Python 3 (ipykernel)",
   "language": "python",
   "name": "python3"
  },
  "language_info": {
   "codemirror_mode": {
    "name": "ipython",
    "version": 3
   },
   "file_extension": ".py",
   "mimetype": "text/x-python",
   "name": "python",
   "nbconvert_exporter": "python",
   "pygments_lexer": "ipython3",
   "version": "3.9.12"
  }
 },
 "nbformat": 4,
 "nbformat_minor": 5
}
